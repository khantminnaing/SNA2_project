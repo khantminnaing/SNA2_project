{
  "cells": [
    {
      "cell_type": "markdown",
      "metadata": {
        "id": "y485pSKTI0SM"
      },
      "source": [
        "#SNA2 : Social Network Analysis Project\n",
        "\n",
        "This is \"[a] network of books about US politics published around the time of the 2004 presidential election and sold by the online bookseller Amazon.com. Edges between books represent frequent copurchasing of books by the same buyers. The network was compiled by V. Krebs and is unpublished, but can found on Krebs' web site (http://www.orgnet.com/).\n"
      ]
    },
    {
      "cell_type": "markdown",
      "metadata": {
        "id": "or4x5w8SI0nQ"
      },
      "source": [
        "##**1. Data Preparation**"
      ]
    },
    {
      "cell_type": "code",
      "execution_count": 1,
      "metadata": {
        "id": "qywjI5Z4qOoF",
        "colab": {
          "base_uri": "https://localhost:8080/"
        },
        "outputId": "8edd0a17-8dab-47bf-e7c8-d943457e9319"
      },
      "outputs": [
        {
          "output_type": "stream",
          "name": "stdout",
          "text": [
            "Mounted at /content/drive\n",
            "/content/drive/Shared drives/SNA group project\n"
          ]
        }
      ],
      "source": [
        "from google.colab import drive\n",
        "drive.mount('/content/drive')\n",
        "\n",
        "# change path to the designated google drive folder\n",
        "# otherwise, data will be saved in /content folder which you may have issue locating\n",
        "%cd /content/drive/Shared drives/SNA group project"
      ]
    },
    {
      "cell_type": "code",
      "execution_count": 2,
      "metadata": {
        "id": "_FBotE57qSZa",
        "colab": {
          "base_uri": "https://localhost:8080/"
        },
        "outputId": "dede5b45-b24d-4048-ccb4-3dd1abe7df75"
      },
      "outputs": [
        {
          "output_type": "stream",
          "name": "stdout",
          "text": [
            "Looking in indexes: https://pypi.org/simple, https://us-python.pkg.dev/colab-wheels/public/simple/\n",
            "Collecting ipysigma\n",
            "  Downloading ipysigma-0.24.1-py2.py3-none-any.whl (2.6 MB)\n",
            "\u001b[2K     \u001b[90m━━━━━━━━━━━━━━━━━━━━━━━━━━━━━━━━━━━━━━━━\u001b[0m \u001b[32m2.6/2.6 MB\u001b[0m \u001b[31m4.2 MB/s\u001b[0m eta \u001b[36m0:00:00\u001b[0m\n",
            "\u001b[?25hRequirement already satisfied: ipywidgets>=7.0.0 in /usr/local/lib/python3.10/dist-packages (from ipysigma) (7.7.1)\n",
            "Requirement already satisfied: traitlets>=4.3.1 in /usr/local/lib/python3.10/dist-packages (from ipywidgets>=7.0.0->ipysigma) (5.7.1)\n",
            "Requirement already satisfied: widgetsnbextension~=3.6.0 in /usr/local/lib/python3.10/dist-packages (from ipywidgets>=7.0.0->ipysigma) (3.6.4)\n",
            "Requirement already satisfied: ipython-genutils~=0.2.0 in /usr/local/lib/python3.10/dist-packages (from ipywidgets>=7.0.0->ipysigma) (0.2.0)\n",
            "Requirement already satisfied: ipython>=4.0.0 in /usr/local/lib/python3.10/dist-packages (from ipywidgets>=7.0.0->ipysigma) (7.34.0)\n",
            "Requirement already satisfied: ipykernel>=4.5.1 in /usr/local/lib/python3.10/dist-packages (from ipywidgets>=7.0.0->ipysigma) (5.5.6)\n",
            "Requirement already satisfied: jupyterlab-widgets>=1.0.0 in /usr/local/lib/python3.10/dist-packages (from ipywidgets>=7.0.0->ipysigma) (3.0.7)\n",
            "Requirement already satisfied: jupyter-client in /usr/local/lib/python3.10/dist-packages (from ipykernel>=4.5.1->ipywidgets>=7.0.0->ipysigma) (6.1.12)\n",
            "Requirement already satisfied: tornado>=4.2 in /usr/local/lib/python3.10/dist-packages (from ipykernel>=4.5.1->ipywidgets>=7.0.0->ipysigma) (6.2)\n",
            "Requirement already satisfied: prompt-toolkit!=3.0.0,!=3.0.1,<3.1.0,>=2.0.0 in /usr/local/lib/python3.10/dist-packages (from ipython>=4.0.0->ipywidgets>=7.0.0->ipysigma) (3.0.38)\n",
            "Requirement already satisfied: backcall in /usr/local/lib/python3.10/dist-packages (from ipython>=4.0.0->ipywidgets>=7.0.0->ipysigma) (0.2.0)\n",
            "Requirement already satisfied: setuptools>=18.5 in /usr/local/lib/python3.10/dist-packages (from ipython>=4.0.0->ipywidgets>=7.0.0->ipysigma) (67.7.2)\n",
            "Collecting jedi>=0.16\n",
            "  Downloading jedi-0.18.2-py2.py3-none-any.whl (1.6 MB)\n",
            "\u001b[2K     \u001b[90m━━━━━━━━━━━━━━━━━━━━━━━━━━━━━━━━━━━━━━━━\u001b[0m \u001b[32m1.6/1.6 MB\u001b[0m \u001b[31m69.9 MB/s\u001b[0m eta \u001b[36m0:00:00\u001b[0m\n",
            "\u001b[?25hRequirement already satisfied: pickleshare in /usr/local/lib/python3.10/dist-packages (from ipython>=4.0.0->ipywidgets>=7.0.0->ipysigma) (0.7.5)\n",
            "Requirement already satisfied: pygments in /usr/local/lib/python3.10/dist-packages (from ipython>=4.0.0->ipywidgets>=7.0.0->ipysigma) (2.14.0)\n",
            "Requirement already satisfied: matplotlib-inline in /usr/local/lib/python3.10/dist-packages (from ipython>=4.0.0->ipywidgets>=7.0.0->ipysigma) (0.1.6)\n",
            "Requirement already satisfied: decorator in /usr/local/lib/python3.10/dist-packages (from ipython>=4.0.0->ipywidgets>=7.0.0->ipysigma) (4.4.2)\n",
            "Requirement already satisfied: pexpect>4.3 in /usr/local/lib/python3.10/dist-packages (from ipython>=4.0.0->ipywidgets>=7.0.0->ipysigma) (4.8.0)\n",
            "Requirement already satisfied: notebook>=4.4.1 in /usr/local/lib/python3.10/dist-packages (from widgetsnbextension~=3.6.0->ipywidgets>=7.0.0->ipysigma) (6.4.8)\n",
            "Requirement already satisfied: parso<0.9.0,>=0.8.0 in /usr/local/lib/python3.10/dist-packages (from jedi>=0.16->ipython>=4.0.0->ipywidgets>=7.0.0->ipysigma) (0.8.3)\n",
            "Requirement already satisfied: prometheus-client in /usr/local/lib/python3.10/dist-packages (from notebook>=4.4.1->widgetsnbextension~=3.6.0->ipywidgets>=7.0.0->ipysigma) (0.16.0)\n",
            "Requirement already satisfied: nbformat in /usr/local/lib/python3.10/dist-packages (from notebook>=4.4.1->widgetsnbextension~=3.6.0->ipywidgets>=7.0.0->ipysigma) (5.8.0)\n",
            "Requirement already satisfied: nest-asyncio>=1.5 in /usr/local/lib/python3.10/dist-packages (from notebook>=4.4.1->widgetsnbextension~=3.6.0->ipywidgets>=7.0.0->ipysigma) (1.5.6)\n",
            "Requirement already satisfied: nbconvert in /usr/local/lib/python3.10/dist-packages (from notebook>=4.4.1->widgetsnbextension~=3.6.0->ipywidgets>=7.0.0->ipysigma) (6.5.4)\n",
            "Requirement already satisfied: jupyter-core>=4.6.1 in /usr/local/lib/python3.10/dist-packages (from notebook>=4.4.1->widgetsnbextension~=3.6.0->ipywidgets>=7.0.0->ipysigma) (5.3.0)\n",
            "Requirement already satisfied: Send2Trash>=1.8.0 in /usr/local/lib/python3.10/dist-packages (from notebook>=4.4.1->widgetsnbextension~=3.6.0->ipywidgets>=7.0.0->ipysigma) (1.8.0)\n",
            "Requirement already satisfied: terminado>=0.8.3 in /usr/local/lib/python3.10/dist-packages (from notebook>=4.4.1->widgetsnbextension~=3.6.0->ipywidgets>=7.0.0->ipysigma) (0.17.1)\n",
            "Requirement already satisfied: pyzmq>=17 in /usr/local/lib/python3.10/dist-packages (from notebook>=4.4.1->widgetsnbextension~=3.6.0->ipywidgets>=7.0.0->ipysigma) (23.2.1)\n",
            "Requirement already satisfied: jinja2 in /usr/local/lib/python3.10/dist-packages (from notebook>=4.4.1->widgetsnbextension~=3.6.0->ipywidgets>=7.0.0->ipysigma) (3.1.2)\n",
            "Requirement already satisfied: argon2-cffi in /usr/local/lib/python3.10/dist-packages (from notebook>=4.4.1->widgetsnbextension~=3.6.0->ipywidgets>=7.0.0->ipysigma) (21.3.0)\n",
            "Requirement already satisfied: python-dateutil>=2.1 in /usr/local/lib/python3.10/dist-packages (from jupyter-client->ipykernel>=4.5.1->ipywidgets>=7.0.0->ipysigma) (2.8.2)\n",
            "Requirement already satisfied: ptyprocess>=0.5 in /usr/local/lib/python3.10/dist-packages (from pexpect>4.3->ipython>=4.0.0->ipywidgets>=7.0.0->ipysigma) (0.7.0)\n",
            "Requirement already satisfied: wcwidth in /usr/local/lib/python3.10/dist-packages (from prompt-toolkit!=3.0.0,!=3.0.1,<3.1.0,>=2.0.0->ipython>=4.0.0->ipywidgets>=7.0.0->ipysigma) (0.2.6)\n",
            "Requirement already satisfied: platformdirs>=2.5 in /usr/local/lib/python3.10/dist-packages (from jupyter-core>=4.6.1->notebook>=4.4.1->widgetsnbextension~=3.6.0->ipywidgets>=7.0.0->ipysigma) (3.3.0)\n",
            "Requirement already satisfied: six>=1.5 in /usr/local/lib/python3.10/dist-packages (from python-dateutil>=2.1->jupyter-client->ipykernel>=4.5.1->ipywidgets>=7.0.0->ipysigma) (1.16.0)\n",
            "Requirement already satisfied: argon2-cffi-bindings in /usr/local/lib/python3.10/dist-packages (from argon2-cffi->notebook>=4.4.1->widgetsnbextension~=3.6.0->ipywidgets>=7.0.0->ipysigma) (21.2.0)\n",
            "Requirement already satisfied: MarkupSafe>=2.0 in /usr/local/lib/python3.10/dist-packages (from jinja2->notebook>=4.4.1->widgetsnbextension~=3.6.0->ipywidgets>=7.0.0->ipysigma) (2.1.2)\n",
            "Requirement already satisfied: tinycss2 in /usr/local/lib/python3.10/dist-packages (from nbconvert->notebook>=4.4.1->widgetsnbextension~=3.6.0->ipywidgets>=7.0.0->ipysigma) (1.2.1)\n",
            "Requirement already satisfied: lxml in /usr/local/lib/python3.10/dist-packages (from nbconvert->notebook>=4.4.1->widgetsnbextension~=3.6.0->ipywidgets>=7.0.0->ipysigma) (4.9.2)\n",
            "Requirement already satisfied: bleach in /usr/local/lib/python3.10/dist-packages (from nbconvert->notebook>=4.4.1->widgetsnbextension~=3.6.0->ipywidgets>=7.0.0->ipysigma) (6.0.0)\n",
            "Requirement already satisfied: jupyterlab-pygments in /usr/local/lib/python3.10/dist-packages (from nbconvert->notebook>=4.4.1->widgetsnbextension~=3.6.0->ipywidgets>=7.0.0->ipysigma) (0.2.2)\n",
            "Requirement already satisfied: defusedxml in /usr/local/lib/python3.10/dist-packages (from nbconvert->notebook>=4.4.1->widgetsnbextension~=3.6.0->ipywidgets>=7.0.0->ipysigma) (0.7.1)\n",
            "Requirement already satisfied: entrypoints>=0.2.2 in /usr/local/lib/python3.10/dist-packages (from nbconvert->notebook>=4.4.1->widgetsnbextension~=3.6.0->ipywidgets>=7.0.0->ipysigma) (0.4)\n",
            "Requirement already satisfied: beautifulsoup4 in /usr/local/lib/python3.10/dist-packages (from nbconvert->notebook>=4.4.1->widgetsnbextension~=3.6.0->ipywidgets>=7.0.0->ipysigma) (4.11.2)\n",
            "Requirement already satisfied: mistune<2,>=0.8.1 in /usr/local/lib/python3.10/dist-packages (from nbconvert->notebook>=4.4.1->widgetsnbextension~=3.6.0->ipywidgets>=7.0.0->ipysigma) (0.8.4)\n",
            "Requirement already satisfied: pandocfilters>=1.4.1 in /usr/local/lib/python3.10/dist-packages (from nbconvert->notebook>=4.4.1->widgetsnbextension~=3.6.0->ipywidgets>=7.0.0->ipysigma) (1.5.0)\n",
            "Requirement already satisfied: packaging in /usr/local/lib/python3.10/dist-packages (from nbconvert->notebook>=4.4.1->widgetsnbextension~=3.6.0->ipywidgets>=7.0.0->ipysigma) (23.1)\n",
            "Requirement already satisfied: nbclient>=0.5.0 in /usr/local/lib/python3.10/dist-packages (from nbconvert->notebook>=4.4.1->widgetsnbextension~=3.6.0->ipywidgets>=7.0.0->ipysigma) (0.7.4)\n",
            "Requirement already satisfied: fastjsonschema in /usr/local/lib/python3.10/dist-packages (from nbformat->notebook>=4.4.1->widgetsnbextension~=3.6.0->ipywidgets>=7.0.0->ipysigma) (2.16.3)\n",
            "Requirement already satisfied: jsonschema>=2.6 in /usr/local/lib/python3.10/dist-packages (from nbformat->notebook>=4.4.1->widgetsnbextension~=3.6.0->ipywidgets>=7.0.0->ipysigma) (4.3.3)\n",
            "Requirement already satisfied: attrs>=17.4.0 in /usr/local/lib/python3.10/dist-packages (from jsonschema>=2.6->nbformat->notebook>=4.4.1->widgetsnbextension~=3.6.0->ipywidgets>=7.0.0->ipysigma) (23.1.0)\n",
            "Requirement already satisfied: pyrsistent!=0.17.0,!=0.17.1,!=0.17.2,>=0.14.0 in /usr/local/lib/python3.10/dist-packages (from jsonschema>=2.6->nbformat->notebook>=4.4.1->widgetsnbextension~=3.6.0->ipywidgets>=7.0.0->ipysigma) (0.19.3)\n",
            "Requirement already satisfied: cffi>=1.0.1 in /usr/local/lib/python3.10/dist-packages (from argon2-cffi-bindings->argon2-cffi->notebook>=4.4.1->widgetsnbextension~=3.6.0->ipywidgets>=7.0.0->ipysigma) (1.15.1)\n",
            "Requirement already satisfied: soupsieve>1.2 in /usr/local/lib/python3.10/dist-packages (from beautifulsoup4->nbconvert->notebook>=4.4.1->widgetsnbextension~=3.6.0->ipywidgets>=7.0.0->ipysigma) (2.4.1)\n",
            "Requirement already satisfied: webencodings in /usr/local/lib/python3.10/dist-packages (from bleach->nbconvert->notebook>=4.4.1->widgetsnbextension~=3.6.0->ipywidgets>=7.0.0->ipysigma) (0.5.1)\n",
            "Requirement already satisfied: pycparser in /usr/local/lib/python3.10/dist-packages (from cffi>=1.0.1->argon2-cffi-bindings->argon2-cffi->notebook>=4.4.1->widgetsnbextension~=3.6.0->ipywidgets>=7.0.0->ipysigma) (2.21)\n",
            "Installing collected packages: jedi, ipysigma\n",
            "Successfully installed ipysigma-0.24.1 jedi-0.18.2\n"
          ]
        }
      ],
      "source": [
        "import networkx as nx\n",
        "!pip install ipysigma\n",
        "from ipysigma import Sigma\n",
        "import seaborn as sns\n",
        "\n",
        "\n",
        "poltext = nx.read_gml('polbooks.gml', label='label')\n"
      ]
    },
    {
      "cell_type": "code",
      "execution_count": 3,
      "metadata": {
        "id": "1gYBOaRWJ9SU"
      },
      "outputs": [],
      "source": [
        "import pandas as pd\n",
        "import numpy as np\n",
        "\n",
        "#Visualization libraries\n",
        "import plotly.express as px\n",
        "from matplotlib import pyplot as plt"
      ]
    },
    {
      "cell_type": "markdown",
      "metadata": {
        "id": "H0u15TAnJ-1h"
      },
      "source": [
        "##**2. Exploratory Data Analysis**"
      ]
    },
    {
      "cell_type": "code",
      "execution_count": 4,
      "metadata": {
        "id": "I5mJOMheKIbl",
        "colab": {
          "base_uri": "https://localhost:8080/",
          "height": 424
        },
        "outputId": "7f20f11f-2b6d-467c-e6f6-6525847238ea"
      },
      "outputs": [
        {
          "output_type": "execute_result",
          "data": {
            "text/plain": [
              "      Id                    Label  Interval Value\n",
              "0      0   1000 Years for Revenge       NaN     n\n",
              "1      1     Bush vs. the Beltway       NaN     c\n",
              "2      2     Charlie Wilson's War       NaN     c\n",
              "3      3         Losing Bin Laden       NaN     c\n",
              "4      4  Sleeping With the Devil       NaN     n\n",
              "..   ...                      ...       ...   ...\n",
              "100  100   Thieves in High Places       NaN     l\n",
              "101  101                    Shrub       NaN     l\n",
              "102  102          Buck Up Suck Up       NaN     l\n",
              "103  103    The Future of Freedom       NaN     n\n",
              "104  104                   Empire       NaN     n\n",
              "\n",
              "[105 rows x 4 columns]"
            ],
            "text/html": [
              "\n",
              "  <div id=\"df-c0e31bcb-d16f-4b43-8b89-5118aadecb52\">\n",
              "    <div class=\"colab-df-container\">\n",
              "      <div>\n",
              "<style scoped>\n",
              "    .dataframe tbody tr th:only-of-type {\n",
              "        vertical-align: middle;\n",
              "    }\n",
              "\n",
              "    .dataframe tbody tr th {\n",
              "        vertical-align: top;\n",
              "    }\n",
              "\n",
              "    .dataframe thead th {\n",
              "        text-align: right;\n",
              "    }\n",
              "</style>\n",
              "<table border=\"1\" class=\"dataframe\">\n",
              "  <thead>\n",
              "    <tr style=\"text-align: right;\">\n",
              "      <th></th>\n",
              "      <th>Id</th>\n",
              "      <th>Label</th>\n",
              "      <th>Interval</th>\n",
              "      <th>Value</th>\n",
              "    </tr>\n",
              "  </thead>\n",
              "  <tbody>\n",
              "    <tr>\n",
              "      <th>0</th>\n",
              "      <td>0</td>\n",
              "      <td>1000 Years for Revenge</td>\n",
              "      <td>NaN</td>\n",
              "      <td>n</td>\n",
              "    </tr>\n",
              "    <tr>\n",
              "      <th>1</th>\n",
              "      <td>1</td>\n",
              "      <td>Bush vs. the Beltway</td>\n",
              "      <td>NaN</td>\n",
              "      <td>c</td>\n",
              "    </tr>\n",
              "    <tr>\n",
              "      <th>2</th>\n",
              "      <td>2</td>\n",
              "      <td>Charlie Wilson's War</td>\n",
              "      <td>NaN</td>\n",
              "      <td>c</td>\n",
              "    </tr>\n",
              "    <tr>\n",
              "      <th>3</th>\n",
              "      <td>3</td>\n",
              "      <td>Losing Bin Laden</td>\n",
              "      <td>NaN</td>\n",
              "      <td>c</td>\n",
              "    </tr>\n",
              "    <tr>\n",
              "      <th>4</th>\n",
              "      <td>4</td>\n",
              "      <td>Sleeping With the Devil</td>\n",
              "      <td>NaN</td>\n",
              "      <td>n</td>\n",
              "    </tr>\n",
              "    <tr>\n",
              "      <th>...</th>\n",
              "      <td>...</td>\n",
              "      <td>...</td>\n",
              "      <td>...</td>\n",
              "      <td>...</td>\n",
              "    </tr>\n",
              "    <tr>\n",
              "      <th>100</th>\n",
              "      <td>100</td>\n",
              "      <td>Thieves in High Places</td>\n",
              "      <td>NaN</td>\n",
              "      <td>l</td>\n",
              "    </tr>\n",
              "    <tr>\n",
              "      <th>101</th>\n",
              "      <td>101</td>\n",
              "      <td>Shrub</td>\n",
              "      <td>NaN</td>\n",
              "      <td>l</td>\n",
              "    </tr>\n",
              "    <tr>\n",
              "      <th>102</th>\n",
              "      <td>102</td>\n",
              "      <td>Buck Up Suck Up</td>\n",
              "      <td>NaN</td>\n",
              "      <td>l</td>\n",
              "    </tr>\n",
              "    <tr>\n",
              "      <th>103</th>\n",
              "      <td>103</td>\n",
              "      <td>The Future of Freedom</td>\n",
              "      <td>NaN</td>\n",
              "      <td>n</td>\n",
              "    </tr>\n",
              "    <tr>\n",
              "      <th>104</th>\n",
              "      <td>104</td>\n",
              "      <td>Empire</td>\n",
              "      <td>NaN</td>\n",
              "      <td>n</td>\n",
              "    </tr>\n",
              "  </tbody>\n",
              "</table>\n",
              "<p>105 rows × 4 columns</p>\n",
              "</div>\n",
              "      <button class=\"colab-df-convert\" onclick=\"convertToInteractive('df-c0e31bcb-d16f-4b43-8b89-5118aadecb52')\"\n",
              "              title=\"Convert this dataframe to an interactive table.\"\n",
              "              style=\"display:none;\">\n",
              "        \n",
              "  <svg xmlns=\"http://www.w3.org/2000/svg\" height=\"24px\"viewBox=\"0 0 24 24\"\n",
              "       width=\"24px\">\n",
              "    <path d=\"M0 0h24v24H0V0z\" fill=\"none\"/>\n",
              "    <path d=\"M18.56 5.44l.94 2.06.94-2.06 2.06-.94-2.06-.94-.94-2.06-.94 2.06-2.06.94zm-11 1L8.5 8.5l.94-2.06 2.06-.94-2.06-.94L8.5 2.5l-.94 2.06-2.06.94zm10 10l.94 2.06.94-2.06 2.06-.94-2.06-.94-.94-2.06-.94 2.06-2.06.94z\"/><path d=\"M17.41 7.96l-1.37-1.37c-.4-.4-.92-.59-1.43-.59-.52 0-1.04.2-1.43.59L10.3 9.45l-7.72 7.72c-.78.78-.78 2.05 0 2.83L4 21.41c.39.39.9.59 1.41.59.51 0 1.02-.2 1.41-.59l7.78-7.78 2.81-2.81c.8-.78.8-2.07 0-2.86zM5.41 20L4 18.59l7.72-7.72 1.47 1.35L5.41 20z\"/>\n",
              "  </svg>\n",
              "      </button>\n",
              "      \n",
              "  <style>\n",
              "    .colab-df-container {\n",
              "      display:flex;\n",
              "      flex-wrap:wrap;\n",
              "      gap: 12px;\n",
              "    }\n",
              "\n",
              "    .colab-df-convert {\n",
              "      background-color: #E8F0FE;\n",
              "      border: none;\n",
              "      border-radius: 50%;\n",
              "      cursor: pointer;\n",
              "      display: none;\n",
              "      fill: #1967D2;\n",
              "      height: 32px;\n",
              "      padding: 0 0 0 0;\n",
              "      width: 32px;\n",
              "    }\n",
              "\n",
              "    .colab-df-convert:hover {\n",
              "      background-color: #E2EBFA;\n",
              "      box-shadow: 0px 1px 2px rgba(60, 64, 67, 0.3), 0px 1px 3px 1px rgba(60, 64, 67, 0.15);\n",
              "      fill: #174EA6;\n",
              "    }\n",
              "\n",
              "    [theme=dark] .colab-df-convert {\n",
              "      background-color: #3B4455;\n",
              "      fill: #D2E3FC;\n",
              "    }\n",
              "\n",
              "    [theme=dark] .colab-df-convert:hover {\n",
              "      background-color: #434B5C;\n",
              "      box-shadow: 0px 1px 3px 1px rgba(0, 0, 0, 0.15);\n",
              "      filter: drop-shadow(0px 1px 2px rgba(0, 0, 0, 0.3));\n",
              "      fill: #FFFFFF;\n",
              "    }\n",
              "  </style>\n",
              "\n",
              "      <script>\n",
              "        const buttonEl =\n",
              "          document.querySelector('#df-c0e31bcb-d16f-4b43-8b89-5118aadecb52 button.colab-df-convert');\n",
              "        buttonEl.style.display =\n",
              "          google.colab.kernel.accessAllowed ? 'block' : 'none';\n",
              "\n",
              "        async function convertToInteractive(key) {\n",
              "          const element = document.querySelector('#df-c0e31bcb-d16f-4b43-8b89-5118aadecb52');\n",
              "          const dataTable =\n",
              "            await google.colab.kernel.invokeFunction('convertToInteractive',\n",
              "                                                     [key], {});\n",
              "          if (!dataTable) return;\n",
              "\n",
              "          const docLinkHtml = 'Like what you see? Visit the ' +\n",
              "            '<a target=\"_blank\" href=https://colab.research.google.com/notebooks/data_table.ipynb>data table notebook</a>'\n",
              "            + ' to learn more about interactive tables.';\n",
              "          element.innerHTML = '';\n",
              "          dataTable['output_type'] = 'display_data';\n",
              "          await google.colab.output.renderOutput(dataTable, element);\n",
              "          const docLink = document.createElement('div');\n",
              "          docLink.innerHTML = docLinkHtml;\n",
              "          element.appendChild(docLink);\n",
              "        }\n",
              "      </script>\n",
              "    </div>\n",
              "  </div>\n",
              "  "
            ]
          },
          "metadata": {},
          "execution_count": 4
        }
      ],
      "source": [
        "df = pd.read_csv('polbooks.csv') \n",
        "df"
      ]
    },
    {
      "cell_type": "code",
      "execution_count": 5,
      "metadata": {
        "id": "hdjwUK76YgM7",
        "colab": {
          "base_uri": "https://localhost:8080/",
          "height": 417
        },
        "outputId": "91424066-1be1-479a-e32f-56835aeef459"
      },
      "outputs": [
        {
          "output_type": "display_data",
          "data": {
            "text/html": [
              "<html>\n",
              "<head><meta charset=\"utf-8\" /></head>\n",
              "<body>\n",
              "    <div>            <script src=\"https://cdnjs.cloudflare.com/ajax/libs/mathjax/2.7.5/MathJax.js?config=TeX-AMS-MML_SVG\"></script><script type=\"text/javascript\">if (window.MathJax && window.MathJax.Hub && window.MathJax.Hub.Config) {window.MathJax.Hub.Config({SVG: {font: \"STIX-Web\"}});}</script>                <script type=\"text/javascript\">window.PlotlyConfig = {MathJaxConfig: 'local'};</script>\n",
              "        <script src=\"https://cdn.plot.ly/plotly-2.18.2.min.js\"></script>                <div id=\"bd0ab884-86fe-4c57-b124-573935783f28\" class=\"plotly-graph-div\" style=\"height:400px; width:500px;\"></div>            <script type=\"text/javascript\">                                    window.PLOTLYENV=window.PLOTLYENV || {};                                    if (document.getElementById(\"bd0ab884-86fe-4c57-b124-573935783f28\")) {                    Plotly.newPlot(                        \"bd0ab884-86fe-4c57-b124-573935783f28\",                        [{\"alignmentgroup\":\"True\",\"bingroup\":\"x\",\"hovertemplate\":\"Value=%{x}<br>count=%{y}<extra></extra>\",\"legendgroup\":\"Neutral\",\"marker\":{\"color\":\"#F0B775\",\"pattern\":{\"shape\":\"\"}},\"name\":\"Neutral\",\"offsetgroup\":\"Neutral\",\"orientation\":\"v\",\"showlegend\":true,\"x\":[\"Neutral\",\"Neutral\",\"Neutral\",\"Neutral\",\"Neutral\",\"Neutral\",\"Neutral\",\"Neutral\",\"Neutral\",\"Neutral\",\"Neutral\",\"Neutral\",\"Neutral\"],\"xaxis\":\"x\",\"yaxis\":\"y\",\"type\":\"histogram\"},{\"alignmentgroup\":\"True\",\"bingroup\":\"x\",\"hovertemplate\":\"Value=%{x}<br>count=%{y}<extra></extra>\",\"legendgroup\":\"Conservative\",\"marker\":{\"color\":\"#D25565\",\"pattern\":{\"shape\":\"\"}},\"name\":\"Conservative\",\"offsetgroup\":\"Conservative\",\"orientation\":\"v\",\"showlegend\":true,\"x\":[\"Conservative\",\"Conservative\",\"Conservative\",\"Conservative\",\"Conservative\",\"Conservative\",\"Conservative\",\"Conservative\",\"Conservative\",\"Conservative\",\"Conservative\",\"Conservative\",\"Conservative\",\"Conservative\",\"Conservative\",\"Conservative\",\"Conservative\",\"Conservative\",\"Conservative\",\"Conservative\",\"Conservative\",\"Conservative\",\"Conservative\",\"Conservative\",\"Conservative\",\"Conservative\",\"Conservative\",\"Conservative\",\"Conservative\",\"Conservative\",\"Conservative\",\"Conservative\",\"Conservative\",\"Conservative\",\"Conservative\",\"Conservative\",\"Conservative\",\"Conservative\",\"Conservative\",\"Conservative\",\"Conservative\",\"Conservative\",\"Conservative\",\"Conservative\",\"Conservative\",\"Conservative\",\"Conservative\",\"Conservative\",\"Conservative\"],\"xaxis\":\"x\",\"yaxis\":\"y\",\"type\":\"histogram\"},{\"alignmentgroup\":\"True\",\"bingroup\":\"x\",\"hovertemplate\":\"Value=%{x}<br>count=%{y}<extra></extra>\",\"legendgroup\":\"Liberal\",\"marker\":{\"color\":\"#2E94B9\",\"pattern\":{\"shape\":\"\"}},\"name\":\"Liberal\",\"offsetgroup\":\"Liberal\",\"orientation\":\"v\",\"showlegend\":true,\"x\":[\"Liberal\",\"Liberal\",\"Liberal\",\"Liberal\",\"Liberal\",\"Liberal\",\"Liberal\",\"Liberal\",\"Liberal\",\"Liberal\",\"Liberal\",\"Liberal\",\"Liberal\",\"Liberal\",\"Liberal\",\"Liberal\",\"Liberal\",\"Liberal\",\"Liberal\",\"Liberal\",\"Liberal\",\"Liberal\",\"Liberal\",\"Liberal\",\"Liberal\",\"Liberal\",\"Liberal\",\"Liberal\",\"Liberal\",\"Liberal\",\"Liberal\",\"Liberal\",\"Liberal\",\"Liberal\",\"Liberal\",\"Liberal\",\"Liberal\",\"Liberal\",\"Liberal\",\"Liberal\",\"Liberal\",\"Liberal\",\"Liberal\"],\"xaxis\":\"x\",\"yaxis\":\"y\",\"type\":\"histogram\"}],                        {\"template\":{\"data\":{\"histogram2dcontour\":[{\"type\":\"histogram2dcontour\",\"colorbar\":{\"outlinewidth\":0,\"ticks\":\"\"},\"colorscale\":[[0.0,\"#0d0887\"],[0.1111111111111111,\"#46039f\"],[0.2222222222222222,\"#7201a8\"],[0.3333333333333333,\"#9c179e\"],[0.4444444444444444,\"#bd3786\"],[0.5555555555555556,\"#d8576b\"],[0.6666666666666666,\"#ed7953\"],[0.7777777777777778,\"#fb9f3a\"],[0.8888888888888888,\"#fdca26\"],[1.0,\"#f0f921\"]]}],\"choropleth\":[{\"type\":\"choropleth\",\"colorbar\":{\"outlinewidth\":0,\"ticks\":\"\"}}],\"histogram2d\":[{\"type\":\"histogram2d\",\"colorbar\":{\"outlinewidth\":0,\"ticks\":\"\"},\"colorscale\":[[0.0,\"#0d0887\"],[0.1111111111111111,\"#46039f\"],[0.2222222222222222,\"#7201a8\"],[0.3333333333333333,\"#9c179e\"],[0.4444444444444444,\"#bd3786\"],[0.5555555555555556,\"#d8576b\"],[0.6666666666666666,\"#ed7953\"],[0.7777777777777778,\"#fb9f3a\"],[0.8888888888888888,\"#fdca26\"],[1.0,\"#f0f921\"]]}],\"heatmap\":[{\"type\":\"heatmap\",\"colorbar\":{\"outlinewidth\":0,\"ticks\":\"\"},\"colorscale\":[[0.0,\"#0d0887\"],[0.1111111111111111,\"#46039f\"],[0.2222222222222222,\"#7201a8\"],[0.3333333333333333,\"#9c179e\"],[0.4444444444444444,\"#bd3786\"],[0.5555555555555556,\"#d8576b\"],[0.6666666666666666,\"#ed7953\"],[0.7777777777777778,\"#fb9f3a\"],[0.8888888888888888,\"#fdca26\"],[1.0,\"#f0f921\"]]}],\"heatmapgl\":[{\"type\":\"heatmapgl\",\"colorbar\":{\"outlinewidth\":0,\"ticks\":\"\"},\"colorscale\":[[0.0,\"#0d0887\"],[0.1111111111111111,\"#46039f\"],[0.2222222222222222,\"#7201a8\"],[0.3333333333333333,\"#9c179e\"],[0.4444444444444444,\"#bd3786\"],[0.5555555555555556,\"#d8576b\"],[0.6666666666666666,\"#ed7953\"],[0.7777777777777778,\"#fb9f3a\"],[0.8888888888888888,\"#fdca26\"],[1.0,\"#f0f921\"]]}],\"contourcarpet\":[{\"type\":\"contourcarpet\",\"colorbar\":{\"outlinewidth\":0,\"ticks\":\"\"}}],\"contour\":[{\"type\":\"contour\",\"colorbar\":{\"outlinewidth\":0,\"ticks\":\"\"},\"colorscale\":[[0.0,\"#0d0887\"],[0.1111111111111111,\"#46039f\"],[0.2222222222222222,\"#7201a8\"],[0.3333333333333333,\"#9c179e\"],[0.4444444444444444,\"#bd3786\"],[0.5555555555555556,\"#d8576b\"],[0.6666666666666666,\"#ed7953\"],[0.7777777777777778,\"#fb9f3a\"],[0.8888888888888888,\"#fdca26\"],[1.0,\"#f0f921\"]]}],\"surface\":[{\"type\":\"surface\",\"colorbar\":{\"outlinewidth\":0,\"ticks\":\"\"},\"colorscale\":[[0.0,\"#0d0887\"],[0.1111111111111111,\"#46039f\"],[0.2222222222222222,\"#7201a8\"],[0.3333333333333333,\"#9c179e\"],[0.4444444444444444,\"#bd3786\"],[0.5555555555555556,\"#d8576b\"],[0.6666666666666666,\"#ed7953\"],[0.7777777777777778,\"#fb9f3a\"],[0.8888888888888888,\"#fdca26\"],[1.0,\"#f0f921\"]]}],\"mesh3d\":[{\"type\":\"mesh3d\",\"colorbar\":{\"outlinewidth\":0,\"ticks\":\"\"}}],\"scatter\":[{\"fillpattern\":{\"fillmode\":\"overlay\",\"size\":10,\"solidity\":0.2},\"type\":\"scatter\"}],\"parcoords\":[{\"type\":\"parcoords\",\"line\":{\"colorbar\":{\"outlinewidth\":0,\"ticks\":\"\"}}}],\"scatterpolargl\":[{\"type\":\"scatterpolargl\",\"marker\":{\"colorbar\":{\"outlinewidth\":0,\"ticks\":\"\"}}}],\"bar\":[{\"error_x\":{\"color\":\"#2a3f5f\"},\"error_y\":{\"color\":\"#2a3f5f\"},\"marker\":{\"line\":{\"color\":\"#E5ECF6\",\"width\":0.5},\"pattern\":{\"fillmode\":\"overlay\",\"size\":10,\"solidity\":0.2}},\"type\":\"bar\"}],\"scattergeo\":[{\"type\":\"scattergeo\",\"marker\":{\"colorbar\":{\"outlinewidth\":0,\"ticks\":\"\"}}}],\"scatterpolar\":[{\"type\":\"scatterpolar\",\"marker\":{\"colorbar\":{\"outlinewidth\":0,\"ticks\":\"\"}}}],\"histogram\":[{\"marker\":{\"pattern\":{\"fillmode\":\"overlay\",\"size\":10,\"solidity\":0.2}},\"type\":\"histogram\"}],\"scattergl\":[{\"type\":\"scattergl\",\"marker\":{\"colorbar\":{\"outlinewidth\":0,\"ticks\":\"\"}}}],\"scatter3d\":[{\"type\":\"scatter3d\",\"line\":{\"colorbar\":{\"outlinewidth\":0,\"ticks\":\"\"}},\"marker\":{\"colorbar\":{\"outlinewidth\":0,\"ticks\":\"\"}}}],\"scattermapbox\":[{\"type\":\"scattermapbox\",\"marker\":{\"colorbar\":{\"outlinewidth\":0,\"ticks\":\"\"}}}],\"scatterternary\":[{\"type\":\"scatterternary\",\"marker\":{\"colorbar\":{\"outlinewidth\":0,\"ticks\":\"\"}}}],\"scattercarpet\":[{\"type\":\"scattercarpet\",\"marker\":{\"colorbar\":{\"outlinewidth\":0,\"ticks\":\"\"}}}],\"carpet\":[{\"aaxis\":{\"endlinecolor\":\"#2a3f5f\",\"gridcolor\":\"white\",\"linecolor\":\"white\",\"minorgridcolor\":\"white\",\"startlinecolor\":\"#2a3f5f\"},\"baxis\":{\"endlinecolor\":\"#2a3f5f\",\"gridcolor\":\"white\",\"linecolor\":\"white\",\"minorgridcolor\":\"white\",\"startlinecolor\":\"#2a3f5f\"},\"type\":\"carpet\"}],\"table\":[{\"cells\":{\"fill\":{\"color\":\"#EBF0F8\"},\"line\":{\"color\":\"white\"}},\"header\":{\"fill\":{\"color\":\"#C8D4E3\"},\"line\":{\"color\":\"white\"}},\"type\":\"table\"}],\"barpolar\":[{\"marker\":{\"line\":{\"color\":\"#E5ECF6\",\"width\":0.5},\"pattern\":{\"fillmode\":\"overlay\",\"size\":10,\"solidity\":0.2}},\"type\":\"barpolar\"}],\"pie\":[{\"automargin\":true,\"type\":\"pie\"}]},\"layout\":{\"autotypenumbers\":\"strict\",\"colorway\":[\"#636efa\",\"#EF553B\",\"#00cc96\",\"#ab63fa\",\"#FFA15A\",\"#19d3f3\",\"#FF6692\",\"#B6E880\",\"#FF97FF\",\"#FECB52\"],\"font\":{\"color\":\"#2a3f5f\"},\"hovermode\":\"closest\",\"hoverlabel\":{\"align\":\"left\"},\"paper_bgcolor\":\"white\",\"plot_bgcolor\":\"#E5ECF6\",\"polar\":{\"bgcolor\":\"#E5ECF6\",\"angularaxis\":{\"gridcolor\":\"white\",\"linecolor\":\"white\",\"ticks\":\"\"},\"radialaxis\":{\"gridcolor\":\"white\",\"linecolor\":\"white\",\"ticks\":\"\"}},\"ternary\":{\"bgcolor\":\"#E5ECF6\",\"aaxis\":{\"gridcolor\":\"white\",\"linecolor\":\"white\",\"ticks\":\"\"},\"baxis\":{\"gridcolor\":\"white\",\"linecolor\":\"white\",\"ticks\":\"\"},\"caxis\":{\"gridcolor\":\"white\",\"linecolor\":\"white\",\"ticks\":\"\"}},\"coloraxis\":{\"colorbar\":{\"outlinewidth\":0,\"ticks\":\"\"}},\"colorscale\":{\"sequential\":[[0.0,\"#0d0887\"],[0.1111111111111111,\"#46039f\"],[0.2222222222222222,\"#7201a8\"],[0.3333333333333333,\"#9c179e\"],[0.4444444444444444,\"#bd3786\"],[0.5555555555555556,\"#d8576b\"],[0.6666666666666666,\"#ed7953\"],[0.7777777777777778,\"#fb9f3a\"],[0.8888888888888888,\"#fdca26\"],[1.0,\"#f0f921\"]],\"sequentialminus\":[[0.0,\"#0d0887\"],[0.1111111111111111,\"#46039f\"],[0.2222222222222222,\"#7201a8\"],[0.3333333333333333,\"#9c179e\"],[0.4444444444444444,\"#bd3786\"],[0.5555555555555556,\"#d8576b\"],[0.6666666666666666,\"#ed7953\"],[0.7777777777777778,\"#fb9f3a\"],[0.8888888888888888,\"#fdca26\"],[1.0,\"#f0f921\"]],\"diverging\":[[0,\"#8e0152\"],[0.1,\"#c51b7d\"],[0.2,\"#de77ae\"],[0.3,\"#f1b6da\"],[0.4,\"#fde0ef\"],[0.5,\"#f7f7f7\"],[0.6,\"#e6f5d0\"],[0.7,\"#b8e186\"],[0.8,\"#7fbc41\"],[0.9,\"#4d9221\"],[1,\"#276419\"]]},\"xaxis\":{\"gridcolor\":\"white\",\"linecolor\":\"white\",\"ticks\":\"\",\"title\":{\"standoff\":15},\"zerolinecolor\":\"white\",\"automargin\":true,\"zerolinewidth\":2},\"yaxis\":{\"gridcolor\":\"white\",\"linecolor\":\"white\",\"ticks\":\"\",\"title\":{\"standoff\":15},\"zerolinecolor\":\"white\",\"automargin\":true,\"zerolinewidth\":2},\"scene\":{\"xaxis\":{\"backgroundcolor\":\"#E5ECF6\",\"gridcolor\":\"white\",\"linecolor\":\"white\",\"showbackground\":true,\"ticks\":\"\",\"zerolinecolor\":\"white\",\"gridwidth\":2},\"yaxis\":{\"backgroundcolor\":\"#E5ECF6\",\"gridcolor\":\"white\",\"linecolor\":\"white\",\"showbackground\":true,\"ticks\":\"\",\"zerolinecolor\":\"white\",\"gridwidth\":2},\"zaxis\":{\"backgroundcolor\":\"#E5ECF6\",\"gridcolor\":\"white\",\"linecolor\":\"white\",\"showbackground\":true,\"ticks\":\"\",\"zerolinecolor\":\"white\",\"gridwidth\":2}},\"shapedefaults\":{\"line\":{\"color\":\"#2a3f5f\"}},\"annotationdefaults\":{\"arrowcolor\":\"#2a3f5f\",\"arrowhead\":0,\"arrowwidth\":1},\"geo\":{\"bgcolor\":\"white\",\"landcolor\":\"#E5ECF6\",\"subunitcolor\":\"white\",\"showland\":true,\"showlakes\":true,\"lakecolor\":\"white\"},\"title\":{\"x\":0.05},\"mapbox\":{\"style\":\"light\"}}},\"xaxis\":{\"anchor\":\"y\",\"domain\":[0.0,1.0],\"title\":{\"text\":\"Political Orientation\"},\"categoryorder\":\"total descending\",\"categoryarray\":[\"Neutral\",\"Conservative\",\"Liberal\"]},\"yaxis\":{\"anchor\":\"x\",\"domain\":[0.0,1.0],\"title\":{\"text\":\"Count\"}},\"legend\":{\"title\":{\"text\":\"Value\"},\"tracegroupgap\":0},\"margin\":{\"t\":60},\"barmode\":\"relative\",\"title\":{\"text\":\"Distribution of Political Books on Dataset\"},\"height\":400,\"width\":500},                        {\"responsive\": true}                    ).then(function(){\n",
              "                            \n",
              "var gd = document.getElementById('bd0ab884-86fe-4c57-b124-573935783f28');\n",
              "var x = new MutationObserver(function (mutations, observer) {{\n",
              "        var display = window.getComputedStyle(gd).display;\n",
              "        if (!display || display === 'none') {{\n",
              "            console.log([gd, 'removed!']);\n",
              "            Plotly.purge(gd);\n",
              "            observer.disconnect();\n",
              "        }}\n",
              "}});\n",
              "\n",
              "// Listen for the removal of the full notebook cells\n",
              "var notebookContainer = gd.closest('#notebook-container');\n",
              "if (notebookContainer) {{\n",
              "    x.observe(notebookContainer, {childList: true});\n",
              "}}\n",
              "\n",
              "// Listen for the clearing of the current output cell\n",
              "var outputEl = gd.closest('.output');\n",
              "if (outputEl) {{\n",
              "    x.observe(outputEl, {childList: true});\n",
              "}}\n",
              "\n",
              "                        })                };                            </script>        </div>\n",
              "</body>\n",
              "</html>"
            ]
          },
          "metadata": {}
        }
      ],
      "source": [
        "import plotly.express as px\n",
        "\n",
        "\n",
        "labels = {'c': 'Conservative', 'n': 'Neutral', 'l': 'Liberal'}\n",
        "\n",
        "df = df.replace(labels)\n",
        "# create a histogram using Plotly\n",
        "fig = px.histogram(df, x='Value', color='Value',\n",
        "                   color_discrete_map={'Conservative': '#D25565', 'Neutral': '#F0B775', 'Liberal': '#2E94B9'})\n",
        "\n",
        "# update the layout of the figure\n",
        "fig.update_layout(title='Distribution of Political Books on Dataset',\n",
        "                  xaxis_title='Political Orientation',\n",
        "                  yaxis_title='Count',\n",
        "                  xaxis={'categoryorder': 'total descending'},\n",
        "                  height=400, width=500)\n",
        "\n",
        "# show the plot\n",
        "fig.show()"
      ]
    },
    {
      "cell_type": "markdown",
      "metadata": {
        "id": "EpSbsQARKC5a"
      },
      "source": [
        "## **3. Social Network Analysis**"
      ]
    },
    {
      "cell_type": "code",
      "source": [
        "from google.colab import output\n",
        "output.enable_custom_widget_manager()"
      ],
      "metadata": {
        "id": "ne9DbCmRxMHd"
      },
      "execution_count": 6,
      "outputs": []
    },
    {
      "cell_type": "code",
      "source": [
        "mapping = {'c': 'Conservation', 'l': 'Liberal', 'n': 'Neutral'}\n",
        "\n",
        "# update the 'value' attribute with new labels\n",
        "for node, attr in poltext.nodes(data=True):\n",
        "    old_label = attr['value']\n",
        "    new_label = mapping.get(old_label, old_label)\n",
        "    attr['value'] = new_label"
      ],
      "metadata": {
        "id": "93u9FR3A3Nif"
      },
      "execution_count": 7,
      "outputs": []
    },
    {
      "cell_type": "code",
      "execution_count": 8,
      "metadata": {
        "id": "QpLwlivC30K8",
        "colab": {
          "base_uri": "https://localhost:8080/",
          "height": 539,
          "referenced_widgets": [
            "03925370cc554ee68b949a15c2928dc6"
          ]
        },
        "outputId": "db52bcc6-50d2-4c45-898f-36f4b8c0093a"
      },
      "outputs": [
        {
          "output_type": "display_data",
          "data": {
            "text/plain": [
              "Sigma(nx.Graph with 105 nodes and 441 edges)"
            ],
            "application/vnd.jupyter.widget-view+json": {
              "version_major": 2,
              "version_minor": 0,
              "model_id": "03925370cc554ee68b949a15c2928dc6"
            }
          },
          "metadata": {
            "application/vnd.jupyter.widget-view+json": {
              "colab": {
                "custom_widget_manager": {
                  "url": "https://ssl.gstatic.com/colaboratory-static/widgets/colab-cdn-widget-manager/b3e629b1971e1542/manager.min.js"
                }
              }
            }
          }
        }
      ],
      "source": [
        "color_map = {'Conservation': '#D25565', 'Neutral': '#F0B775', 'Liberal': '#2E94B9'}\n",
        "\n",
        "\n",
        "Sigma(poltext,node_label='label',node_size=poltext.degree(), node_color=\"value\", node_border_color_from=\"node\", node_color_palette=color_map)"
      ]
    },
    {
      "cell_type": "code",
      "source": [
        "Sigma(poltext, node_metrics=[\"louvain\"], node_color=\"louvain\")\n",
        "\n",
        "# Renaming the target attribute\n",
        "Sigma(poltext, node_metrics={\"community\": \"louvain\"}, node_color=\"community\")\n",
        "\n",
        "# Passing custom parameters\n",
        "Sigma(\n",
        "  poltext,\n",
        "  node_metrics={\"community\": {\"name\": \"louvain\", \"resolution\": 1}},\n",
        "  node_color=\"community\", node_size=poltext.degree(), node_border_color_from=\"node\"\n",
        ")"
      ],
      "metadata": {
        "id": "vjzZCwL0j5SO",
        "colab": {
          "base_uri": "https://localhost:8080/",
          "height": 539,
          "referenced_widgets": [
            "a29d2a235be94705829de8e538729c20"
          ]
        },
        "outputId": "67eb383b-29e2-4425-e636-3b25d982c7ad"
      },
      "execution_count": 9,
      "outputs": [
        {
          "output_type": "display_data",
          "data": {
            "text/plain": [
              "Sigma(nx.Graph with 105 nodes and 441 edges)"
            ],
            "application/vnd.jupyter.widget-view+json": {
              "version_major": 2,
              "version_minor": 0,
              "model_id": "a29d2a235be94705829de8e538729c20"
            }
          },
          "metadata": {
            "application/vnd.jupyter.widget-view+json": {
              "colab": {
                "custom_widget_manager": {
                  "url": "https://ssl.gstatic.com/colaboratory-static/widgets/colab-cdn-widget-manager/b3e629b1971e1542/manager.min.js"
                }
              }
            }
          }
        }
      ]
    },
    {
      "cell_type": "markdown",
      "metadata": {
        "id": "adcMqzhSci_V"
      },
      "source": [
        "### 3.1      Degree Centrality\n",
        "\n",
        "This metric measures the number of connections (or edges) each node (or book) has. In the context of this network, books with high degree centrality would be those that were frequently copurchased with many other books.\n",
        "\n",
        "https://networkx.org/documentation/stable/reference/algorithms/generated/networkx.algorithms.centrality.degree_centrality.html"
      ]
    },
    {
      "cell_type": "code",
      "execution_count": 10,
      "metadata": {
        "id": "Urve0ZBUat-G",
        "colab": {
          "base_uri": "https://localhost:8080/"
        },
        "outputId": "3dc0eef1-7e3f-4e3c-c044-615564f7bf74"
      },
      "outputs": [
        {
          "output_type": "stream",
          "name": "stdout",
          "text": [
            "A National Party No More: 0.2403846153846154\n",
            "Off with Their Heads: 0.2403846153846154\n",
            "Losing Bin Laden: 0.22115384615384617\n",
            "Bushwhacked: 0.22115384615384617\n",
            "American Dynasty: 0.21153846153846156\n",
            "The Great Unraveling: 0.20192307692307693\n",
            "Big Lies: 0.20192307692307693\n",
            "The Price of Loyalty: 0.19230769230769232\n",
            "Legacy: 0.17307692307692307\n",
            "Deliver Us from Evil: 0.17307692307692307\n",
            "Arrogance: 0.17307692307692307\n",
            "Bush Country: 0.15384615384615385\n",
            "The Lies of George W. Bush: 0.15384615384615385\n",
            "Worse Than Watergate: 0.15384615384615385\n",
            "Dereliction of Duty: 0.14423076923076925\n",
            "Against All Enemies: 0.14423076923076925\n",
            "Lies and the Lying Liars Who Tell Them: 0.13461538461538464\n",
            "Persecution: 0.125\n",
            "Rise of the Vulcans: 0.125\n",
            "Plan of Attack: 0.125\n"
          ]
        }
      ],
      "source": [
        "#Calculate Degree Centrality\n",
        "degree_centrality = nx.degree_centrality(poltext)\n",
        "\n",
        "top_books = sorted(degree_centrality.items(), key=lambda x: x[1], reverse=True)[:20]\n",
        "for book, centrality in top_books:\n",
        "    print(f'{book}: {centrality}')"
      ]
    },
    {
      "cell_type": "code",
      "execution_count": 11,
      "metadata": {
        "id": "_W3ZnQ9IbBp9"
      },
      "outputs": [],
      "source": [
        "# add a new column to the DataFrame with the prices from the dictionary\n",
        "df['degree_centrality'] = df['Label'].map(degree_centrality)"
      ]
    },
    {
      "cell_type": "code",
      "execution_count": 12,
      "metadata": {
        "id": "Otahvw9rbdOC",
        "colab": {
          "base_uri": "https://localhost:8080/"
        },
        "outputId": "fcb6f7ee-4a4a-4af9-c069-f655e36dac23"
      },
      "outputs": [
        {
          "output_type": "stream",
          "name": "stdout",
          "text": [
            "Conservative    3\n",
            "Name: Value, dtype: int64\n"
          ]
        }
      ],
      "source": [
        "# sort the DataFrame by degree centrality in descending order and select the top 10 rows\n",
        "top_3_degree_centrality = df.sort_values(by='degree_centrality', ascending=False).head(3)\n",
        "\n",
        "# count the number of points in each category within the top 10\n",
        "category_counts = top_3_degree_centrality['Value'].value_counts()\n",
        "\n",
        "# print the category counts\n",
        "print(category_counts)"
      ]
    },
    {
      "cell_type": "code",
      "execution_count": 13,
      "metadata": {
        "id": "ycg69KYAay_L",
        "colab": {
          "base_uri": "https://localhost:8080/",
          "height": 417
        },
        "outputId": "7569417a-80cb-46a8-b762-4ebf9a8ffa10"
      },
      "outputs": [
        {
          "output_type": "display_data",
          "data": {
            "text/html": [
              "<html>\n",
              "<head><meta charset=\"utf-8\" /></head>\n",
              "<body>\n",
              "    <div>            <script src=\"https://cdnjs.cloudflare.com/ajax/libs/mathjax/2.7.5/MathJax.js?config=TeX-AMS-MML_SVG\"></script><script type=\"text/javascript\">if (window.MathJax && window.MathJax.Hub && window.MathJax.Hub.Config) {window.MathJax.Hub.Config({SVG: {font: \"STIX-Web\"}});}</script>                <script type=\"text/javascript\">window.PlotlyConfig = {MathJaxConfig: 'local'};</script>\n",
              "        <script src=\"https://cdn.plot.ly/plotly-2.18.2.min.js\"></script>                <div id=\"8998bf8c-4178-45e6-a247-9666e15fa0e9\" class=\"plotly-graph-div\" style=\"height:400px; width:700px;\"></div>            <script type=\"text/javascript\">                                    window.PLOTLYENV=window.PLOTLYENV || {};                                    if (document.getElementById(\"8998bf8c-4178-45e6-a247-9666e15fa0e9\")) {                    Plotly.newPlot(                        \"8998bf8c-4178-45e6-a247-9666e15fa0e9\",                        [{\"alignmentgroup\":\"True\",\"bingroup\":\"x\",\"hovertemplate\":\"Value=%{x}<br>count=%{y}<extra></extra>\",\"legendgroup\":\"Conservative\",\"marker\":{\"color\":\"#D25565\",\"pattern\":{\"shape\":\"\"}},\"name\":\"Conservative\",\"offsetgroup\":\"Conservative\",\"orientation\":\"v\",\"showlegend\":true,\"x\":[\"Conservative\",\"Conservative\",\"Conservative\"],\"xaxis\":\"x\",\"yaxis\":\"y\",\"type\":\"histogram\"}],                        {\"template\":{\"data\":{\"histogram2dcontour\":[{\"type\":\"histogram2dcontour\",\"colorbar\":{\"outlinewidth\":0,\"ticks\":\"\"},\"colorscale\":[[0.0,\"#0d0887\"],[0.1111111111111111,\"#46039f\"],[0.2222222222222222,\"#7201a8\"],[0.3333333333333333,\"#9c179e\"],[0.4444444444444444,\"#bd3786\"],[0.5555555555555556,\"#d8576b\"],[0.6666666666666666,\"#ed7953\"],[0.7777777777777778,\"#fb9f3a\"],[0.8888888888888888,\"#fdca26\"],[1.0,\"#f0f921\"]]}],\"choropleth\":[{\"type\":\"choropleth\",\"colorbar\":{\"outlinewidth\":0,\"ticks\":\"\"}}],\"histogram2d\":[{\"type\":\"histogram2d\",\"colorbar\":{\"outlinewidth\":0,\"ticks\":\"\"},\"colorscale\":[[0.0,\"#0d0887\"],[0.1111111111111111,\"#46039f\"],[0.2222222222222222,\"#7201a8\"],[0.3333333333333333,\"#9c179e\"],[0.4444444444444444,\"#bd3786\"],[0.5555555555555556,\"#d8576b\"],[0.6666666666666666,\"#ed7953\"],[0.7777777777777778,\"#fb9f3a\"],[0.8888888888888888,\"#fdca26\"],[1.0,\"#f0f921\"]]}],\"heatmap\":[{\"type\":\"heatmap\",\"colorbar\":{\"outlinewidth\":0,\"ticks\":\"\"},\"colorscale\":[[0.0,\"#0d0887\"],[0.1111111111111111,\"#46039f\"],[0.2222222222222222,\"#7201a8\"],[0.3333333333333333,\"#9c179e\"],[0.4444444444444444,\"#bd3786\"],[0.5555555555555556,\"#d8576b\"],[0.6666666666666666,\"#ed7953\"],[0.7777777777777778,\"#fb9f3a\"],[0.8888888888888888,\"#fdca26\"],[1.0,\"#f0f921\"]]}],\"heatmapgl\":[{\"type\":\"heatmapgl\",\"colorbar\":{\"outlinewidth\":0,\"ticks\":\"\"},\"colorscale\":[[0.0,\"#0d0887\"],[0.1111111111111111,\"#46039f\"],[0.2222222222222222,\"#7201a8\"],[0.3333333333333333,\"#9c179e\"],[0.4444444444444444,\"#bd3786\"],[0.5555555555555556,\"#d8576b\"],[0.6666666666666666,\"#ed7953\"],[0.7777777777777778,\"#fb9f3a\"],[0.8888888888888888,\"#fdca26\"],[1.0,\"#f0f921\"]]}],\"contourcarpet\":[{\"type\":\"contourcarpet\",\"colorbar\":{\"outlinewidth\":0,\"ticks\":\"\"}}],\"contour\":[{\"type\":\"contour\",\"colorbar\":{\"outlinewidth\":0,\"ticks\":\"\"},\"colorscale\":[[0.0,\"#0d0887\"],[0.1111111111111111,\"#46039f\"],[0.2222222222222222,\"#7201a8\"],[0.3333333333333333,\"#9c179e\"],[0.4444444444444444,\"#bd3786\"],[0.5555555555555556,\"#d8576b\"],[0.6666666666666666,\"#ed7953\"],[0.7777777777777778,\"#fb9f3a\"],[0.8888888888888888,\"#fdca26\"],[1.0,\"#f0f921\"]]}],\"surface\":[{\"type\":\"surface\",\"colorbar\":{\"outlinewidth\":0,\"ticks\":\"\"},\"colorscale\":[[0.0,\"#0d0887\"],[0.1111111111111111,\"#46039f\"],[0.2222222222222222,\"#7201a8\"],[0.3333333333333333,\"#9c179e\"],[0.4444444444444444,\"#bd3786\"],[0.5555555555555556,\"#d8576b\"],[0.6666666666666666,\"#ed7953\"],[0.7777777777777778,\"#fb9f3a\"],[0.8888888888888888,\"#fdca26\"],[1.0,\"#f0f921\"]]}],\"mesh3d\":[{\"type\":\"mesh3d\",\"colorbar\":{\"outlinewidth\":0,\"ticks\":\"\"}}],\"scatter\":[{\"fillpattern\":{\"fillmode\":\"overlay\",\"size\":10,\"solidity\":0.2},\"type\":\"scatter\"}],\"parcoords\":[{\"type\":\"parcoords\",\"line\":{\"colorbar\":{\"outlinewidth\":0,\"ticks\":\"\"}}}],\"scatterpolargl\":[{\"type\":\"scatterpolargl\",\"marker\":{\"colorbar\":{\"outlinewidth\":0,\"ticks\":\"\"}}}],\"bar\":[{\"error_x\":{\"color\":\"#2a3f5f\"},\"error_y\":{\"color\":\"#2a3f5f\"},\"marker\":{\"line\":{\"color\":\"#E5ECF6\",\"width\":0.5},\"pattern\":{\"fillmode\":\"overlay\",\"size\":10,\"solidity\":0.2}},\"type\":\"bar\"}],\"scattergeo\":[{\"type\":\"scattergeo\",\"marker\":{\"colorbar\":{\"outlinewidth\":0,\"ticks\":\"\"}}}],\"scatterpolar\":[{\"type\":\"scatterpolar\",\"marker\":{\"colorbar\":{\"outlinewidth\":0,\"ticks\":\"\"}}}],\"histogram\":[{\"marker\":{\"pattern\":{\"fillmode\":\"overlay\",\"size\":10,\"solidity\":0.2}},\"type\":\"histogram\"}],\"scattergl\":[{\"type\":\"scattergl\",\"marker\":{\"colorbar\":{\"outlinewidth\":0,\"ticks\":\"\"}}}],\"scatter3d\":[{\"type\":\"scatter3d\",\"line\":{\"colorbar\":{\"outlinewidth\":0,\"ticks\":\"\"}},\"marker\":{\"colorbar\":{\"outlinewidth\":0,\"ticks\":\"\"}}}],\"scattermapbox\":[{\"type\":\"scattermapbox\",\"marker\":{\"colorbar\":{\"outlinewidth\":0,\"ticks\":\"\"}}}],\"scatterternary\":[{\"type\":\"scatterternary\",\"marker\":{\"colorbar\":{\"outlinewidth\":0,\"ticks\":\"\"}}}],\"scattercarpet\":[{\"type\":\"scattercarpet\",\"marker\":{\"colorbar\":{\"outlinewidth\":0,\"ticks\":\"\"}}}],\"carpet\":[{\"aaxis\":{\"endlinecolor\":\"#2a3f5f\",\"gridcolor\":\"white\",\"linecolor\":\"white\",\"minorgridcolor\":\"white\",\"startlinecolor\":\"#2a3f5f\"},\"baxis\":{\"endlinecolor\":\"#2a3f5f\",\"gridcolor\":\"white\",\"linecolor\":\"white\",\"minorgridcolor\":\"white\",\"startlinecolor\":\"#2a3f5f\"},\"type\":\"carpet\"}],\"table\":[{\"cells\":{\"fill\":{\"color\":\"#EBF0F8\"},\"line\":{\"color\":\"white\"}},\"header\":{\"fill\":{\"color\":\"#C8D4E3\"},\"line\":{\"color\":\"white\"}},\"type\":\"table\"}],\"barpolar\":[{\"marker\":{\"line\":{\"color\":\"#E5ECF6\",\"width\":0.5},\"pattern\":{\"fillmode\":\"overlay\",\"size\":10,\"solidity\":0.2}},\"type\":\"barpolar\"}],\"pie\":[{\"automargin\":true,\"type\":\"pie\"}]},\"layout\":{\"autotypenumbers\":\"strict\",\"colorway\":[\"#636efa\",\"#EF553B\",\"#00cc96\",\"#ab63fa\",\"#FFA15A\",\"#19d3f3\",\"#FF6692\",\"#B6E880\",\"#FF97FF\",\"#FECB52\"],\"font\":{\"color\":\"#2a3f5f\"},\"hovermode\":\"closest\",\"hoverlabel\":{\"align\":\"left\"},\"paper_bgcolor\":\"white\",\"plot_bgcolor\":\"#E5ECF6\",\"polar\":{\"bgcolor\":\"#E5ECF6\",\"angularaxis\":{\"gridcolor\":\"white\",\"linecolor\":\"white\",\"ticks\":\"\"},\"radialaxis\":{\"gridcolor\":\"white\",\"linecolor\":\"white\",\"ticks\":\"\"}},\"ternary\":{\"bgcolor\":\"#E5ECF6\",\"aaxis\":{\"gridcolor\":\"white\",\"linecolor\":\"white\",\"ticks\":\"\"},\"baxis\":{\"gridcolor\":\"white\",\"linecolor\":\"white\",\"ticks\":\"\"},\"caxis\":{\"gridcolor\":\"white\",\"linecolor\":\"white\",\"ticks\":\"\"}},\"coloraxis\":{\"colorbar\":{\"outlinewidth\":0,\"ticks\":\"\"}},\"colorscale\":{\"sequential\":[[0.0,\"#0d0887\"],[0.1111111111111111,\"#46039f\"],[0.2222222222222222,\"#7201a8\"],[0.3333333333333333,\"#9c179e\"],[0.4444444444444444,\"#bd3786\"],[0.5555555555555556,\"#d8576b\"],[0.6666666666666666,\"#ed7953\"],[0.7777777777777778,\"#fb9f3a\"],[0.8888888888888888,\"#fdca26\"],[1.0,\"#f0f921\"]],\"sequentialminus\":[[0.0,\"#0d0887\"],[0.1111111111111111,\"#46039f\"],[0.2222222222222222,\"#7201a8\"],[0.3333333333333333,\"#9c179e\"],[0.4444444444444444,\"#bd3786\"],[0.5555555555555556,\"#d8576b\"],[0.6666666666666666,\"#ed7953\"],[0.7777777777777778,\"#fb9f3a\"],[0.8888888888888888,\"#fdca26\"],[1.0,\"#f0f921\"]],\"diverging\":[[0,\"#8e0152\"],[0.1,\"#c51b7d\"],[0.2,\"#de77ae\"],[0.3,\"#f1b6da\"],[0.4,\"#fde0ef\"],[0.5,\"#f7f7f7\"],[0.6,\"#e6f5d0\"],[0.7,\"#b8e186\"],[0.8,\"#7fbc41\"],[0.9,\"#4d9221\"],[1,\"#276419\"]]},\"xaxis\":{\"gridcolor\":\"white\",\"linecolor\":\"white\",\"ticks\":\"\",\"title\":{\"standoff\":15},\"zerolinecolor\":\"white\",\"automargin\":true,\"zerolinewidth\":2},\"yaxis\":{\"gridcolor\":\"white\",\"linecolor\":\"white\",\"ticks\":\"\",\"title\":{\"standoff\":15},\"zerolinecolor\":\"white\",\"automargin\":true,\"zerolinewidth\":2},\"scene\":{\"xaxis\":{\"backgroundcolor\":\"#E5ECF6\",\"gridcolor\":\"white\",\"linecolor\":\"white\",\"showbackground\":true,\"ticks\":\"\",\"zerolinecolor\":\"white\",\"gridwidth\":2},\"yaxis\":{\"backgroundcolor\":\"#E5ECF6\",\"gridcolor\":\"white\",\"linecolor\":\"white\",\"showbackground\":true,\"ticks\":\"\",\"zerolinecolor\":\"white\",\"gridwidth\":2},\"zaxis\":{\"backgroundcolor\":\"#E5ECF6\",\"gridcolor\":\"white\",\"linecolor\":\"white\",\"showbackground\":true,\"ticks\":\"\",\"zerolinecolor\":\"white\",\"gridwidth\":2}},\"shapedefaults\":{\"line\":{\"color\":\"#2a3f5f\"}},\"annotationdefaults\":{\"arrowcolor\":\"#2a3f5f\",\"arrowhead\":0,\"arrowwidth\":1},\"geo\":{\"bgcolor\":\"white\",\"landcolor\":\"#E5ECF6\",\"subunitcolor\":\"white\",\"showland\":true,\"showlakes\":true,\"lakecolor\":\"white\"},\"title\":{\"x\":0.05},\"mapbox\":{\"style\":\"light\"}}},\"xaxis\":{\"anchor\":\"y\",\"domain\":[0.0,1.0],\"title\":{\"text\":\"Political Orientation\"},\"categoryorder\":\"total descending\",\"categoryarray\":[\"Conservative\"]},\"yaxis\":{\"anchor\":\"x\",\"domain\":[0.0,1.0],\"title\":{\"text\":\"Count\"}},\"legend\":{\"title\":{\"text\":\"Value\"},\"tracegroupgap\":0},\"margin\":{\"t\":60},\"barmode\":\"relative\",\"title\":{\"text\":\"Top 3 Political Books on Amazon with Highest Degree Centrality\"},\"height\":400,\"width\":700},                        {\"responsive\": true}                    ).then(function(){\n",
              "                            \n",
              "var gd = document.getElementById('8998bf8c-4178-45e6-a247-9666e15fa0e9');\n",
              "var x = new MutationObserver(function (mutations, observer) {{\n",
              "        var display = window.getComputedStyle(gd).display;\n",
              "        if (!display || display === 'none') {{\n",
              "            console.log([gd, 'removed!']);\n",
              "            Plotly.purge(gd);\n",
              "            observer.disconnect();\n",
              "        }}\n",
              "}});\n",
              "\n",
              "// Listen for the removal of the full notebook cells\n",
              "var notebookContainer = gd.closest('#notebook-container');\n",
              "if (notebookContainer) {{\n",
              "    x.observe(notebookContainer, {childList: true});\n",
              "}}\n",
              "\n",
              "// Listen for the clearing of the current output cell\n",
              "var outputEl = gd.closest('.output');\n",
              "if (outputEl) {{\n",
              "    x.observe(outputEl, {childList: true});\n",
              "}}\n",
              "\n",
              "                        })                };                            </script>        </div>\n",
              "</body>\n",
              "</html>"
            ]
          },
          "metadata": {}
        }
      ],
      "source": [
        "fig = px.histogram(top_3_degree_centrality, x='Value', color='Value',\n",
        "                   color_discrete_map={'Conservative': '#D25565', 'Neutral': '#F0B775', 'Liberal': '#2E94B9'})\n",
        "\n",
        "# update the layout of the figure\n",
        "fig.update_layout(title='Top 3 Political Books on Amazon with Highest Degree Centrality',\n",
        "                  xaxis_title='Political Orientation',\n",
        "                  yaxis_title='Count',\n",
        "                  xaxis={'categoryorder': 'total descending'},\n",
        "                  height=400, width=700)\n",
        "\n",
        "# show the plot\n",
        "fig.show()"
      ]
    },
    {
      "cell_type": "code",
      "execution_count": 14,
      "metadata": {
        "id": "qhzGJGMQNrxi",
        "colab": {
          "base_uri": "https://localhost:8080/"
        },
        "outputId": "df6809c7-b090-4bb8-d06a-946d014db6c9"
      },
      "outputs": [
        {
          "output_type": "execute_result",
          "data": {
            "text/plain": [
              "(105, 441, 4.2)"
            ]
          },
          "metadata": {},
          "execution_count": 14
        }
      ],
      "source": [
        "N_mis=len(poltext.nodes())\n",
        "E_mis=len(poltext.edges())\n",
        "N_mis,E_mis,E_mis/N_mis"
      ]
    },
    {
      "cell_type": "code",
      "execution_count": 15,
      "metadata": {
        "id": "vSK4fxTSNjsn",
        "colab": {
          "base_uri": "https://localhost:8080/",
          "height": 557,
          "referenced_widgets": [
            "b659e7e9c30641c480cf054cbed1c412"
          ]
        },
        "outputId": "eccbddc2-4985-42bd-bea0-11e0f344dae7"
      },
      "outputs": [
        {
          "output_type": "display_data",
          "data": {
            "text/plain": [
              "Sigma(nx.Graph with 105 nodes and 105 edges)"
            ],
            "application/vnd.jupyter.widget-view+json": {
              "version_major": 2,
              "version_minor": 0,
              "model_id": "b659e7e9c30641c480cf054cbed1c412"
            }
          },
          "metadata": {
            "application/vnd.jupyter.widget-view+json": {
              "colab": {
                "custom_widget_manager": {
                  "url": "https://ssl.gstatic.com/colaboratory-static/widgets/colab-cdn-widget-manager/b3e629b1971e1542/manager.min.js"
                }
              }
            }
          }
        },
        {
          "output_type": "display_data",
          "data": {
            "text/plain": [
              "<Figure size 1200x1200 with 0 Axes>"
            ]
          },
          "metadata": {}
        }
      ],
      "source": [
        "from matplotlib import pyplot as plt\n",
        "from networkx.readwrite import gml\n",
        "G = nx.watts_strogatz_graph(n = N_mis, k = 3, p = 0.05)\n",
        "pos = nx.circular_layout(G)\n",
        "plt.figure(figsize = (12, 12))\n",
        "Sigma(G, node_label='label')"
      ]
    },
    {
      "cell_type": "markdown",
      "metadata": {
        "id": "3Lbm6QTrdynT"
      },
      "source": [
        "### 3.2      betweenness_centrality\n",
        "\n",
        "This metric measures the extent to which a node lies on the shortest paths between other nodes in the network. In the context of this network, books with high betweenness centrality would be those that were frequently copurchased with other books that were not necessarily directly connected to each other.\n",
        "\n",
        "https://networkx.org/documentation/stable/auto_examples/algorithms/plot_betweenness_centrality.html"
      ]
    },
    {
      "cell_type": "code",
      "execution_count": 16,
      "metadata": {
        "id": "x99kbjJ5dyne",
        "colab": {
          "base_uri": "https://localhost:8080/"
        },
        "outputId": "59b69566-f030-490a-e805-15903fdbd341"
      },
      "outputs": [
        {
          "output_type": "stream",
          "name": "stdout",
          "text": [
            "A National Party No More: 0.2403846153846154\n",
            "Off with Their Heads: 0.2403846153846154\n",
            "Losing Bin Laden: 0.22115384615384617\n",
            "Bushwhacked: 0.22115384615384617\n",
            "American Dynasty: 0.21153846153846156\n",
            "The Great Unraveling: 0.20192307692307693\n",
            "Big Lies: 0.20192307692307693\n",
            "The Price of Loyalty: 0.19230769230769232\n",
            "Legacy: 0.17307692307692307\n",
            "Deliver Us from Evil: 0.17307692307692307\n",
            "Arrogance: 0.17307692307692307\n",
            "Bush Country: 0.15384615384615385\n",
            "The Lies of George W. Bush: 0.15384615384615385\n",
            "Worse Than Watergate: 0.15384615384615385\n",
            "Dereliction of Duty: 0.14423076923076925\n",
            "Against All Enemies: 0.14423076923076925\n",
            "Lies and the Lying Liars Who Tell Them: 0.13461538461538464\n",
            "Persecution: 0.125\n",
            "Rise of the Vulcans: 0.125\n",
            "Plan of Attack: 0.125\n"
          ]
        }
      ],
      "source": [
        "#Calculate Betweeness Centrality\n",
        "betweenness_centrality = nx.betweenness_centrality(poltext)\n",
        "\n",
        "top_books_betweeness = sorted(betweenness_centrality.items(), key=lambda x: x[1], reverse=True)[:10]\n",
        "for book, centrality in top_books:\n",
        "    print(f'{book}: {centrality}')"
      ]
    },
    {
      "cell_type": "code",
      "execution_count": 17,
      "metadata": {
        "id": "mnNoJoHReTop",
        "colab": {
          "base_uri": "https://localhost:8080/"
        },
        "outputId": "f966ed12-25ce-42d6-c77a-2c2a0a4e7050"
      },
      "outputs": [
        {
          "output_type": "execute_result",
          "data": {
            "text/plain": [
              "{'1000 Years for Revenge': 0.007433088834022092,\n",
              " 'Bush vs. the Beltway': 4.890898464136117e-05,\n",
              " \"Charlie Wilson's War\": 0.0005207326902621901,\n",
              " 'Losing Bin Laden': 0.07609290805120641,\n",
              " 'Sleeping With the Devil': 0.06292846885423584,\n",
              " 'The Man Who Warned America': 0.012880661322399524,\n",
              " 'Why America Slept': 0.0562973388998594,\n",
              " 'Ghost Wars': 0.06872446488084949,\n",
              " 'A National Party No More': 0.07490760424804607,\n",
              " 'Bush Country': 0.09839490722763909,\n",
              " 'Dereliction of Duty': 0.0337318994217265,\n",
              " 'Legacy': 0.02928266458085173,\n",
              " 'Off with Their Heads': 0.09526168061799924,\n",
              " 'Persecution': 0.01802632594468501,\n",
              " \"Rumsfeld's War\": 0.05884272084382055,\n",
              " 'Breakdown': 0.0007686618337207065,\n",
              " 'Betrayal': 0.0,\n",
              " 'Shut Up and Sing': 0.00012231472726953143,\n",
              " 'Meant To Be': 4.890898464136117e-05,\n",
              " 'The Right Man': 0.036539926798552794,\n",
              " 'Ten Minutes from Normal': 0.02622857624427163,\n",
              " \"Hillary's Scheme\": 0.00012432955394120444,\n",
              " 'The French Betrayal of America': 0.007157357840135858,\n",
              " 'Tales from the Left Coast': 0.0019479811229328465,\n",
              " 'Hating America': 0.004958632052402876,\n",
              " 'The Third Terrorist': 0.0008350706354388787,\n",
              " 'Endgame': 0.005975901181717747,\n",
              " 'Spin Sisters': 0.002889363580310579,\n",
              " \"All the Shah's Men\": 0.003838712882355029,\n",
              " 'Dangerous Dimplomacy': 0.009692590150225932,\n",
              " 'The Price of Loyalty': 0.13947827864287202,\n",
              " 'House of Bush, House of Saud': 0.03184191800587239,\n",
              " 'The Death of Right and Wrong': 0.00018226110459120172,\n",
              " 'Useful Idiots': 0.0013412365419136513,\n",
              " \"The O'Reilly Factor\": 0.00022404779686333086,\n",
              " 'Let Freedom Ring': 0.008352614883047775,\n",
              " 'Those Who Trespass': 0.0030949929458431993,\n",
              " 'Bias': 0.003638813170574349,\n",
              " 'Slander': 0.0026318276083997115,\n",
              " 'The Savage Nation': 0.006124398909172767,\n",
              " 'Deliver Us from Evil': 0.046235125046057785,\n",
              " 'Give Me a Break': 0.003302792346484169,\n",
              " 'The Enemy Within': 0.0007076152207564402,\n",
              " 'The Real America': 0.0016730213992492693,\n",
              " \"Who's Looking Out for You?\": 0.00019887467060511038,\n",
              " 'The Official Handbook Vast Right Wing Conspiracy': 0.0002372319665994536,\n",
              " 'Power Plays': 0.04274576150447068,\n",
              " 'Arrogance': 0.02773067602170457,\n",
              " 'The Perfect Wife': 0.00024990050195427345,\n",
              " 'The Bushes': 0.10364920953531946,\n",
              " 'Things Worth Fighting For': 0.0033283209737545246,\n",
              " 'Surprise, Security, the American Experience': 0.0203736440956292,\n",
              " 'Allies': 0.013325831851422193,\n",
              " 'Why Courage Matters': 0.05470328687460656,\n",
              " 'Hollywood Interrupted': 0.0001785310504628677,\n",
              " 'Fighting Back': 0.0012173406036117128,\n",
              " 'We Will Prevail': 0.0035350072921893298,\n",
              " 'The Faith of George W Bush': 0.011068708892454265,\n",
              " 'Rise of the Vulcans': 0.0752717563623536,\n",
              " 'Downsize This!': 0.0009275312066574202,\n",
              " 'Stupid White Men': 0.002942301203330694,\n",
              " 'Rush Limbaugh Is a Big Fat Idiot': 0.002213348151894827,\n",
              " 'The Best Democracy Money Can Buy': 0.0022496197053771694,\n",
              " 'The Culture of Fear': 0.0,\n",
              " 'America Unbound': 0.0283597683513484,\n",
              " 'The Choice': 0.004422061668589608,\n",
              " 'The Great Unraveling': 0.06521416418686968,\n",
              " 'Rogue Nation': 0.029415899603193154,\n",
              " 'Soft Power': 0.0018126312999745652,\n",
              " 'Colossus': 0.01051995672644742,\n",
              " 'The Sorrows of Empire': 0.003676252760920451,\n",
              " 'Against All Enemies': 0.03919482518702392,\n",
              " 'American Dynasty': 0.09093422527408519,\n",
              " 'Big Lies': 0.04319792664770023,\n",
              " 'The Lies of George W. Bush': 0.015290575022673558,\n",
              " 'Worse Than Watergate': 0.015350719135229738,\n",
              " 'Plan of Attack': 0.08030200829197105,\n",
              " 'Bush at War': 0.04086618510361618,\n",
              " 'The New Pearl Harbor': 9.981986888040572e-05,\n",
              " 'Bushwomen': 0.00178737088451559,\n",
              " 'The Bubble of American Supremacy': 0.00012525438216252257,\n",
              " 'Living History': 0.0007415367152017817,\n",
              " 'The Politics of Truth': 0.0007235836835038697,\n",
              " 'Fanatics and Fools': 0.003948738868967145,\n",
              " 'Bushwhacked': 0.05789950024330003,\n",
              " 'Disarming Iraq': 0.007856980027487505,\n",
              " 'Lies and the Lying Liars Who Tell Them': 0.03459648054457228,\n",
              " \"MoveOn's 50 Ways to Love Your Country\": 0.0009921741800678477,\n",
              " 'The Buying of the President 2004': 3.734129947722181e-05,\n",
              " 'Perfectly Legal': 0.0001524769728653224,\n",
              " 'Hegemony or Survival': 0.001035383015235434,\n",
              " 'The Exception to the Rulers': 0.003961027440730549,\n",
              " 'Freethinkers': 0.0,\n",
              " 'Had Enough?': 0.015193934368952765,\n",
              " \"It's Still the Economy, Stupid!\": 0.012827746042492512,\n",
              " \"We're Right They're Wrong\": 0.0071071182978582215,\n",
              " 'What Liberal Media?': 0.0007396951008138264,\n",
              " 'The Clinton Wars': 0.000624979040884238,\n",
              " 'Weapons of Mass Deception': 0.0003628434349280192,\n",
              " \"Dude, Where's My Country?\": 0.03970085860364794,\n",
              " 'Thieves in High Places': 0.007118781062378465,\n",
              " 'Shrub': 0.0009426880714818615,\n",
              " 'Buck Up Suck Up': 0.04099501386254997,\n",
              " 'The Future of Freedom': 0.0,\n",
              " 'Empire': 0.0015116909834817815}"
            ]
          },
          "metadata": {},
          "execution_count": 17
        }
      ],
      "source": [
        "betweenness_centrality"
      ]
    },
    {
      "cell_type": "code",
      "execution_count": 18,
      "metadata": {
        "id": "R_cw8tVcdynf"
      },
      "outputs": [],
      "source": [
        "# add a new column to the DataFrame with the prices from the dictionary\n",
        "df['betweenness_centrality'] = df['Label'].map(betweenness_centrality)"
      ]
    },
    {
      "cell_type": "code",
      "execution_count": 19,
      "metadata": {
        "id": "CaYiU_Mxdynf",
        "colab": {
          "base_uri": "https://localhost:8080/"
        },
        "outputId": "ed7a7195-c8f1-4bb8-a3b7-9419a4ee1641"
      },
      "outputs": [
        {
          "output_type": "stream",
          "name": "stdout",
          "text": [
            "Conservative    2\n",
            "Liberal         1\n",
            "Name: Value, dtype: int64\n",
            "    Id                 Label  Interval         Value  degree_centrality  \\\n",
            "30  30  The Price of Loyalty       NaN       Liberal           0.192308   \n",
            "49  49            The Bushes       NaN  Conservative           0.076923   \n",
            "9    9          Bush Country       NaN  Conservative           0.153846   \n",
            "\n",
            "    betweenness_centrality  \n",
            "30                0.139478  \n",
            "49                0.103649  \n",
            "9                 0.098395  \n"
          ]
        }
      ],
      "source": [
        "# sort the DataFrame by degree centrality in descending order and select the top 10 rows\n",
        "top_20_centrality = df.sort_values(by='betweenness_centrality', ascending=False).head(3)\n",
        "\n",
        "# count the number of points in each category within the top 10\n",
        "category_counts = top_20_centrality['Value'].value_counts()\n",
        "\n",
        "# print the category counts\n",
        "print(category_counts)\n",
        "print(top_20_centrality)"
      ]
    },
    {
      "cell_type": "code",
      "execution_count": 20,
      "metadata": {
        "id": "IKbfw5Ikdynf",
        "colab": {
          "base_uri": "https://localhost:8080/",
          "height": 417
        },
        "outputId": "608995e4-0ccc-48ce-9d7d-de7fb15a3bf3"
      },
      "outputs": [
        {
          "output_type": "display_data",
          "data": {
            "text/html": [
              "<html>\n",
              "<head><meta charset=\"utf-8\" /></head>\n",
              "<body>\n",
              "    <div>            <script src=\"https://cdnjs.cloudflare.com/ajax/libs/mathjax/2.7.5/MathJax.js?config=TeX-AMS-MML_SVG\"></script><script type=\"text/javascript\">if (window.MathJax && window.MathJax.Hub && window.MathJax.Hub.Config) {window.MathJax.Hub.Config({SVG: {font: \"STIX-Web\"}});}</script>                <script type=\"text/javascript\">window.PlotlyConfig = {MathJaxConfig: 'local'};</script>\n",
              "        <script src=\"https://cdn.plot.ly/plotly-2.18.2.min.js\"></script>                <div id=\"58a59a51-9023-47a2-a2bc-4ec73c89e624\" class=\"plotly-graph-div\" style=\"height:400px; width:700px;\"></div>            <script type=\"text/javascript\">                                    window.PLOTLYENV=window.PLOTLYENV || {};                                    if (document.getElementById(\"58a59a51-9023-47a2-a2bc-4ec73c89e624\")) {                    Plotly.newPlot(                        \"58a59a51-9023-47a2-a2bc-4ec73c89e624\",                        [{\"alignmentgroup\":\"True\",\"bingroup\":\"x\",\"hovertemplate\":\"Value=%{x}<br>count=%{y}<extra></extra>\",\"legendgroup\":\"Liberal\",\"marker\":{\"color\":\"#2E94B9\",\"pattern\":{\"shape\":\"\"}},\"name\":\"Liberal\",\"offsetgroup\":\"Liberal\",\"orientation\":\"v\",\"showlegend\":true,\"x\":[\"Liberal\"],\"xaxis\":\"x\",\"yaxis\":\"y\",\"type\":\"histogram\"},{\"alignmentgroup\":\"True\",\"bingroup\":\"x\",\"hovertemplate\":\"Value=%{x}<br>count=%{y}<extra></extra>\",\"legendgroup\":\"Conservative\",\"marker\":{\"color\":\"#D25565\",\"pattern\":{\"shape\":\"\"}},\"name\":\"Conservative\",\"offsetgroup\":\"Conservative\",\"orientation\":\"v\",\"showlegend\":true,\"x\":[\"Conservative\",\"Conservative\"],\"xaxis\":\"x\",\"yaxis\":\"y\",\"type\":\"histogram\"}],                        {\"template\":{\"data\":{\"histogram2dcontour\":[{\"type\":\"histogram2dcontour\",\"colorbar\":{\"outlinewidth\":0,\"ticks\":\"\"},\"colorscale\":[[0.0,\"#0d0887\"],[0.1111111111111111,\"#46039f\"],[0.2222222222222222,\"#7201a8\"],[0.3333333333333333,\"#9c179e\"],[0.4444444444444444,\"#bd3786\"],[0.5555555555555556,\"#d8576b\"],[0.6666666666666666,\"#ed7953\"],[0.7777777777777778,\"#fb9f3a\"],[0.8888888888888888,\"#fdca26\"],[1.0,\"#f0f921\"]]}],\"choropleth\":[{\"type\":\"choropleth\",\"colorbar\":{\"outlinewidth\":0,\"ticks\":\"\"}}],\"histogram2d\":[{\"type\":\"histogram2d\",\"colorbar\":{\"outlinewidth\":0,\"ticks\":\"\"},\"colorscale\":[[0.0,\"#0d0887\"],[0.1111111111111111,\"#46039f\"],[0.2222222222222222,\"#7201a8\"],[0.3333333333333333,\"#9c179e\"],[0.4444444444444444,\"#bd3786\"],[0.5555555555555556,\"#d8576b\"],[0.6666666666666666,\"#ed7953\"],[0.7777777777777778,\"#fb9f3a\"],[0.8888888888888888,\"#fdca26\"],[1.0,\"#f0f921\"]]}],\"heatmap\":[{\"type\":\"heatmap\",\"colorbar\":{\"outlinewidth\":0,\"ticks\":\"\"},\"colorscale\":[[0.0,\"#0d0887\"],[0.1111111111111111,\"#46039f\"],[0.2222222222222222,\"#7201a8\"],[0.3333333333333333,\"#9c179e\"],[0.4444444444444444,\"#bd3786\"],[0.5555555555555556,\"#d8576b\"],[0.6666666666666666,\"#ed7953\"],[0.7777777777777778,\"#fb9f3a\"],[0.8888888888888888,\"#fdca26\"],[1.0,\"#f0f921\"]]}],\"heatmapgl\":[{\"type\":\"heatmapgl\",\"colorbar\":{\"outlinewidth\":0,\"ticks\":\"\"},\"colorscale\":[[0.0,\"#0d0887\"],[0.1111111111111111,\"#46039f\"],[0.2222222222222222,\"#7201a8\"],[0.3333333333333333,\"#9c179e\"],[0.4444444444444444,\"#bd3786\"],[0.5555555555555556,\"#d8576b\"],[0.6666666666666666,\"#ed7953\"],[0.7777777777777778,\"#fb9f3a\"],[0.8888888888888888,\"#fdca26\"],[1.0,\"#f0f921\"]]}],\"contourcarpet\":[{\"type\":\"contourcarpet\",\"colorbar\":{\"outlinewidth\":0,\"ticks\":\"\"}}],\"contour\":[{\"type\":\"contour\",\"colorbar\":{\"outlinewidth\":0,\"ticks\":\"\"},\"colorscale\":[[0.0,\"#0d0887\"],[0.1111111111111111,\"#46039f\"],[0.2222222222222222,\"#7201a8\"],[0.3333333333333333,\"#9c179e\"],[0.4444444444444444,\"#bd3786\"],[0.5555555555555556,\"#d8576b\"],[0.6666666666666666,\"#ed7953\"],[0.7777777777777778,\"#fb9f3a\"],[0.8888888888888888,\"#fdca26\"],[1.0,\"#f0f921\"]]}],\"surface\":[{\"type\":\"surface\",\"colorbar\":{\"outlinewidth\":0,\"ticks\":\"\"},\"colorscale\":[[0.0,\"#0d0887\"],[0.1111111111111111,\"#46039f\"],[0.2222222222222222,\"#7201a8\"],[0.3333333333333333,\"#9c179e\"],[0.4444444444444444,\"#bd3786\"],[0.5555555555555556,\"#d8576b\"],[0.6666666666666666,\"#ed7953\"],[0.7777777777777778,\"#fb9f3a\"],[0.8888888888888888,\"#fdca26\"],[1.0,\"#f0f921\"]]}],\"mesh3d\":[{\"type\":\"mesh3d\",\"colorbar\":{\"outlinewidth\":0,\"ticks\":\"\"}}],\"scatter\":[{\"fillpattern\":{\"fillmode\":\"overlay\",\"size\":10,\"solidity\":0.2},\"type\":\"scatter\"}],\"parcoords\":[{\"type\":\"parcoords\",\"line\":{\"colorbar\":{\"outlinewidth\":0,\"ticks\":\"\"}}}],\"scatterpolargl\":[{\"type\":\"scatterpolargl\",\"marker\":{\"colorbar\":{\"outlinewidth\":0,\"ticks\":\"\"}}}],\"bar\":[{\"error_x\":{\"color\":\"#2a3f5f\"},\"error_y\":{\"color\":\"#2a3f5f\"},\"marker\":{\"line\":{\"color\":\"#E5ECF6\",\"width\":0.5},\"pattern\":{\"fillmode\":\"overlay\",\"size\":10,\"solidity\":0.2}},\"type\":\"bar\"}],\"scattergeo\":[{\"type\":\"scattergeo\",\"marker\":{\"colorbar\":{\"outlinewidth\":0,\"ticks\":\"\"}}}],\"scatterpolar\":[{\"type\":\"scatterpolar\",\"marker\":{\"colorbar\":{\"outlinewidth\":0,\"ticks\":\"\"}}}],\"histogram\":[{\"marker\":{\"pattern\":{\"fillmode\":\"overlay\",\"size\":10,\"solidity\":0.2}},\"type\":\"histogram\"}],\"scattergl\":[{\"type\":\"scattergl\",\"marker\":{\"colorbar\":{\"outlinewidth\":0,\"ticks\":\"\"}}}],\"scatter3d\":[{\"type\":\"scatter3d\",\"line\":{\"colorbar\":{\"outlinewidth\":0,\"ticks\":\"\"}},\"marker\":{\"colorbar\":{\"outlinewidth\":0,\"ticks\":\"\"}}}],\"scattermapbox\":[{\"type\":\"scattermapbox\",\"marker\":{\"colorbar\":{\"outlinewidth\":0,\"ticks\":\"\"}}}],\"scatterternary\":[{\"type\":\"scatterternary\",\"marker\":{\"colorbar\":{\"outlinewidth\":0,\"ticks\":\"\"}}}],\"scattercarpet\":[{\"type\":\"scattercarpet\",\"marker\":{\"colorbar\":{\"outlinewidth\":0,\"ticks\":\"\"}}}],\"carpet\":[{\"aaxis\":{\"endlinecolor\":\"#2a3f5f\",\"gridcolor\":\"white\",\"linecolor\":\"white\",\"minorgridcolor\":\"white\",\"startlinecolor\":\"#2a3f5f\"},\"baxis\":{\"endlinecolor\":\"#2a3f5f\",\"gridcolor\":\"white\",\"linecolor\":\"white\",\"minorgridcolor\":\"white\",\"startlinecolor\":\"#2a3f5f\"},\"type\":\"carpet\"}],\"table\":[{\"cells\":{\"fill\":{\"color\":\"#EBF0F8\"},\"line\":{\"color\":\"white\"}},\"header\":{\"fill\":{\"color\":\"#C8D4E3\"},\"line\":{\"color\":\"white\"}},\"type\":\"table\"}],\"barpolar\":[{\"marker\":{\"line\":{\"color\":\"#E5ECF6\",\"width\":0.5},\"pattern\":{\"fillmode\":\"overlay\",\"size\":10,\"solidity\":0.2}},\"type\":\"barpolar\"}],\"pie\":[{\"automargin\":true,\"type\":\"pie\"}]},\"layout\":{\"autotypenumbers\":\"strict\",\"colorway\":[\"#636efa\",\"#EF553B\",\"#00cc96\",\"#ab63fa\",\"#FFA15A\",\"#19d3f3\",\"#FF6692\",\"#B6E880\",\"#FF97FF\",\"#FECB52\"],\"font\":{\"color\":\"#2a3f5f\"},\"hovermode\":\"closest\",\"hoverlabel\":{\"align\":\"left\"},\"paper_bgcolor\":\"white\",\"plot_bgcolor\":\"#E5ECF6\",\"polar\":{\"bgcolor\":\"#E5ECF6\",\"angularaxis\":{\"gridcolor\":\"white\",\"linecolor\":\"white\",\"ticks\":\"\"},\"radialaxis\":{\"gridcolor\":\"white\",\"linecolor\":\"white\",\"ticks\":\"\"}},\"ternary\":{\"bgcolor\":\"#E5ECF6\",\"aaxis\":{\"gridcolor\":\"white\",\"linecolor\":\"white\",\"ticks\":\"\"},\"baxis\":{\"gridcolor\":\"white\",\"linecolor\":\"white\",\"ticks\":\"\"},\"caxis\":{\"gridcolor\":\"white\",\"linecolor\":\"white\",\"ticks\":\"\"}},\"coloraxis\":{\"colorbar\":{\"outlinewidth\":0,\"ticks\":\"\"}},\"colorscale\":{\"sequential\":[[0.0,\"#0d0887\"],[0.1111111111111111,\"#46039f\"],[0.2222222222222222,\"#7201a8\"],[0.3333333333333333,\"#9c179e\"],[0.4444444444444444,\"#bd3786\"],[0.5555555555555556,\"#d8576b\"],[0.6666666666666666,\"#ed7953\"],[0.7777777777777778,\"#fb9f3a\"],[0.8888888888888888,\"#fdca26\"],[1.0,\"#f0f921\"]],\"sequentialminus\":[[0.0,\"#0d0887\"],[0.1111111111111111,\"#46039f\"],[0.2222222222222222,\"#7201a8\"],[0.3333333333333333,\"#9c179e\"],[0.4444444444444444,\"#bd3786\"],[0.5555555555555556,\"#d8576b\"],[0.6666666666666666,\"#ed7953\"],[0.7777777777777778,\"#fb9f3a\"],[0.8888888888888888,\"#fdca26\"],[1.0,\"#f0f921\"]],\"diverging\":[[0,\"#8e0152\"],[0.1,\"#c51b7d\"],[0.2,\"#de77ae\"],[0.3,\"#f1b6da\"],[0.4,\"#fde0ef\"],[0.5,\"#f7f7f7\"],[0.6,\"#e6f5d0\"],[0.7,\"#b8e186\"],[0.8,\"#7fbc41\"],[0.9,\"#4d9221\"],[1,\"#276419\"]]},\"xaxis\":{\"gridcolor\":\"white\",\"linecolor\":\"white\",\"ticks\":\"\",\"title\":{\"standoff\":15},\"zerolinecolor\":\"white\",\"automargin\":true,\"zerolinewidth\":2},\"yaxis\":{\"gridcolor\":\"white\",\"linecolor\":\"white\",\"ticks\":\"\",\"title\":{\"standoff\":15},\"zerolinecolor\":\"white\",\"automargin\":true,\"zerolinewidth\":2},\"scene\":{\"xaxis\":{\"backgroundcolor\":\"#E5ECF6\",\"gridcolor\":\"white\",\"linecolor\":\"white\",\"showbackground\":true,\"ticks\":\"\",\"zerolinecolor\":\"white\",\"gridwidth\":2},\"yaxis\":{\"backgroundcolor\":\"#E5ECF6\",\"gridcolor\":\"white\",\"linecolor\":\"white\",\"showbackground\":true,\"ticks\":\"\",\"zerolinecolor\":\"white\",\"gridwidth\":2},\"zaxis\":{\"backgroundcolor\":\"#E5ECF6\",\"gridcolor\":\"white\",\"linecolor\":\"white\",\"showbackground\":true,\"ticks\":\"\",\"zerolinecolor\":\"white\",\"gridwidth\":2}},\"shapedefaults\":{\"line\":{\"color\":\"#2a3f5f\"}},\"annotationdefaults\":{\"arrowcolor\":\"#2a3f5f\",\"arrowhead\":0,\"arrowwidth\":1},\"geo\":{\"bgcolor\":\"white\",\"landcolor\":\"#E5ECF6\",\"subunitcolor\":\"white\",\"showland\":true,\"showlakes\":true,\"lakecolor\":\"white\"},\"title\":{\"x\":0.05},\"mapbox\":{\"style\":\"light\"}}},\"xaxis\":{\"anchor\":\"y\",\"domain\":[0.0,1.0],\"title\":{\"text\":\"Political Orientation\"},\"categoryorder\":\"total descending\",\"categoryarray\":[\"Liberal\",\"Conservative\"]},\"yaxis\":{\"anchor\":\"x\",\"domain\":[0.0,1.0],\"title\":{\"text\":\"Count\"}},\"legend\":{\"title\":{\"text\":\"Value\"},\"tracegroupgap\":0},\"margin\":{\"t\":60},\"barmode\":\"relative\",\"title\":{\"text\":\"Top 20 Political Books on Amazon with Highest Betweenness Centrality\"},\"height\":400,\"width\":700},                        {\"responsive\": true}                    ).then(function(){\n",
              "                            \n",
              "var gd = document.getElementById('58a59a51-9023-47a2-a2bc-4ec73c89e624');\n",
              "var x = new MutationObserver(function (mutations, observer) {{\n",
              "        var display = window.getComputedStyle(gd).display;\n",
              "        if (!display || display === 'none') {{\n",
              "            console.log([gd, 'removed!']);\n",
              "            Plotly.purge(gd);\n",
              "            observer.disconnect();\n",
              "        }}\n",
              "}});\n",
              "\n",
              "// Listen for the removal of the full notebook cells\n",
              "var notebookContainer = gd.closest('#notebook-container');\n",
              "if (notebookContainer) {{\n",
              "    x.observe(notebookContainer, {childList: true});\n",
              "}}\n",
              "\n",
              "// Listen for the clearing of the current output cell\n",
              "var outputEl = gd.closest('.output');\n",
              "if (outputEl) {{\n",
              "    x.observe(outputEl, {childList: true});\n",
              "}}\n",
              "\n",
              "                        })                };                            </script>        </div>\n",
              "</body>\n",
              "</html>"
            ]
          },
          "metadata": {}
        }
      ],
      "source": [
        "fig = px.histogram(top_20_centrality, x='Value', color='Value',\n",
        "                   color_discrete_map={'Conservative': '#D25565', 'Neutral': '#F0B775', 'Liberal': '#2E94B9'})\n",
        "\n",
        "# update the layout of the figure\n",
        "fig.update_layout(title='Top 20 Political Books on Amazon with Highest Betweenness Centrality',\n",
        "                  xaxis_title='Political Orientation',\n",
        "                  yaxis_title='Count',\n",
        "                  xaxis={'categoryorder': 'total descending'},\n",
        "                  height=400, width=700)\n",
        "\n",
        "# show the plot\n",
        "fig.show()"
      ]
    },
    {
      "cell_type": "markdown",
      "metadata": {
        "id": "qRBO9kEef2Ak"
      },
      "source": [
        "### 3.3      Community Detection (Modularity Maximisation)\n",
        "\n",
        "This analysis involves identifying groups of nodes that are more tightly connected to each other than to the rest of the network. In the context of this network, communities could represent clusters of books that were frequently copurchased together, perhaps corresponding to different political ideologies or topics. \n",
        "\n",
        "This section use Modularity Maximisation Algorithm\n",
        "\n",
        "https://networkx.org/documentation/stable/reference/algorithms/generated/networkx.algorithms.community.modularity_max.greedy_modularity_communities.html#networkx.algorithms.community.modularity_max.greedy_modularity_communities\n"
      ]
    },
    {
      "cell_type": "code",
      "execution_count": 21,
      "metadata": {
        "id": "M_mi4hjxf_8a",
        "colab": {
          "base_uri": "https://localhost:8080/"
        },
        "outputId": "54a918cf-ea66-44f1-cc1f-ecd5f2b5d3bc"
      },
      "outputs": [
        {
          "output_type": "execute_result",
          "data": {
            "text/plain": [
              "[frozenset({'1000 Years for Revenge',\n",
              "            'A National Party No More',\n",
              "            'Arrogance',\n",
              "            'Betrayal',\n",
              "            'Bias',\n",
              "            'Breakdown',\n",
              "            'Bush Country',\n",
              "            'Bush vs. the Beltway',\n",
              "            \"Charlie Wilson's War\",\n",
              "            'Dangerous Dimplomacy',\n",
              "            'Deliver Us from Evil',\n",
              "            'Dereliction of Duty',\n",
              "            'Endgame',\n",
              "            'Fighting Back',\n",
              "            'Ghost Wars',\n",
              "            'Give Me a Break',\n",
              "            'Hating America',\n",
              "            \"Hillary's Scheme\",\n",
              "            'Hollywood Interrupted',\n",
              "            'Legacy',\n",
              "            'Let Freedom Ring',\n",
              "            'Losing Bin Laden',\n",
              "            'Meant To Be',\n",
              "            'Off with Their Heads',\n",
              "            'Persecution',\n",
              "            'Power Plays',\n",
              "            \"Rumsfeld's War\",\n",
              "            'Shut Up and Sing',\n",
              "            'Slander',\n",
              "            'Sleeping With the Devil',\n",
              "            'Spin Sisters',\n",
              "            'Tales from the Left Coast',\n",
              "            'Ten Minutes from Normal',\n",
              "            'The Death of Right and Wrong',\n",
              "            'The Enemy Within',\n",
              "            'The French Betrayal of America',\n",
              "            'The Man Who Warned America',\n",
              "            \"The O'Reilly Factor\",\n",
              "            'The Official Handbook Vast Right Wing Conspiracy',\n",
              "            'The Real America',\n",
              "            'The Right Man',\n",
              "            'The Savage Nation',\n",
              "            'The Third Terrorist',\n",
              "            'Those Who Trespass',\n",
              "            'Useful Idiots',\n",
              "            'We Will Prevail',\n",
              "            \"Who's Looking Out for You?\",\n",
              "            'Why America Slept',\n",
              "            'Why Courage Matters'}),\n",
              " frozenset({'Against All Enemies',\n",
              "            \"All the Shah's Men\",\n",
              "            'American Dynasty',\n",
              "            'Big Lies',\n",
              "            'Buck Up Suck Up',\n",
              "            'Bush at War',\n",
              "            'Bushwhacked',\n",
              "            'Bushwomen',\n",
              "            'Downsize This!',\n",
              "            \"Dude, Where's My Country?\",\n",
              "            'Fanatics and Fools',\n",
              "            'Freethinkers',\n",
              "            'Had Enough?',\n",
              "            'Hegemony or Survival',\n",
              "            'House of Bush, House of Saud',\n",
              "            \"It's Still the Economy, Stupid!\",\n",
              "            'Lies and the Lying Liars Who Tell Them',\n",
              "            'Living History',\n",
              "            \"MoveOn's 50 Ways to Love Your Country\",\n",
              "            'Perfectly Legal',\n",
              "            'Plan of Attack',\n",
              "            'Rush Limbaugh Is a Big Fat Idiot',\n",
              "            'Shrub',\n",
              "            'Stupid White Men',\n",
              "            'The Best Democracy Money Can Buy',\n",
              "            'The Bubble of American Supremacy',\n",
              "            'The Buying of the President 2004',\n",
              "            'The Clinton Wars',\n",
              "            'The Culture of Fear',\n",
              "            'The Exception to the Rulers',\n",
              "            'The Great Unraveling',\n",
              "            'The Lies of George W. Bush',\n",
              "            'The New Pearl Harbor',\n",
              "            'The Politics of Truth',\n",
              "            'The Price of Loyalty',\n",
              "            'The Sorrows of Empire',\n",
              "            'Thieves in High Places',\n",
              "            \"We're Right They're Wrong\",\n",
              "            'Weapons of Mass Deception',\n",
              "            'What Liberal Media?',\n",
              "            'Worse Than Watergate'}),\n",
              " frozenset({'Allies',\n",
              "            'America Unbound',\n",
              "            'Colossus',\n",
              "            'Disarming Iraq',\n",
              "            'Empire',\n",
              "            'Rise of the Vulcans',\n",
              "            'Rogue Nation',\n",
              "            'Soft Power',\n",
              "            'Surprise, Security, the American Experience',\n",
              "            'The Choice',\n",
              "            'The Future of Freedom',\n",
              "            'Things Worth Fighting For'}),\n",
              " frozenset({'The Bushes', 'The Faith of George W Bush', 'The Perfect Wife'})]"
            ]
          },
          "metadata": {},
          "execution_count": 21
        }
      ],
      "source": [
        "import community\n",
        "\n",
        "community_greedy_modularity = nx.community.greedy_modularity_communities(poltext, weight=None, resolution=1, cutoff=1, best_n=None)\n",
        "community_greedy_modularity"
      ]
    },
    {
      "cell_type": "code",
      "execution_count": 22,
      "metadata": {
        "id": "BMiDTgdWjPQZ",
        "colab": {
          "base_uri": "https://localhost:8080/"
        },
        "outputId": "1e1e57cb-8aa1-4853-8969-635e1edb91b7"
      },
      "outputs": [
        {
          "output_type": "execute_result",
          "data": {
            "text/plain": [
              "[[\"Who's Looking Out for You?\",\n",
              "  'Slander',\n",
              "  'The Right Man',\n",
              "  'Shut Up and Sing',\n",
              "  'Those Who Trespass',\n",
              "  'Dangerous Dimplomacy',\n",
              "  'Hating America',\n",
              "  'The French Betrayal of America',\n",
              "  'Losing Bin Laden',\n",
              "  'The Death of Right and Wrong',\n",
              "  'The Third Terrorist',\n",
              "  \"Rumsfeld's War\",\n",
              "  'Betrayal',\n",
              "  'Bush Country',\n",
              "  'Tales from the Left Coast',\n",
              "  'Fighting Back',\n",
              "  'The Enemy Within',\n",
              "  'Breakdown',\n",
              "  'We Will Prevail',\n",
              "  'Power Plays',\n",
              "  'Give Me a Break',\n",
              "  'A National Party No More',\n",
              "  '1000 Years for Revenge',\n",
              "  'Ghost Wars',\n",
              "  'Useful Idiots',\n",
              "  \"Hillary's Scheme\",\n",
              "  'Why Courage Matters',\n",
              "  'Dereliction of Duty',\n",
              "  'The Real America',\n",
              "  'Ten Minutes from Normal',\n",
              "  'Off with Their Heads',\n",
              "  'Legacy',\n",
              "  'Hollywood Interrupted',\n",
              "  'Bush vs. the Beltway',\n",
              "  'Deliver Us from Evil',\n",
              "  'Let Freedom Ring',\n",
              "  'Persecution',\n",
              "  'The Man Who Warned America',\n",
              "  'Spin Sisters',\n",
              "  \"Charlie Wilson's War\",\n",
              "  \"The O'Reilly Factor\",\n",
              "  'Endgame',\n",
              "  'Arrogance',\n",
              "  'The Savage Nation',\n",
              "  'Bias',\n",
              "  'Why America Slept',\n",
              "  'Meant To Be',\n",
              "  'The Official Handbook Vast Right Wing Conspiracy',\n",
              "  'Sleeping With the Devil'],\n",
              " ['American Dynasty',\n",
              "  'The Price of Loyalty',\n",
              "  'Plan of Attack',\n",
              "  'Bushwomen',\n",
              "  'The Bubble of American Supremacy',\n",
              "  'Lies and the Lying Liars Who Tell Them',\n",
              "  'What Liberal Media?',\n",
              "  'Stupid White Men',\n",
              "  'Buck Up Suck Up',\n",
              "  'Rush Limbaugh Is a Big Fat Idiot',\n",
              "  'The Best Democracy Money Can Buy',\n",
              "  \"MoveOn's 50 Ways to Love Your Country\",\n",
              "  'Downsize This!',\n",
              "  'Shrub',\n",
              "  \"It's Still the Economy, Stupid!\",\n",
              "  'The Clinton Wars',\n",
              "  \"We're Right They're Wrong\",\n",
              "  'The New Pearl Harbor',\n",
              "  'The Great Unraveling',\n",
              "  'The Exception to the Rulers',\n",
              "  'The Sorrows of Empire',\n",
              "  'Worse Than Watergate',\n",
              "  'The Lies of George W. Bush',\n",
              "  'Perfectly Legal',\n",
              "  'Bushwhacked',\n",
              "  'House of Bush, House of Saud',\n",
              "  'Had Enough?',\n",
              "  'Fanatics and Fools',\n",
              "  \"Dude, Where's My Country?\",\n",
              "  'Living History',\n",
              "  'The Culture of Fear',\n",
              "  'Against All Enemies',\n",
              "  'The Politics of Truth',\n",
              "  'The Buying of the President 2004',\n",
              "  'Thieves in High Places',\n",
              "  'Weapons of Mass Deception',\n",
              "  \"All the Shah's Men\",\n",
              "  'Bush at War',\n",
              "  'Hegemony or Survival',\n",
              "  'Big Lies',\n",
              "  'Freethinkers'],\n",
              " ['Surprise, Security, the American Experience',\n",
              "  'Disarming Iraq',\n",
              "  'Colossus',\n",
              "  'Rise of the Vulcans',\n",
              "  'The Future of Freedom',\n",
              "  'Things Worth Fighting For',\n",
              "  'Soft Power',\n",
              "  'Empire',\n",
              "  'The Choice',\n",
              "  'Rogue Nation',\n",
              "  'America Unbound',\n",
              "  'Allies'],\n",
              " ['The Faith of George W Bush', 'The Bushes', 'The Perfect Wife']]"
            ]
          },
          "metadata": {},
          "execution_count": 22
        }
      ],
      "source": [
        "community_list =[]\n",
        "for i in community_greedy_modularity:\n",
        "  list_item = list(i)\n",
        "  community_list.append(list_item)\n",
        "community_list"
      ]
    },
    {
      "cell_type": "code",
      "execution_count": 23,
      "metadata": {
        "id": "hrFcGNhmkt5D",
        "colab": {
          "base_uri": "https://localhost:8080/"
        },
        "outputId": "b0da0d93-3326-47b3-f3a8-3259adb5b9cd"
      },
      "outputs": [
        {
          "output_type": "stream",
          "name": "stdout",
          "text": [
            "105\n",
            "{\"Who's Looking Out for You?\": 1, 'Slander': 1, 'The Right Man': 1, 'Shut Up and Sing': 1, 'Those Who Trespass': 1, 'Dangerous Dimplomacy': 1, 'Hating America': 1, 'The French Betrayal of America': 1, 'Losing Bin Laden': 1, 'The Death of Right and Wrong': 1, 'The Third Terrorist': 1, \"Rumsfeld's War\": 1, 'Betrayal': 1, 'Bush Country': 1, 'Tales from the Left Coast': 1, 'Fighting Back': 1, 'The Enemy Within': 1, 'Breakdown': 1, 'We Will Prevail': 1, 'Power Plays': 1, 'Give Me a Break': 1, 'A National Party No More': 1, '1000 Years for Revenge': 1, 'Ghost Wars': 1, 'Useful Idiots': 1, \"Hillary's Scheme\": 1, 'Why Courage Matters': 1, 'Dereliction of Duty': 1, 'The Real America': 1, 'Ten Minutes from Normal': 1, 'Off with Their Heads': 1, 'Legacy': 1, 'Hollywood Interrupted': 1, 'Bush vs. the Beltway': 1, 'Deliver Us from Evil': 1, 'Let Freedom Ring': 1, 'Persecution': 1, 'The Man Who Warned America': 1, 'Spin Sisters': 1, \"Charlie Wilson's War\": 1, \"The O'Reilly Factor\": 1, 'Endgame': 1, 'Arrogance': 1, 'The Savage Nation': 1, 'Bias': 1, 'Why America Slept': 1, 'Meant To Be': 1, 'The Official Handbook Vast Right Wing Conspiracy': 1, 'Sleeping With the Devil': 1, 'American Dynasty': 2, 'The Price of Loyalty': 2, 'Plan of Attack': 2, 'Bushwomen': 2, 'The Bubble of American Supremacy': 2, 'Lies and the Lying Liars Who Tell Them': 2, 'What Liberal Media?': 2, 'Stupid White Men': 2, 'Buck Up Suck Up': 2, 'Rush Limbaugh Is a Big Fat Idiot': 2, 'The Best Democracy Money Can Buy': 2, \"MoveOn's 50 Ways to Love Your Country\": 2, 'Downsize This!': 2, 'Shrub': 2, \"It's Still the Economy, Stupid!\": 2, 'The Clinton Wars': 2, \"We're Right They're Wrong\": 2, 'The New Pearl Harbor': 2, 'The Great Unraveling': 2, 'The Exception to the Rulers': 2, 'The Sorrows of Empire': 2, 'Worse Than Watergate': 2, 'The Lies of George W. Bush': 2, 'Perfectly Legal': 2, 'Bushwhacked': 2, 'House of Bush, House of Saud': 2, 'Had Enough?': 2, 'Fanatics and Fools': 2, \"Dude, Where's My Country?\": 2, 'Living History': 2, 'The Culture of Fear': 2, 'Against All Enemies': 2, 'The Politics of Truth': 2, 'The Buying of the President 2004': 2, 'Thieves in High Places': 2, 'Weapons of Mass Deception': 2, \"All the Shah's Men\": 2, 'Bush at War': 2, 'Hegemony or Survival': 2, 'Big Lies': 2, 'Freethinkers': 2, 'Surprise, Security, the American Experience': 3, 'Disarming Iraq': 3, 'Colossus': 3, 'Rise of the Vulcans': 3, 'The Future of Freedom': 3, 'Things Worth Fighting For': 3, 'Soft Power': 3, 'Empire': 3, 'The Choice': 3, 'Rogue Nation': 3, 'America Unbound': 3, 'Allies': 3, 'The Faith of George W Bush': 4, 'The Bushes': 4, 'The Perfect Wife': 4}\n"
          ]
        }
      ],
      "source": [
        "df_community = pd.DataFrame\n",
        "community_1 = community_list[0]\n",
        "community_2 = community_list[1]\n",
        "community_3 = community_list[2]\n",
        "community_4 = community_list[3]\n",
        "\n",
        "book_list = []\n",
        "for i in community_1:\n",
        "  book_list.append(i)\n",
        "for i in community_2:\n",
        "  book_list.append(i)\n",
        "for i in community_3:\n",
        "  book_list.append(i)\n",
        "for i in community_4:\n",
        "  book_list.append(i)\n",
        "\n",
        "print(len(book_list))\n",
        "\n",
        "community_dict = {}\n",
        "\n",
        "for item in book_list:\n",
        "        if item in community_1:\n",
        "            community_dict[item] = 1\n",
        "        if item in community_2:\n",
        "            community_dict[item] = 2\n",
        "        if item in community_3:\n",
        "            community_dict[item] = 3\n",
        "        if item in community_4:\n",
        "            community_dict[item] = 4\n",
        "\n",
        "\n",
        "\n",
        "print(community_dict)"
      ]
    },
    {
      "cell_type": "code",
      "execution_count": 24,
      "metadata": {
        "id": "nNZndMv3qWQu"
      },
      "outputs": [],
      "source": [
        "df['communtiy_modularity'] = df['Label'].map(community_dict)"
      ]
    },
    {
      "cell_type": "code",
      "source": [
        "df"
      ],
      "metadata": {
        "id": "OUFMmo-Dr3sH",
        "colab": {
          "base_uri": "https://localhost:8080/",
          "height": 424
        },
        "outputId": "637a3b81-7a0b-4236-e5f6-b8ae3c01b0e4"
      },
      "execution_count": 25,
      "outputs": [
        {
          "output_type": "execute_result",
          "data": {
            "text/plain": [
              "      Id                    Label  Interval         Value  degree_centrality  \\\n",
              "0      0   1000 Years for Revenge       NaN       Neutral           0.057692   \n",
              "1      1     Bush vs. the Beltway       NaN  Conservative           0.038462   \n",
              "2      2     Charlie Wilson's War       NaN  Conservative           0.038462   \n",
              "3      3         Losing Bin Laden       NaN  Conservative           0.221154   \n",
              "4      4  Sleeping With the Devil       NaN       Neutral           0.076923   \n",
              "..   ...                      ...       ...           ...                ...   \n",
              "100  100   Thieves in High Places       NaN       Liberal           0.115385   \n",
              "101  101                    Shrub       NaN       Liberal           0.048077   \n",
              "102  102          Buck Up Suck Up       NaN       Liberal           0.038462   \n",
              "103  103    The Future of Freedom       NaN       Neutral           0.019231   \n",
              "104  104                   Empire       NaN       Neutral           0.028846   \n",
              "\n",
              "     betweenness_centrality  communtiy_modularity  \n",
              "0                  0.007433                     1  \n",
              "1                  0.000049                     1  \n",
              "2                  0.000521                     1  \n",
              "3                  0.076093                     1  \n",
              "4                  0.062928                     1  \n",
              "..                      ...                   ...  \n",
              "100                0.007119                     2  \n",
              "101                0.000943                     2  \n",
              "102                0.040995                     2  \n",
              "103                0.000000                     3  \n",
              "104                0.001512                     3  \n",
              "\n",
              "[105 rows x 7 columns]"
            ],
            "text/html": [
              "\n",
              "  <div id=\"df-4adf4bc1-db06-4fe7-9acf-93bc7b8c2b35\">\n",
              "    <div class=\"colab-df-container\">\n",
              "      <div>\n",
              "<style scoped>\n",
              "    .dataframe tbody tr th:only-of-type {\n",
              "        vertical-align: middle;\n",
              "    }\n",
              "\n",
              "    .dataframe tbody tr th {\n",
              "        vertical-align: top;\n",
              "    }\n",
              "\n",
              "    .dataframe thead th {\n",
              "        text-align: right;\n",
              "    }\n",
              "</style>\n",
              "<table border=\"1\" class=\"dataframe\">\n",
              "  <thead>\n",
              "    <tr style=\"text-align: right;\">\n",
              "      <th></th>\n",
              "      <th>Id</th>\n",
              "      <th>Label</th>\n",
              "      <th>Interval</th>\n",
              "      <th>Value</th>\n",
              "      <th>degree_centrality</th>\n",
              "      <th>betweenness_centrality</th>\n",
              "      <th>communtiy_modularity</th>\n",
              "    </tr>\n",
              "  </thead>\n",
              "  <tbody>\n",
              "    <tr>\n",
              "      <th>0</th>\n",
              "      <td>0</td>\n",
              "      <td>1000 Years for Revenge</td>\n",
              "      <td>NaN</td>\n",
              "      <td>Neutral</td>\n",
              "      <td>0.057692</td>\n",
              "      <td>0.007433</td>\n",
              "      <td>1</td>\n",
              "    </tr>\n",
              "    <tr>\n",
              "      <th>1</th>\n",
              "      <td>1</td>\n",
              "      <td>Bush vs. the Beltway</td>\n",
              "      <td>NaN</td>\n",
              "      <td>Conservative</td>\n",
              "      <td>0.038462</td>\n",
              "      <td>0.000049</td>\n",
              "      <td>1</td>\n",
              "    </tr>\n",
              "    <tr>\n",
              "      <th>2</th>\n",
              "      <td>2</td>\n",
              "      <td>Charlie Wilson's War</td>\n",
              "      <td>NaN</td>\n",
              "      <td>Conservative</td>\n",
              "      <td>0.038462</td>\n",
              "      <td>0.000521</td>\n",
              "      <td>1</td>\n",
              "    </tr>\n",
              "    <tr>\n",
              "      <th>3</th>\n",
              "      <td>3</td>\n",
              "      <td>Losing Bin Laden</td>\n",
              "      <td>NaN</td>\n",
              "      <td>Conservative</td>\n",
              "      <td>0.221154</td>\n",
              "      <td>0.076093</td>\n",
              "      <td>1</td>\n",
              "    </tr>\n",
              "    <tr>\n",
              "      <th>4</th>\n",
              "      <td>4</td>\n",
              "      <td>Sleeping With the Devil</td>\n",
              "      <td>NaN</td>\n",
              "      <td>Neutral</td>\n",
              "      <td>0.076923</td>\n",
              "      <td>0.062928</td>\n",
              "      <td>1</td>\n",
              "    </tr>\n",
              "    <tr>\n",
              "      <th>...</th>\n",
              "      <td>...</td>\n",
              "      <td>...</td>\n",
              "      <td>...</td>\n",
              "      <td>...</td>\n",
              "      <td>...</td>\n",
              "      <td>...</td>\n",
              "      <td>...</td>\n",
              "    </tr>\n",
              "    <tr>\n",
              "      <th>100</th>\n",
              "      <td>100</td>\n",
              "      <td>Thieves in High Places</td>\n",
              "      <td>NaN</td>\n",
              "      <td>Liberal</td>\n",
              "      <td>0.115385</td>\n",
              "      <td>0.007119</td>\n",
              "      <td>2</td>\n",
              "    </tr>\n",
              "    <tr>\n",
              "      <th>101</th>\n",
              "      <td>101</td>\n",
              "      <td>Shrub</td>\n",
              "      <td>NaN</td>\n",
              "      <td>Liberal</td>\n",
              "      <td>0.048077</td>\n",
              "      <td>0.000943</td>\n",
              "      <td>2</td>\n",
              "    </tr>\n",
              "    <tr>\n",
              "      <th>102</th>\n",
              "      <td>102</td>\n",
              "      <td>Buck Up Suck Up</td>\n",
              "      <td>NaN</td>\n",
              "      <td>Liberal</td>\n",
              "      <td>0.038462</td>\n",
              "      <td>0.040995</td>\n",
              "      <td>2</td>\n",
              "    </tr>\n",
              "    <tr>\n",
              "      <th>103</th>\n",
              "      <td>103</td>\n",
              "      <td>The Future of Freedom</td>\n",
              "      <td>NaN</td>\n",
              "      <td>Neutral</td>\n",
              "      <td>0.019231</td>\n",
              "      <td>0.000000</td>\n",
              "      <td>3</td>\n",
              "    </tr>\n",
              "    <tr>\n",
              "      <th>104</th>\n",
              "      <td>104</td>\n",
              "      <td>Empire</td>\n",
              "      <td>NaN</td>\n",
              "      <td>Neutral</td>\n",
              "      <td>0.028846</td>\n",
              "      <td>0.001512</td>\n",
              "      <td>3</td>\n",
              "    </tr>\n",
              "  </tbody>\n",
              "</table>\n",
              "<p>105 rows × 7 columns</p>\n",
              "</div>\n",
              "      <button class=\"colab-df-convert\" onclick=\"convertToInteractive('df-4adf4bc1-db06-4fe7-9acf-93bc7b8c2b35')\"\n",
              "              title=\"Convert this dataframe to an interactive table.\"\n",
              "              style=\"display:none;\">\n",
              "        \n",
              "  <svg xmlns=\"http://www.w3.org/2000/svg\" height=\"24px\"viewBox=\"0 0 24 24\"\n",
              "       width=\"24px\">\n",
              "    <path d=\"M0 0h24v24H0V0z\" fill=\"none\"/>\n",
              "    <path d=\"M18.56 5.44l.94 2.06.94-2.06 2.06-.94-2.06-.94-.94-2.06-.94 2.06-2.06.94zm-11 1L8.5 8.5l.94-2.06 2.06-.94-2.06-.94L8.5 2.5l-.94 2.06-2.06.94zm10 10l.94 2.06.94-2.06 2.06-.94-2.06-.94-.94-2.06-.94 2.06-2.06.94z\"/><path d=\"M17.41 7.96l-1.37-1.37c-.4-.4-.92-.59-1.43-.59-.52 0-1.04.2-1.43.59L10.3 9.45l-7.72 7.72c-.78.78-.78 2.05 0 2.83L4 21.41c.39.39.9.59 1.41.59.51 0 1.02-.2 1.41-.59l7.78-7.78 2.81-2.81c.8-.78.8-2.07 0-2.86zM5.41 20L4 18.59l7.72-7.72 1.47 1.35L5.41 20z\"/>\n",
              "  </svg>\n",
              "      </button>\n",
              "      \n",
              "  <style>\n",
              "    .colab-df-container {\n",
              "      display:flex;\n",
              "      flex-wrap:wrap;\n",
              "      gap: 12px;\n",
              "    }\n",
              "\n",
              "    .colab-df-convert {\n",
              "      background-color: #E8F0FE;\n",
              "      border: none;\n",
              "      border-radius: 50%;\n",
              "      cursor: pointer;\n",
              "      display: none;\n",
              "      fill: #1967D2;\n",
              "      height: 32px;\n",
              "      padding: 0 0 0 0;\n",
              "      width: 32px;\n",
              "    }\n",
              "\n",
              "    .colab-df-convert:hover {\n",
              "      background-color: #E2EBFA;\n",
              "      box-shadow: 0px 1px 2px rgba(60, 64, 67, 0.3), 0px 1px 3px 1px rgba(60, 64, 67, 0.15);\n",
              "      fill: #174EA6;\n",
              "    }\n",
              "\n",
              "    [theme=dark] .colab-df-convert {\n",
              "      background-color: #3B4455;\n",
              "      fill: #D2E3FC;\n",
              "    }\n",
              "\n",
              "    [theme=dark] .colab-df-convert:hover {\n",
              "      background-color: #434B5C;\n",
              "      box-shadow: 0px 1px 3px 1px rgba(0, 0, 0, 0.15);\n",
              "      filter: drop-shadow(0px 1px 2px rgba(0, 0, 0, 0.3));\n",
              "      fill: #FFFFFF;\n",
              "    }\n",
              "  </style>\n",
              "\n",
              "      <script>\n",
              "        const buttonEl =\n",
              "          document.querySelector('#df-4adf4bc1-db06-4fe7-9acf-93bc7b8c2b35 button.colab-df-convert');\n",
              "        buttonEl.style.display =\n",
              "          google.colab.kernel.accessAllowed ? 'block' : 'none';\n",
              "\n",
              "        async function convertToInteractive(key) {\n",
              "          const element = document.querySelector('#df-4adf4bc1-db06-4fe7-9acf-93bc7b8c2b35');\n",
              "          const dataTable =\n",
              "            await google.colab.kernel.invokeFunction('convertToInteractive',\n",
              "                                                     [key], {});\n",
              "          if (!dataTable) return;\n",
              "\n",
              "          const docLinkHtml = 'Like what you see? Visit the ' +\n",
              "            '<a target=\"_blank\" href=https://colab.research.google.com/notebooks/data_table.ipynb>data table notebook</a>'\n",
              "            + ' to learn more about interactive tables.';\n",
              "          element.innerHTML = '';\n",
              "          dataTable['output_type'] = 'display_data';\n",
              "          await google.colab.output.renderOutput(dataTable, element);\n",
              "          const docLink = document.createElement('div');\n",
              "          docLink.innerHTML = docLinkHtml;\n",
              "          element.appendChild(docLink);\n",
              "        }\n",
              "      </script>\n",
              "    </div>\n",
              "  </div>\n",
              "  "
            ]
          },
          "metadata": {},
          "execution_count": 25
        }
      ]
    },
    {
      "cell_type": "code",
      "source": [
        "category_counts = df['communtiy_modularity'].value_counts()\n",
        "\n",
        "# print the category counts\n",
        "print(category_counts)"
      ],
      "metadata": {
        "id": "a70ZDES2sB00",
        "colab": {
          "base_uri": "https://localhost:8080/"
        },
        "outputId": "ae36cd37-ac2d-4ede-a199-e5fa4fceef64"
      },
      "execution_count": 26,
      "outputs": [
        {
          "output_type": "stream",
          "name": "stdout",
          "text": [
            "1    49\n",
            "2    41\n",
            "3    12\n",
            "4     3\n",
            "Name: communtiy_modularity, dtype: int64\n"
          ]
        }
      ]
    },
    {
      "cell_type": "code",
      "source": [
        "fig = px.histogram(df, x='communtiy_modularity', color='Value', barmode='group',\n",
        "            color_discrete_map={'Conservative': '#D25565', 'Neutral': '#F0B775', 'Liberal': '#2E94B9'})\n",
        "\n",
        "# update the layout of the figure\n",
        "fig.update_layout(title='Community Detection of Political Books on Amazon with Modularity Maximisation',\n",
        "                  xaxis_title='Community',\n",
        "                  yaxis_title='Count',\n",
        "                  xaxis={'categoryorder': 'total descending'},\n",
        "                  height=400, width=900)\n",
        "\n",
        "# show the plot\n",
        "fig.show()"
      ],
      "metadata": {
        "id": "me_3WMigsXQ-",
        "colab": {
          "base_uri": "https://localhost:8080/",
          "height": 417
        },
        "outputId": "4d502caf-cc38-4dba-c4ea-c9fcf77efb5d"
      },
      "execution_count": 27,
      "outputs": [
        {
          "output_type": "display_data",
          "data": {
            "text/html": [
              "<html>\n",
              "<head><meta charset=\"utf-8\" /></head>\n",
              "<body>\n",
              "    <div>            <script src=\"https://cdnjs.cloudflare.com/ajax/libs/mathjax/2.7.5/MathJax.js?config=TeX-AMS-MML_SVG\"></script><script type=\"text/javascript\">if (window.MathJax && window.MathJax.Hub && window.MathJax.Hub.Config) {window.MathJax.Hub.Config({SVG: {font: \"STIX-Web\"}});}</script>                <script type=\"text/javascript\">window.PlotlyConfig = {MathJaxConfig: 'local'};</script>\n",
              "        <script src=\"https://cdn.plot.ly/plotly-2.18.2.min.js\"></script>                <div id=\"77973f4c-0055-4d34-9e8f-c28944cb8032\" class=\"plotly-graph-div\" style=\"height:400px; width:900px;\"></div>            <script type=\"text/javascript\">                                    window.PLOTLYENV=window.PLOTLYENV || {};                                    if (document.getElementById(\"77973f4c-0055-4d34-9e8f-c28944cb8032\")) {                    Plotly.newPlot(                        \"77973f4c-0055-4d34-9e8f-c28944cb8032\",                        [{\"alignmentgroup\":\"True\",\"bingroup\":\"x\",\"hovertemplate\":\"Value=Neutral<br>communtiy_modularity=%{x}<br>count=%{y}<extra></extra>\",\"legendgroup\":\"Neutral\",\"marker\":{\"color\":\"#F0B775\",\"pattern\":{\"shape\":\"\"}},\"name\":\"Neutral\",\"offsetgroup\":\"Neutral\",\"orientation\":\"v\",\"showlegend\":true,\"x\":[1,1,1,1,1,2,1,4,3,3,2,3,3],\"xaxis\":\"x\",\"yaxis\":\"y\",\"type\":\"histogram\"},{\"alignmentgroup\":\"True\",\"bingroup\":\"x\",\"hovertemplate\":\"Value=Conservative<br>communtiy_modularity=%{x}<br>count=%{y}<extra></extra>\",\"legendgroup\":\"Conservative\",\"marker\":{\"color\":\"#D25565\",\"pattern\":{\"shape\":\"\"}},\"name\":\"Conservative\",\"offsetgroup\":\"Conservative\",\"orientation\":\"v\",\"showlegend\":true,\"x\":[1,1,1,1,1,1,1,1,1,1,1,1,1,1,1,1,1,1,1,1,1,1,1,1,1,1,1,1,1,1,1,1,1,1,1,1,1,1,1,4,3,3,1,1,1,1,4,3,2],\"xaxis\":\"x\",\"yaxis\":\"y\",\"type\":\"histogram\"},{\"alignmentgroup\":\"True\",\"bingroup\":\"x\",\"hovertemplate\":\"Value=Liberal<br>communtiy_modularity=%{x}<br>count=%{y}<extra></extra>\",\"legendgroup\":\"Liberal\",\"marker\":{\"color\":\"#2E94B9\",\"pattern\":{\"shape\":\"\"}},\"name\":\"Liberal\",\"offsetgroup\":\"Liberal\",\"orientation\":\"v\",\"showlegend\":true,\"x\":[2,2,2,2,2,2,2,3,3,2,3,3,2,2,2,2,2,2,2,2,2,2,2,2,2,3,2,2,2,2,2,2,2,2,2,2,2,2,2,2,2,2,2],\"xaxis\":\"x\",\"yaxis\":\"y\",\"type\":\"histogram\"}],                        {\"template\":{\"data\":{\"histogram2dcontour\":[{\"type\":\"histogram2dcontour\",\"colorbar\":{\"outlinewidth\":0,\"ticks\":\"\"},\"colorscale\":[[0.0,\"#0d0887\"],[0.1111111111111111,\"#46039f\"],[0.2222222222222222,\"#7201a8\"],[0.3333333333333333,\"#9c179e\"],[0.4444444444444444,\"#bd3786\"],[0.5555555555555556,\"#d8576b\"],[0.6666666666666666,\"#ed7953\"],[0.7777777777777778,\"#fb9f3a\"],[0.8888888888888888,\"#fdca26\"],[1.0,\"#f0f921\"]]}],\"choropleth\":[{\"type\":\"choropleth\",\"colorbar\":{\"outlinewidth\":0,\"ticks\":\"\"}}],\"histogram2d\":[{\"type\":\"histogram2d\",\"colorbar\":{\"outlinewidth\":0,\"ticks\":\"\"},\"colorscale\":[[0.0,\"#0d0887\"],[0.1111111111111111,\"#46039f\"],[0.2222222222222222,\"#7201a8\"],[0.3333333333333333,\"#9c179e\"],[0.4444444444444444,\"#bd3786\"],[0.5555555555555556,\"#d8576b\"],[0.6666666666666666,\"#ed7953\"],[0.7777777777777778,\"#fb9f3a\"],[0.8888888888888888,\"#fdca26\"],[1.0,\"#f0f921\"]]}],\"heatmap\":[{\"type\":\"heatmap\",\"colorbar\":{\"outlinewidth\":0,\"ticks\":\"\"},\"colorscale\":[[0.0,\"#0d0887\"],[0.1111111111111111,\"#46039f\"],[0.2222222222222222,\"#7201a8\"],[0.3333333333333333,\"#9c179e\"],[0.4444444444444444,\"#bd3786\"],[0.5555555555555556,\"#d8576b\"],[0.6666666666666666,\"#ed7953\"],[0.7777777777777778,\"#fb9f3a\"],[0.8888888888888888,\"#fdca26\"],[1.0,\"#f0f921\"]]}],\"heatmapgl\":[{\"type\":\"heatmapgl\",\"colorbar\":{\"outlinewidth\":0,\"ticks\":\"\"},\"colorscale\":[[0.0,\"#0d0887\"],[0.1111111111111111,\"#46039f\"],[0.2222222222222222,\"#7201a8\"],[0.3333333333333333,\"#9c179e\"],[0.4444444444444444,\"#bd3786\"],[0.5555555555555556,\"#d8576b\"],[0.6666666666666666,\"#ed7953\"],[0.7777777777777778,\"#fb9f3a\"],[0.8888888888888888,\"#fdca26\"],[1.0,\"#f0f921\"]]}],\"contourcarpet\":[{\"type\":\"contourcarpet\",\"colorbar\":{\"outlinewidth\":0,\"ticks\":\"\"}}],\"contour\":[{\"type\":\"contour\",\"colorbar\":{\"outlinewidth\":0,\"ticks\":\"\"},\"colorscale\":[[0.0,\"#0d0887\"],[0.1111111111111111,\"#46039f\"],[0.2222222222222222,\"#7201a8\"],[0.3333333333333333,\"#9c179e\"],[0.4444444444444444,\"#bd3786\"],[0.5555555555555556,\"#d8576b\"],[0.6666666666666666,\"#ed7953\"],[0.7777777777777778,\"#fb9f3a\"],[0.8888888888888888,\"#fdca26\"],[1.0,\"#f0f921\"]]}],\"surface\":[{\"type\":\"surface\",\"colorbar\":{\"outlinewidth\":0,\"ticks\":\"\"},\"colorscale\":[[0.0,\"#0d0887\"],[0.1111111111111111,\"#46039f\"],[0.2222222222222222,\"#7201a8\"],[0.3333333333333333,\"#9c179e\"],[0.4444444444444444,\"#bd3786\"],[0.5555555555555556,\"#d8576b\"],[0.6666666666666666,\"#ed7953\"],[0.7777777777777778,\"#fb9f3a\"],[0.8888888888888888,\"#fdca26\"],[1.0,\"#f0f921\"]]}],\"mesh3d\":[{\"type\":\"mesh3d\",\"colorbar\":{\"outlinewidth\":0,\"ticks\":\"\"}}],\"scatter\":[{\"fillpattern\":{\"fillmode\":\"overlay\",\"size\":10,\"solidity\":0.2},\"type\":\"scatter\"}],\"parcoords\":[{\"type\":\"parcoords\",\"line\":{\"colorbar\":{\"outlinewidth\":0,\"ticks\":\"\"}}}],\"scatterpolargl\":[{\"type\":\"scatterpolargl\",\"marker\":{\"colorbar\":{\"outlinewidth\":0,\"ticks\":\"\"}}}],\"bar\":[{\"error_x\":{\"color\":\"#2a3f5f\"},\"error_y\":{\"color\":\"#2a3f5f\"},\"marker\":{\"line\":{\"color\":\"#E5ECF6\",\"width\":0.5},\"pattern\":{\"fillmode\":\"overlay\",\"size\":10,\"solidity\":0.2}},\"type\":\"bar\"}],\"scattergeo\":[{\"type\":\"scattergeo\",\"marker\":{\"colorbar\":{\"outlinewidth\":0,\"ticks\":\"\"}}}],\"scatterpolar\":[{\"type\":\"scatterpolar\",\"marker\":{\"colorbar\":{\"outlinewidth\":0,\"ticks\":\"\"}}}],\"histogram\":[{\"marker\":{\"pattern\":{\"fillmode\":\"overlay\",\"size\":10,\"solidity\":0.2}},\"type\":\"histogram\"}],\"scattergl\":[{\"type\":\"scattergl\",\"marker\":{\"colorbar\":{\"outlinewidth\":0,\"ticks\":\"\"}}}],\"scatter3d\":[{\"type\":\"scatter3d\",\"line\":{\"colorbar\":{\"outlinewidth\":0,\"ticks\":\"\"}},\"marker\":{\"colorbar\":{\"outlinewidth\":0,\"ticks\":\"\"}}}],\"scattermapbox\":[{\"type\":\"scattermapbox\",\"marker\":{\"colorbar\":{\"outlinewidth\":0,\"ticks\":\"\"}}}],\"scatterternary\":[{\"type\":\"scatterternary\",\"marker\":{\"colorbar\":{\"outlinewidth\":0,\"ticks\":\"\"}}}],\"scattercarpet\":[{\"type\":\"scattercarpet\",\"marker\":{\"colorbar\":{\"outlinewidth\":0,\"ticks\":\"\"}}}],\"carpet\":[{\"aaxis\":{\"endlinecolor\":\"#2a3f5f\",\"gridcolor\":\"white\",\"linecolor\":\"white\",\"minorgridcolor\":\"white\",\"startlinecolor\":\"#2a3f5f\"},\"baxis\":{\"endlinecolor\":\"#2a3f5f\",\"gridcolor\":\"white\",\"linecolor\":\"white\",\"minorgridcolor\":\"white\",\"startlinecolor\":\"#2a3f5f\"},\"type\":\"carpet\"}],\"table\":[{\"cells\":{\"fill\":{\"color\":\"#EBF0F8\"},\"line\":{\"color\":\"white\"}},\"header\":{\"fill\":{\"color\":\"#C8D4E3\"},\"line\":{\"color\":\"white\"}},\"type\":\"table\"}],\"barpolar\":[{\"marker\":{\"line\":{\"color\":\"#E5ECF6\",\"width\":0.5},\"pattern\":{\"fillmode\":\"overlay\",\"size\":10,\"solidity\":0.2}},\"type\":\"barpolar\"}],\"pie\":[{\"automargin\":true,\"type\":\"pie\"}]},\"layout\":{\"autotypenumbers\":\"strict\",\"colorway\":[\"#636efa\",\"#EF553B\",\"#00cc96\",\"#ab63fa\",\"#FFA15A\",\"#19d3f3\",\"#FF6692\",\"#B6E880\",\"#FF97FF\",\"#FECB52\"],\"font\":{\"color\":\"#2a3f5f\"},\"hovermode\":\"closest\",\"hoverlabel\":{\"align\":\"left\"},\"paper_bgcolor\":\"white\",\"plot_bgcolor\":\"#E5ECF6\",\"polar\":{\"bgcolor\":\"#E5ECF6\",\"angularaxis\":{\"gridcolor\":\"white\",\"linecolor\":\"white\",\"ticks\":\"\"},\"radialaxis\":{\"gridcolor\":\"white\",\"linecolor\":\"white\",\"ticks\":\"\"}},\"ternary\":{\"bgcolor\":\"#E5ECF6\",\"aaxis\":{\"gridcolor\":\"white\",\"linecolor\":\"white\",\"ticks\":\"\"},\"baxis\":{\"gridcolor\":\"white\",\"linecolor\":\"white\",\"ticks\":\"\"},\"caxis\":{\"gridcolor\":\"white\",\"linecolor\":\"white\",\"ticks\":\"\"}},\"coloraxis\":{\"colorbar\":{\"outlinewidth\":0,\"ticks\":\"\"}},\"colorscale\":{\"sequential\":[[0.0,\"#0d0887\"],[0.1111111111111111,\"#46039f\"],[0.2222222222222222,\"#7201a8\"],[0.3333333333333333,\"#9c179e\"],[0.4444444444444444,\"#bd3786\"],[0.5555555555555556,\"#d8576b\"],[0.6666666666666666,\"#ed7953\"],[0.7777777777777778,\"#fb9f3a\"],[0.8888888888888888,\"#fdca26\"],[1.0,\"#f0f921\"]],\"sequentialminus\":[[0.0,\"#0d0887\"],[0.1111111111111111,\"#46039f\"],[0.2222222222222222,\"#7201a8\"],[0.3333333333333333,\"#9c179e\"],[0.4444444444444444,\"#bd3786\"],[0.5555555555555556,\"#d8576b\"],[0.6666666666666666,\"#ed7953\"],[0.7777777777777778,\"#fb9f3a\"],[0.8888888888888888,\"#fdca26\"],[1.0,\"#f0f921\"]],\"diverging\":[[0,\"#8e0152\"],[0.1,\"#c51b7d\"],[0.2,\"#de77ae\"],[0.3,\"#f1b6da\"],[0.4,\"#fde0ef\"],[0.5,\"#f7f7f7\"],[0.6,\"#e6f5d0\"],[0.7,\"#b8e186\"],[0.8,\"#7fbc41\"],[0.9,\"#4d9221\"],[1,\"#276419\"]]},\"xaxis\":{\"gridcolor\":\"white\",\"linecolor\":\"white\",\"ticks\":\"\",\"title\":{\"standoff\":15},\"zerolinecolor\":\"white\",\"automargin\":true,\"zerolinewidth\":2},\"yaxis\":{\"gridcolor\":\"white\",\"linecolor\":\"white\",\"ticks\":\"\",\"title\":{\"standoff\":15},\"zerolinecolor\":\"white\",\"automargin\":true,\"zerolinewidth\":2},\"scene\":{\"xaxis\":{\"backgroundcolor\":\"#E5ECF6\",\"gridcolor\":\"white\",\"linecolor\":\"white\",\"showbackground\":true,\"ticks\":\"\",\"zerolinecolor\":\"white\",\"gridwidth\":2},\"yaxis\":{\"backgroundcolor\":\"#E5ECF6\",\"gridcolor\":\"white\",\"linecolor\":\"white\",\"showbackground\":true,\"ticks\":\"\",\"zerolinecolor\":\"white\",\"gridwidth\":2},\"zaxis\":{\"backgroundcolor\":\"#E5ECF6\",\"gridcolor\":\"white\",\"linecolor\":\"white\",\"showbackground\":true,\"ticks\":\"\",\"zerolinecolor\":\"white\",\"gridwidth\":2}},\"shapedefaults\":{\"line\":{\"color\":\"#2a3f5f\"}},\"annotationdefaults\":{\"arrowcolor\":\"#2a3f5f\",\"arrowhead\":0,\"arrowwidth\":1},\"geo\":{\"bgcolor\":\"white\",\"landcolor\":\"#E5ECF6\",\"subunitcolor\":\"white\",\"showland\":true,\"showlakes\":true,\"lakecolor\":\"white\"},\"title\":{\"x\":0.05},\"mapbox\":{\"style\":\"light\"}}},\"xaxis\":{\"anchor\":\"y\",\"domain\":[0.0,1.0],\"title\":{\"text\":\"Community\"},\"categoryorder\":\"total descending\"},\"yaxis\":{\"anchor\":\"x\",\"domain\":[0.0,1.0],\"title\":{\"text\":\"Count\"}},\"legend\":{\"title\":{\"text\":\"Value\"},\"tracegroupgap\":0},\"margin\":{\"t\":60},\"barmode\":\"group\",\"title\":{\"text\":\"Community Detection of Political Books on Amazon with Modularity Maximisation\"},\"height\":400,\"width\":900},                        {\"responsive\": true}                    ).then(function(){\n",
              "                            \n",
              "var gd = document.getElementById('77973f4c-0055-4d34-9e8f-c28944cb8032');\n",
              "var x = new MutationObserver(function (mutations, observer) {{\n",
              "        var display = window.getComputedStyle(gd).display;\n",
              "        if (!display || display === 'none') {{\n",
              "            console.log([gd, 'removed!']);\n",
              "            Plotly.purge(gd);\n",
              "            observer.disconnect();\n",
              "        }}\n",
              "}});\n",
              "\n",
              "// Listen for the removal of the full notebook cells\n",
              "var notebookContainer = gd.closest('#notebook-container');\n",
              "if (notebookContainer) {{\n",
              "    x.observe(notebookContainer, {childList: true});\n",
              "}}\n",
              "\n",
              "// Listen for the clearing of the current output cell\n",
              "var outputEl = gd.closest('.output');\n",
              "if (outputEl) {{\n",
              "    x.observe(outputEl, {childList: true});\n",
              "}}\n",
              "\n",
              "                        })                };                            </script>        </div>\n",
              "</body>\n",
              "</html>"
            ]
          },
          "metadata": {}
        }
      ]
    },
    {
      "cell_type": "markdown",
      "metadata": {
        "id": "Q-lT6I-zt94_"
      },
      "source": [
        "### 3.4      Community Detection (Louvain Algorithm)\n",
        "\n",
        "This analysis involves identifying groups of nodes that are more tightly connected to each other than to the rest of the network. In the context of this network, communities could represent clusters of books that were frequently copurchased together, perhaps corresponding to different political ideologies or topics. \n",
        "\n",
        "This section use Louvain Algorithm \n",
        "\n",
        "https://networkx.org/documentation/stable/reference/algorithms/generated/networkx.algorithms.community.louvain.louvain_communities.html#networkx.algorithms.community.louvain.louvain_communities\n"
      ]
    },
    {
      "cell_type": "code",
      "execution_count": 35,
      "metadata": {
        "id": "yfRrrROst95N",
        "colab": {
          "base_uri": "https://localhost:8080/"
        },
        "outputId": "f36ad1f2-ba46-4098-e030-dd186cb1b4de"
      },
      "outputs": [
        {
          "output_type": "execute_result",
          "data": {
            "text/plain": [
              "[{'1000 Years for Revenge',\n",
              "  'Bush vs. the Beltway',\n",
              "  \"Charlie Wilson's War\",\n",
              "  'Dangerous Dimplomacy',\n",
              "  'Ghost Wars',\n",
              "  'Sleeping With the Devil',\n",
              "  'The Man Who Warned America',\n",
              "  'Why America Slept'},\n",
              " {'A National Party No More',\n",
              "  'Arrogance',\n",
              "  'Betrayal',\n",
              "  'Bias',\n",
              "  'Breakdown',\n",
              "  'Bush Country',\n",
              "  'Deliver Us from Evil',\n",
              "  'Dereliction of Duty',\n",
              "  'Endgame',\n",
              "  'Fighting Back',\n",
              "  'Give Me a Break',\n",
              "  'Hating America',\n",
              "  \"Hillary's Scheme\",\n",
              "  'Hollywood Interrupted',\n",
              "  'Legacy',\n",
              "  'Let Freedom Ring',\n",
              "  'Losing Bin Laden',\n",
              "  'Meant To Be',\n",
              "  'Off with Their Heads',\n",
              "  'Persecution',\n",
              "  'Power Plays',\n",
              "  \"Rumsfeld's War\",\n",
              "  'Shut Up and Sing',\n",
              "  'Slander',\n",
              "  'Spin Sisters',\n",
              "  'Tales from the Left Coast',\n",
              "  'Ten Minutes from Normal',\n",
              "  'The Death of Right and Wrong',\n",
              "  'The Enemy Within',\n",
              "  'The French Betrayal of America',\n",
              "  \"The O'Reilly Factor\",\n",
              "  'The Official Handbook Vast Right Wing Conspiracy',\n",
              "  'The Real America',\n",
              "  'The Right Man',\n",
              "  'The Savage Nation',\n",
              "  'The Third Terrorist',\n",
              "  'Things Worth Fighting For',\n",
              "  'Those Who Trespass',\n",
              "  'Useful Idiots',\n",
              "  'We Will Prevail',\n",
              "  \"Who's Looking Out for You?\",\n",
              "  'Why Courage Matters'},\n",
              " {'The Bushes', 'The Faith of George W Bush', 'The Perfect Wife'},\n",
              " {'Allies',\n",
              "  'America Unbound',\n",
              "  'Colossus',\n",
              "  'Disarming Iraq',\n",
              "  'Empire',\n",
              "  'Rise of the Vulcans',\n",
              "  'Rogue Nation',\n",
              "  'Soft Power',\n",
              "  'Surprise, Security, the American Experience',\n",
              "  'The Choice',\n",
              "  'The Future of Freedom'},\n",
              " {'Against All Enemies',\n",
              "  \"All the Shah's Men\",\n",
              "  'American Dynasty',\n",
              "  'Big Lies',\n",
              "  'Buck Up Suck Up',\n",
              "  'Bush at War',\n",
              "  'Bushwhacked',\n",
              "  'Bushwomen',\n",
              "  'Downsize This!',\n",
              "  \"Dude, Where's My Country?\",\n",
              "  'Fanatics and Fools',\n",
              "  'Freethinkers',\n",
              "  'Had Enough?',\n",
              "  'Hegemony or Survival',\n",
              "  'House of Bush, House of Saud',\n",
              "  \"It's Still the Economy, Stupid!\",\n",
              "  'Lies and the Lying Liars Who Tell Them',\n",
              "  'Living History',\n",
              "  \"MoveOn's 50 Ways to Love Your Country\",\n",
              "  'Perfectly Legal',\n",
              "  'Plan of Attack',\n",
              "  'Rush Limbaugh Is a Big Fat Idiot',\n",
              "  'Shrub',\n",
              "  'Stupid White Men',\n",
              "  'The Best Democracy Money Can Buy',\n",
              "  'The Bubble of American Supremacy',\n",
              "  'The Buying of the President 2004',\n",
              "  'The Clinton Wars',\n",
              "  'The Culture of Fear',\n",
              "  'The Exception to the Rulers',\n",
              "  'The Great Unraveling',\n",
              "  'The Lies of George W. Bush',\n",
              "  'The New Pearl Harbor',\n",
              "  'The Politics of Truth',\n",
              "  'The Price of Loyalty',\n",
              "  'The Sorrows of Empire',\n",
              "  'Thieves in High Places',\n",
              "  \"We're Right They're Wrong\",\n",
              "  'Weapons of Mass Deception',\n",
              "  'What Liberal Media?',\n",
              "  'Worse Than Watergate'}]"
            ]
          },
          "metadata": {},
          "execution_count": 35
        }
      ],
      "source": [
        "import community\n",
        "\n",
        "community_louvain= nx.community.louvain_communities(poltext, weight=None, resolution=1, threshold=1e-07, seed=None)\n",
        "\n",
        "community_louvain"
      ]
    },
    {
      "cell_type": "code",
      "execution_count": 36,
      "metadata": {
        "id": "3pNaxpnVt95N",
        "colab": {
          "base_uri": "https://localhost:8080/"
        },
        "outputId": "eb366eb5-4f4d-4883-adfb-870562c24047"
      },
      "outputs": [
        {
          "output_type": "execute_result",
          "data": {
            "text/plain": [
              "[[\"Charlie Wilson's War\",\n",
              "  'Ghost Wars',\n",
              "  'Sleeping With the Devil',\n",
              "  'Why America Slept',\n",
              "  'Dangerous Dimplomacy',\n",
              "  'Bush vs. the Beltway',\n",
              "  '1000 Years for Revenge',\n",
              "  'The Man Who Warned America'],\n",
              " [\"Who's Looking Out for You?\",\n",
              "  'Slander',\n",
              "  'The Right Man',\n",
              "  'Shut Up and Sing',\n",
              "  'Those Who Trespass',\n",
              "  'The French Betrayal of America',\n",
              "  'Hating America',\n",
              "  'Losing Bin Laden',\n",
              "  'The Death of Right and Wrong',\n",
              "  'The Third Terrorist',\n",
              "  \"Rumsfeld's War\",\n",
              "  'Betrayal',\n",
              "  'Bush Country',\n",
              "  'Fighting Back',\n",
              "  'Tales from the Left Coast',\n",
              "  'The Enemy Within',\n",
              "  'Breakdown',\n",
              "  'We Will Prevail',\n",
              "  'Power Plays',\n",
              "  'Give Me a Break',\n",
              "  'A National Party No More',\n",
              "  'Useful Idiots',\n",
              "  \"Hillary's Scheme\",\n",
              "  'Why Courage Matters',\n",
              "  'Dereliction of Duty',\n",
              "  'The Real America',\n",
              "  'Off with Their Heads',\n",
              "  'Legacy',\n",
              "  'Ten Minutes from Normal',\n",
              "  'Hollywood Interrupted',\n",
              "  'Deliver Us from Evil',\n",
              "  'Let Freedom Ring',\n",
              "  'Persecution',\n",
              "  'Spin Sisters',\n",
              "  \"The O'Reilly Factor\",\n",
              "  'Endgame',\n",
              "  'Arrogance',\n",
              "  'The Savage Nation',\n",
              "  'Bias',\n",
              "  'Things Worth Fighting For',\n",
              "  'Meant To Be',\n",
              "  'The Official Handbook Vast Right Wing Conspiracy'],\n",
              " ['The Faith of George W Bush', 'The Bushes', 'The Perfect Wife'],\n",
              " ['Surprise, Security, the American Experience',\n",
              "  'Disarming Iraq',\n",
              "  'America Unbound',\n",
              "  'Colossus',\n",
              "  'Rise of the Vulcans',\n",
              "  'The Future of Freedom',\n",
              "  'Empire',\n",
              "  'The Choice',\n",
              "  'Rogue Nation',\n",
              "  'Soft Power',\n",
              "  'Allies'],\n",
              " ['American Dynasty',\n",
              "  'Plan of Attack',\n",
              "  'The Price of Loyalty',\n",
              "  'Bushwomen',\n",
              "  'The Bubble of American Supremacy',\n",
              "  'Lies and the Lying Liars Who Tell Them',\n",
              "  'What Liberal Media?',\n",
              "  'Buck Up Suck Up',\n",
              "  'Rush Limbaugh Is a Big Fat Idiot',\n",
              "  \"MoveOn's 50 Ways to Love Your Country\",\n",
              "  'Stupid White Men',\n",
              "  'The Best Democracy Money Can Buy',\n",
              "  'Downsize This!',\n",
              "  'Shrub',\n",
              "  \"It's Still the Economy, Stupid!\",\n",
              "  'The Clinton Wars',\n",
              "  \"We're Right They're Wrong\",\n",
              "  'The New Pearl Harbor',\n",
              "  'The Great Unraveling',\n",
              "  'The Exception to the Rulers',\n",
              "  'Worse Than Watergate',\n",
              "  'The Sorrows of Empire',\n",
              "  'The Lies of George W. Bush',\n",
              "  'Perfectly Legal',\n",
              "  'Bushwhacked',\n",
              "  'House of Bush, House of Saud',\n",
              "  'Had Enough?',\n",
              "  'Fanatics and Fools',\n",
              "  \"Dude, Where's My Country?\",\n",
              "  'Living History',\n",
              "  'Against All Enemies',\n",
              "  'The Culture of Fear',\n",
              "  'The Politics of Truth',\n",
              "  'The Buying of the President 2004',\n",
              "  'Thieves in High Places',\n",
              "  'Weapons of Mass Deception',\n",
              "  \"All the Shah's Men\",\n",
              "  'Bush at War',\n",
              "  'Hegemony or Survival',\n",
              "  'Big Lies',\n",
              "  'Freethinkers']]"
            ]
          },
          "metadata": {},
          "execution_count": 36
        }
      ],
      "source": [
        "community_list =[]\n",
        "for i in community_louvain:\n",
        "  list_item = list(i)\n",
        "  community_list.append(list_item)\n",
        "community_list"
      ]
    },
    {
      "cell_type": "code",
      "execution_count": 37,
      "metadata": {
        "id": "70FeJviIt95N",
        "colab": {
          "base_uri": "https://localhost:8080/"
        },
        "outputId": "4386cb31-c61b-4ea1-9492-76e04c7305a7"
      },
      "outputs": [
        {
          "output_type": "stream",
          "name": "stdout",
          "text": [
            "64\n",
            "{\"Charlie Wilson's War\": 1, 'Ghost Wars': 1, 'Sleeping With the Devil': 1, 'Why America Slept': 1, 'Dangerous Dimplomacy': 1, 'Bush vs. the Beltway': 1, '1000 Years for Revenge': 1, 'The Man Who Warned America': 1, \"Who's Looking Out for You?\": 2, 'Slander': 2, 'The Right Man': 2, 'Shut Up and Sing': 2, 'Those Who Trespass': 2, 'The French Betrayal of America': 2, 'Hating America': 2, 'Losing Bin Laden': 2, 'The Death of Right and Wrong': 2, 'The Third Terrorist': 2, \"Rumsfeld's War\": 2, 'Betrayal': 2, 'Bush Country': 2, 'Fighting Back': 2, 'Tales from the Left Coast': 2, 'The Enemy Within': 2, 'Breakdown': 2, 'We Will Prevail': 2, 'Power Plays': 2, 'Give Me a Break': 2, 'A National Party No More': 2, 'Useful Idiots': 2, \"Hillary's Scheme\": 2, 'Why Courage Matters': 2, 'Dereliction of Duty': 2, 'The Real America': 2, 'Off with Their Heads': 2, 'Legacy': 2, 'Ten Minutes from Normal': 2, 'Hollywood Interrupted': 2, 'Deliver Us from Evil': 2, 'Let Freedom Ring': 2, 'Persecution': 2, 'Spin Sisters': 2, \"The O'Reilly Factor\": 2, 'Endgame': 2, 'Arrogance': 2, 'The Savage Nation': 2, 'Bias': 2, 'Things Worth Fighting For': 2, 'Meant To Be': 2, 'The Official Handbook Vast Right Wing Conspiracy': 2, 'The Faith of George W Bush': 3, 'The Bushes': 3, 'The Perfect Wife': 3, 'Surprise, Security, the American Experience': 4, 'Disarming Iraq': 4, 'America Unbound': 4, 'Colossus': 4, 'Rise of the Vulcans': 4, 'The Future of Freedom': 4, 'Empire': 4, 'The Choice': 4, 'Rogue Nation': 4, 'Soft Power': 4, 'Allies': 4}\n"
          ]
        }
      ],
      "source": [
        "df_community = pd.DataFrame\n",
        "community_1 = community_list[0]\n",
        "community_2 = community_list[1]\n",
        "community_3 = community_list[2]\n",
        "community_4 = community_list[3]\n",
        "\n",
        "book_list = []\n",
        "for i in community_1:\n",
        "  book_list.append(i)\n",
        "for i in community_2:\n",
        "  book_list.append(i)\n",
        "for i in community_3:\n",
        "  book_list.append(i)\n",
        "for i in community_4:\n",
        "  book_list.append(i)\n",
        "print(len(book_list))\n",
        "community_dict = {}\n",
        "\n",
        "for item in book_list:\n",
        "        if item in community_1:\n",
        "            community_dict[item] = 1\n",
        "        if item in community_2:\n",
        "            community_dict[item] = 2\n",
        "        if item in community_3:\n",
        "            community_dict[item] = 3\n",
        "        if item in community_4:\n",
        "            community_dict[item] = 4\n",
        "\n",
        "\n",
        "\n",
        "print(community_dict)"
      ]
    },
    {
      "cell_type": "code",
      "execution_count": 38,
      "metadata": {
        "id": "PCLS-ie1t95O"
      },
      "outputs": [],
      "source": [
        "df['community_louvain'] = df['Label'].map(community_dict)"
      ]
    },
    {
      "cell_type": "code",
      "source": [
        "df"
      ],
      "metadata": {
        "id": "M5qwKrKHt95O",
        "colab": {
          "base_uri": "https://localhost:8080/",
          "height": 424
        },
        "outputId": "8d5e9b53-41ab-499d-c669-07f0664f821c"
      },
      "execution_count": 39,
      "outputs": [
        {
          "output_type": "execute_result",
          "data": {
            "text/plain": [
              "      Id                    Label  Interval         Value  degree_centrality  \\\n",
              "0      0   1000 Years for Revenge       NaN       Neutral           0.057692   \n",
              "1      1     Bush vs. the Beltway       NaN  Conservative           0.038462   \n",
              "2      2     Charlie Wilson's War       NaN  Conservative           0.038462   \n",
              "3      3         Losing Bin Laden       NaN  Conservative           0.221154   \n",
              "4      4  Sleeping With the Devil       NaN       Neutral           0.076923   \n",
              "..   ...                      ...       ...           ...                ...   \n",
              "100  100   Thieves in High Places       NaN       Liberal           0.115385   \n",
              "101  101                    Shrub       NaN       Liberal           0.048077   \n",
              "102  102          Buck Up Suck Up       NaN       Liberal           0.038462   \n",
              "103  103    The Future of Freedom       NaN       Neutral           0.019231   \n",
              "104  104                   Empire       NaN       Neutral           0.028846   \n",
              "\n",
              "     betweenness_centrality  communtiy_modularity  community_louvain  \n",
              "0                  0.007433                     1                1.0  \n",
              "1                  0.000049                     1                1.0  \n",
              "2                  0.000521                     1                1.0  \n",
              "3                  0.076093                     1                2.0  \n",
              "4                  0.062928                     1                1.0  \n",
              "..                      ...                   ...                ...  \n",
              "100                0.007119                     2                NaN  \n",
              "101                0.000943                     2                NaN  \n",
              "102                0.040995                     2                NaN  \n",
              "103                0.000000                     3                4.0  \n",
              "104                0.001512                     3                4.0  \n",
              "\n",
              "[105 rows x 8 columns]"
            ],
            "text/html": [
              "\n",
              "  <div id=\"df-6e1fefa1-81b7-4cab-9cf2-8195cfc073e0\">\n",
              "    <div class=\"colab-df-container\">\n",
              "      <div>\n",
              "<style scoped>\n",
              "    .dataframe tbody tr th:only-of-type {\n",
              "        vertical-align: middle;\n",
              "    }\n",
              "\n",
              "    .dataframe tbody tr th {\n",
              "        vertical-align: top;\n",
              "    }\n",
              "\n",
              "    .dataframe thead th {\n",
              "        text-align: right;\n",
              "    }\n",
              "</style>\n",
              "<table border=\"1\" class=\"dataframe\">\n",
              "  <thead>\n",
              "    <tr style=\"text-align: right;\">\n",
              "      <th></th>\n",
              "      <th>Id</th>\n",
              "      <th>Label</th>\n",
              "      <th>Interval</th>\n",
              "      <th>Value</th>\n",
              "      <th>degree_centrality</th>\n",
              "      <th>betweenness_centrality</th>\n",
              "      <th>communtiy_modularity</th>\n",
              "      <th>community_louvain</th>\n",
              "    </tr>\n",
              "  </thead>\n",
              "  <tbody>\n",
              "    <tr>\n",
              "      <th>0</th>\n",
              "      <td>0</td>\n",
              "      <td>1000 Years for Revenge</td>\n",
              "      <td>NaN</td>\n",
              "      <td>Neutral</td>\n",
              "      <td>0.057692</td>\n",
              "      <td>0.007433</td>\n",
              "      <td>1</td>\n",
              "      <td>1.0</td>\n",
              "    </tr>\n",
              "    <tr>\n",
              "      <th>1</th>\n",
              "      <td>1</td>\n",
              "      <td>Bush vs. the Beltway</td>\n",
              "      <td>NaN</td>\n",
              "      <td>Conservative</td>\n",
              "      <td>0.038462</td>\n",
              "      <td>0.000049</td>\n",
              "      <td>1</td>\n",
              "      <td>1.0</td>\n",
              "    </tr>\n",
              "    <tr>\n",
              "      <th>2</th>\n",
              "      <td>2</td>\n",
              "      <td>Charlie Wilson's War</td>\n",
              "      <td>NaN</td>\n",
              "      <td>Conservative</td>\n",
              "      <td>0.038462</td>\n",
              "      <td>0.000521</td>\n",
              "      <td>1</td>\n",
              "      <td>1.0</td>\n",
              "    </tr>\n",
              "    <tr>\n",
              "      <th>3</th>\n",
              "      <td>3</td>\n",
              "      <td>Losing Bin Laden</td>\n",
              "      <td>NaN</td>\n",
              "      <td>Conservative</td>\n",
              "      <td>0.221154</td>\n",
              "      <td>0.076093</td>\n",
              "      <td>1</td>\n",
              "      <td>2.0</td>\n",
              "    </tr>\n",
              "    <tr>\n",
              "      <th>4</th>\n",
              "      <td>4</td>\n",
              "      <td>Sleeping With the Devil</td>\n",
              "      <td>NaN</td>\n",
              "      <td>Neutral</td>\n",
              "      <td>0.076923</td>\n",
              "      <td>0.062928</td>\n",
              "      <td>1</td>\n",
              "      <td>1.0</td>\n",
              "    </tr>\n",
              "    <tr>\n",
              "      <th>...</th>\n",
              "      <td>...</td>\n",
              "      <td>...</td>\n",
              "      <td>...</td>\n",
              "      <td>...</td>\n",
              "      <td>...</td>\n",
              "      <td>...</td>\n",
              "      <td>...</td>\n",
              "      <td>...</td>\n",
              "    </tr>\n",
              "    <tr>\n",
              "      <th>100</th>\n",
              "      <td>100</td>\n",
              "      <td>Thieves in High Places</td>\n",
              "      <td>NaN</td>\n",
              "      <td>Liberal</td>\n",
              "      <td>0.115385</td>\n",
              "      <td>0.007119</td>\n",
              "      <td>2</td>\n",
              "      <td>NaN</td>\n",
              "    </tr>\n",
              "    <tr>\n",
              "      <th>101</th>\n",
              "      <td>101</td>\n",
              "      <td>Shrub</td>\n",
              "      <td>NaN</td>\n",
              "      <td>Liberal</td>\n",
              "      <td>0.048077</td>\n",
              "      <td>0.000943</td>\n",
              "      <td>2</td>\n",
              "      <td>NaN</td>\n",
              "    </tr>\n",
              "    <tr>\n",
              "      <th>102</th>\n",
              "      <td>102</td>\n",
              "      <td>Buck Up Suck Up</td>\n",
              "      <td>NaN</td>\n",
              "      <td>Liberal</td>\n",
              "      <td>0.038462</td>\n",
              "      <td>0.040995</td>\n",
              "      <td>2</td>\n",
              "      <td>NaN</td>\n",
              "    </tr>\n",
              "    <tr>\n",
              "      <th>103</th>\n",
              "      <td>103</td>\n",
              "      <td>The Future of Freedom</td>\n",
              "      <td>NaN</td>\n",
              "      <td>Neutral</td>\n",
              "      <td>0.019231</td>\n",
              "      <td>0.000000</td>\n",
              "      <td>3</td>\n",
              "      <td>4.0</td>\n",
              "    </tr>\n",
              "    <tr>\n",
              "      <th>104</th>\n",
              "      <td>104</td>\n",
              "      <td>Empire</td>\n",
              "      <td>NaN</td>\n",
              "      <td>Neutral</td>\n",
              "      <td>0.028846</td>\n",
              "      <td>0.001512</td>\n",
              "      <td>3</td>\n",
              "      <td>4.0</td>\n",
              "    </tr>\n",
              "  </tbody>\n",
              "</table>\n",
              "<p>105 rows × 8 columns</p>\n",
              "</div>\n",
              "      <button class=\"colab-df-convert\" onclick=\"convertToInteractive('df-6e1fefa1-81b7-4cab-9cf2-8195cfc073e0')\"\n",
              "              title=\"Convert this dataframe to an interactive table.\"\n",
              "              style=\"display:none;\">\n",
              "        \n",
              "  <svg xmlns=\"http://www.w3.org/2000/svg\" height=\"24px\"viewBox=\"0 0 24 24\"\n",
              "       width=\"24px\">\n",
              "    <path d=\"M0 0h24v24H0V0z\" fill=\"none\"/>\n",
              "    <path d=\"M18.56 5.44l.94 2.06.94-2.06 2.06-.94-2.06-.94-.94-2.06-.94 2.06-2.06.94zm-11 1L8.5 8.5l.94-2.06 2.06-.94-2.06-.94L8.5 2.5l-.94 2.06-2.06.94zm10 10l.94 2.06.94-2.06 2.06-.94-2.06-.94-.94-2.06-.94 2.06-2.06.94z\"/><path d=\"M17.41 7.96l-1.37-1.37c-.4-.4-.92-.59-1.43-.59-.52 0-1.04.2-1.43.59L10.3 9.45l-7.72 7.72c-.78.78-.78 2.05 0 2.83L4 21.41c.39.39.9.59 1.41.59.51 0 1.02-.2 1.41-.59l7.78-7.78 2.81-2.81c.8-.78.8-2.07 0-2.86zM5.41 20L4 18.59l7.72-7.72 1.47 1.35L5.41 20z\"/>\n",
              "  </svg>\n",
              "      </button>\n",
              "      \n",
              "  <style>\n",
              "    .colab-df-container {\n",
              "      display:flex;\n",
              "      flex-wrap:wrap;\n",
              "      gap: 12px;\n",
              "    }\n",
              "\n",
              "    .colab-df-convert {\n",
              "      background-color: #E8F0FE;\n",
              "      border: none;\n",
              "      border-radius: 50%;\n",
              "      cursor: pointer;\n",
              "      display: none;\n",
              "      fill: #1967D2;\n",
              "      height: 32px;\n",
              "      padding: 0 0 0 0;\n",
              "      width: 32px;\n",
              "    }\n",
              "\n",
              "    .colab-df-convert:hover {\n",
              "      background-color: #E2EBFA;\n",
              "      box-shadow: 0px 1px 2px rgba(60, 64, 67, 0.3), 0px 1px 3px 1px rgba(60, 64, 67, 0.15);\n",
              "      fill: #174EA6;\n",
              "    }\n",
              "\n",
              "    [theme=dark] .colab-df-convert {\n",
              "      background-color: #3B4455;\n",
              "      fill: #D2E3FC;\n",
              "    }\n",
              "\n",
              "    [theme=dark] .colab-df-convert:hover {\n",
              "      background-color: #434B5C;\n",
              "      box-shadow: 0px 1px 3px 1px rgba(0, 0, 0, 0.15);\n",
              "      filter: drop-shadow(0px 1px 2px rgba(0, 0, 0, 0.3));\n",
              "      fill: #FFFFFF;\n",
              "    }\n",
              "  </style>\n",
              "\n",
              "      <script>\n",
              "        const buttonEl =\n",
              "          document.querySelector('#df-6e1fefa1-81b7-4cab-9cf2-8195cfc073e0 button.colab-df-convert');\n",
              "        buttonEl.style.display =\n",
              "          google.colab.kernel.accessAllowed ? 'block' : 'none';\n",
              "\n",
              "        async function convertToInteractive(key) {\n",
              "          const element = document.querySelector('#df-6e1fefa1-81b7-4cab-9cf2-8195cfc073e0');\n",
              "          const dataTable =\n",
              "            await google.colab.kernel.invokeFunction('convertToInteractive',\n",
              "                                                     [key], {});\n",
              "          if (!dataTable) return;\n",
              "\n",
              "          const docLinkHtml = 'Like what you see? Visit the ' +\n",
              "            '<a target=\"_blank\" href=https://colab.research.google.com/notebooks/data_table.ipynb>data table notebook</a>'\n",
              "            + ' to learn more about interactive tables.';\n",
              "          element.innerHTML = '';\n",
              "          dataTable['output_type'] = 'display_data';\n",
              "          await google.colab.output.renderOutput(dataTable, element);\n",
              "          const docLink = document.createElement('div');\n",
              "          docLink.innerHTML = docLinkHtml;\n",
              "          element.appendChild(docLink);\n",
              "        }\n",
              "      </script>\n",
              "    </div>\n",
              "  </div>\n",
              "  "
            ]
          },
          "metadata": {},
          "execution_count": 39
        }
      ]
    },
    {
      "cell_type": "code",
      "source": [
        "category_counts = df['community_louvain'].value_counts()\n",
        "\n",
        "# print the category counts\n",
        "print(category_counts)"
      ],
      "metadata": {
        "id": "gPah7pSit95O",
        "colab": {
          "base_uri": "https://localhost:8080/"
        },
        "outputId": "1b5e413f-b368-4dd3-caec-15c2b6c14f69"
      },
      "execution_count": 40,
      "outputs": [
        {
          "output_type": "stream",
          "name": "stdout",
          "text": [
            "2.0    42\n",
            "4.0    11\n",
            "1.0     8\n",
            "3.0     3\n",
            "Name: community_louvain, dtype: int64\n"
          ]
        }
      ]
    },
    {
      "cell_type": "code",
      "source": [
        "fig = px.histogram(df, x='community_louvain', color='Value', barmode='group',\n",
        "            color_discrete_map={'Conservative': '#D25565', 'Neutral': '#F0B775', 'Liberal': '#2E94B9'})\n",
        "\n",
        "# update the layout of the figure\n",
        "fig.update_layout(title='Community Detection of Political Books on Amazon with Louvin Community Detection',\n",
        "                  xaxis_title='Community',\n",
        "                  yaxis_title='Count',\n",
        "                  xaxis={'categoryorder': 'total descending'},\n",
        "                  height=400, width=900)\n",
        "\n",
        "# show the plot\n",
        "fig.show()"
      ],
      "metadata": {
        "id": "HlSvqAuXt95O",
        "colab": {
          "base_uri": "https://localhost:8080/",
          "height": 417
        },
        "outputId": "d6396460-c103-4610-ef8e-1ee6df745957"
      },
      "execution_count": 41,
      "outputs": [
        {
          "output_type": "display_data",
          "data": {
            "text/html": [
              "<html>\n",
              "<head><meta charset=\"utf-8\" /></head>\n",
              "<body>\n",
              "    <div>            <script src=\"https://cdnjs.cloudflare.com/ajax/libs/mathjax/2.7.5/MathJax.js?config=TeX-AMS-MML_SVG\"></script><script type=\"text/javascript\">if (window.MathJax && window.MathJax.Hub && window.MathJax.Hub.Config) {window.MathJax.Hub.Config({SVG: {font: \"STIX-Web\"}});}</script>                <script type=\"text/javascript\">window.PlotlyConfig = {MathJaxConfig: 'local'};</script>\n",
              "        <script src=\"https://cdn.plot.ly/plotly-2.18.2.min.js\"></script>                <div id=\"5188a20e-d5f8-47e0-afa0-07b77998522f\" class=\"plotly-graph-div\" style=\"height:400px; width:900px;\"></div>            <script type=\"text/javascript\">                                    window.PLOTLYENV=window.PLOTLYENV || {};                                    if (document.getElementById(\"5188a20e-d5f8-47e0-afa0-07b77998522f\")) {                    Plotly.newPlot(                        \"5188a20e-d5f8-47e0-afa0-07b77998522f\",                        [{\"alignmentgroup\":\"True\",\"bingroup\":\"x\",\"hovertemplate\":\"Value=Neutral<br>community_louvain=%{x}<br>count=%{y}<extra></extra>\",\"legendgroup\":\"Neutral\",\"marker\":{\"color\":\"#F0B775\",\"pattern\":{\"shape\":\"\"}},\"name\":\"Neutral\",\"offsetgroup\":\"Neutral\",\"orientation\":\"v\",\"showlegend\":true,\"x\":[1.0,1.0,1.0,1.0,2.0,null,2.0,3.0,4.0,4.0,null,4.0,4.0],\"xaxis\":\"x\",\"yaxis\":\"y\",\"type\":\"histogram\"},{\"alignmentgroup\":\"True\",\"bingroup\":\"x\",\"hovertemplate\":\"Value=Conservative<br>community_louvain=%{x}<br>count=%{y}<extra></extra>\",\"legendgroup\":\"Conservative\",\"marker\":{\"color\":\"#D25565\",\"pattern\":{\"shape\":\"\"}},\"name\":\"Conservative\",\"offsetgroup\":\"Conservative\",\"orientation\":\"v\",\"showlegend\":true,\"x\":[1.0,1.0,2.0,1.0,2.0,2.0,2.0,2.0,2.0,2.0,2.0,2.0,2.0,2.0,2.0,2.0,2.0,2.0,2.0,2.0,2.0,2.0,2.0,1.0,2.0,2.0,2.0,2.0,2.0,2.0,2.0,2.0,2.0,2.0,2.0,2.0,2.0,2.0,2.0,3.0,2.0,4.0,2.0,2.0,2.0,2.0,3.0,4.0,null],\"xaxis\":\"x\",\"yaxis\":\"y\",\"type\":\"histogram\"},{\"alignmentgroup\":\"True\",\"bingroup\":\"x\",\"hovertemplate\":\"Value=Liberal<br>community_louvain=%{x}<br>count=%{y}<extra></extra>\",\"legendgroup\":\"Liberal\",\"marker\":{\"color\":\"#2E94B9\",\"pattern\":{\"shape\":\"\"}},\"name\":\"Liberal\",\"offsetgroup\":\"Liberal\",\"orientation\":\"v\",\"showlegend\":true,\"x\":[null,null,null,null,null,null,null,4.0,4.0,null,4.0,4.0,null,null,null,null,null,null,null,null,null,null,null,null,null,4.0,null,null,null,null,null,null,null,null,null,null,null,null,null,null,null,null,null],\"xaxis\":\"x\",\"yaxis\":\"y\",\"type\":\"histogram\"}],                        {\"template\":{\"data\":{\"histogram2dcontour\":[{\"type\":\"histogram2dcontour\",\"colorbar\":{\"outlinewidth\":0,\"ticks\":\"\"},\"colorscale\":[[0.0,\"#0d0887\"],[0.1111111111111111,\"#46039f\"],[0.2222222222222222,\"#7201a8\"],[0.3333333333333333,\"#9c179e\"],[0.4444444444444444,\"#bd3786\"],[0.5555555555555556,\"#d8576b\"],[0.6666666666666666,\"#ed7953\"],[0.7777777777777778,\"#fb9f3a\"],[0.8888888888888888,\"#fdca26\"],[1.0,\"#f0f921\"]]}],\"choropleth\":[{\"type\":\"choropleth\",\"colorbar\":{\"outlinewidth\":0,\"ticks\":\"\"}}],\"histogram2d\":[{\"type\":\"histogram2d\",\"colorbar\":{\"outlinewidth\":0,\"ticks\":\"\"},\"colorscale\":[[0.0,\"#0d0887\"],[0.1111111111111111,\"#46039f\"],[0.2222222222222222,\"#7201a8\"],[0.3333333333333333,\"#9c179e\"],[0.4444444444444444,\"#bd3786\"],[0.5555555555555556,\"#d8576b\"],[0.6666666666666666,\"#ed7953\"],[0.7777777777777778,\"#fb9f3a\"],[0.8888888888888888,\"#fdca26\"],[1.0,\"#f0f921\"]]}],\"heatmap\":[{\"type\":\"heatmap\",\"colorbar\":{\"outlinewidth\":0,\"ticks\":\"\"},\"colorscale\":[[0.0,\"#0d0887\"],[0.1111111111111111,\"#46039f\"],[0.2222222222222222,\"#7201a8\"],[0.3333333333333333,\"#9c179e\"],[0.4444444444444444,\"#bd3786\"],[0.5555555555555556,\"#d8576b\"],[0.6666666666666666,\"#ed7953\"],[0.7777777777777778,\"#fb9f3a\"],[0.8888888888888888,\"#fdca26\"],[1.0,\"#f0f921\"]]}],\"heatmapgl\":[{\"type\":\"heatmapgl\",\"colorbar\":{\"outlinewidth\":0,\"ticks\":\"\"},\"colorscale\":[[0.0,\"#0d0887\"],[0.1111111111111111,\"#46039f\"],[0.2222222222222222,\"#7201a8\"],[0.3333333333333333,\"#9c179e\"],[0.4444444444444444,\"#bd3786\"],[0.5555555555555556,\"#d8576b\"],[0.6666666666666666,\"#ed7953\"],[0.7777777777777778,\"#fb9f3a\"],[0.8888888888888888,\"#fdca26\"],[1.0,\"#f0f921\"]]}],\"contourcarpet\":[{\"type\":\"contourcarpet\",\"colorbar\":{\"outlinewidth\":0,\"ticks\":\"\"}}],\"contour\":[{\"type\":\"contour\",\"colorbar\":{\"outlinewidth\":0,\"ticks\":\"\"},\"colorscale\":[[0.0,\"#0d0887\"],[0.1111111111111111,\"#46039f\"],[0.2222222222222222,\"#7201a8\"],[0.3333333333333333,\"#9c179e\"],[0.4444444444444444,\"#bd3786\"],[0.5555555555555556,\"#d8576b\"],[0.6666666666666666,\"#ed7953\"],[0.7777777777777778,\"#fb9f3a\"],[0.8888888888888888,\"#fdca26\"],[1.0,\"#f0f921\"]]}],\"surface\":[{\"type\":\"surface\",\"colorbar\":{\"outlinewidth\":0,\"ticks\":\"\"},\"colorscale\":[[0.0,\"#0d0887\"],[0.1111111111111111,\"#46039f\"],[0.2222222222222222,\"#7201a8\"],[0.3333333333333333,\"#9c179e\"],[0.4444444444444444,\"#bd3786\"],[0.5555555555555556,\"#d8576b\"],[0.6666666666666666,\"#ed7953\"],[0.7777777777777778,\"#fb9f3a\"],[0.8888888888888888,\"#fdca26\"],[1.0,\"#f0f921\"]]}],\"mesh3d\":[{\"type\":\"mesh3d\",\"colorbar\":{\"outlinewidth\":0,\"ticks\":\"\"}}],\"scatter\":[{\"fillpattern\":{\"fillmode\":\"overlay\",\"size\":10,\"solidity\":0.2},\"type\":\"scatter\"}],\"parcoords\":[{\"type\":\"parcoords\",\"line\":{\"colorbar\":{\"outlinewidth\":0,\"ticks\":\"\"}}}],\"scatterpolargl\":[{\"type\":\"scatterpolargl\",\"marker\":{\"colorbar\":{\"outlinewidth\":0,\"ticks\":\"\"}}}],\"bar\":[{\"error_x\":{\"color\":\"#2a3f5f\"},\"error_y\":{\"color\":\"#2a3f5f\"},\"marker\":{\"line\":{\"color\":\"#E5ECF6\",\"width\":0.5},\"pattern\":{\"fillmode\":\"overlay\",\"size\":10,\"solidity\":0.2}},\"type\":\"bar\"}],\"scattergeo\":[{\"type\":\"scattergeo\",\"marker\":{\"colorbar\":{\"outlinewidth\":0,\"ticks\":\"\"}}}],\"scatterpolar\":[{\"type\":\"scatterpolar\",\"marker\":{\"colorbar\":{\"outlinewidth\":0,\"ticks\":\"\"}}}],\"histogram\":[{\"marker\":{\"pattern\":{\"fillmode\":\"overlay\",\"size\":10,\"solidity\":0.2}},\"type\":\"histogram\"}],\"scattergl\":[{\"type\":\"scattergl\",\"marker\":{\"colorbar\":{\"outlinewidth\":0,\"ticks\":\"\"}}}],\"scatter3d\":[{\"type\":\"scatter3d\",\"line\":{\"colorbar\":{\"outlinewidth\":0,\"ticks\":\"\"}},\"marker\":{\"colorbar\":{\"outlinewidth\":0,\"ticks\":\"\"}}}],\"scattermapbox\":[{\"type\":\"scattermapbox\",\"marker\":{\"colorbar\":{\"outlinewidth\":0,\"ticks\":\"\"}}}],\"scatterternary\":[{\"type\":\"scatterternary\",\"marker\":{\"colorbar\":{\"outlinewidth\":0,\"ticks\":\"\"}}}],\"scattercarpet\":[{\"type\":\"scattercarpet\",\"marker\":{\"colorbar\":{\"outlinewidth\":0,\"ticks\":\"\"}}}],\"carpet\":[{\"aaxis\":{\"endlinecolor\":\"#2a3f5f\",\"gridcolor\":\"white\",\"linecolor\":\"white\",\"minorgridcolor\":\"white\",\"startlinecolor\":\"#2a3f5f\"},\"baxis\":{\"endlinecolor\":\"#2a3f5f\",\"gridcolor\":\"white\",\"linecolor\":\"white\",\"minorgridcolor\":\"white\",\"startlinecolor\":\"#2a3f5f\"},\"type\":\"carpet\"}],\"table\":[{\"cells\":{\"fill\":{\"color\":\"#EBF0F8\"},\"line\":{\"color\":\"white\"}},\"header\":{\"fill\":{\"color\":\"#C8D4E3\"},\"line\":{\"color\":\"white\"}},\"type\":\"table\"}],\"barpolar\":[{\"marker\":{\"line\":{\"color\":\"#E5ECF6\",\"width\":0.5},\"pattern\":{\"fillmode\":\"overlay\",\"size\":10,\"solidity\":0.2}},\"type\":\"barpolar\"}],\"pie\":[{\"automargin\":true,\"type\":\"pie\"}]},\"layout\":{\"autotypenumbers\":\"strict\",\"colorway\":[\"#636efa\",\"#EF553B\",\"#00cc96\",\"#ab63fa\",\"#FFA15A\",\"#19d3f3\",\"#FF6692\",\"#B6E880\",\"#FF97FF\",\"#FECB52\"],\"font\":{\"color\":\"#2a3f5f\"},\"hovermode\":\"closest\",\"hoverlabel\":{\"align\":\"left\"},\"paper_bgcolor\":\"white\",\"plot_bgcolor\":\"#E5ECF6\",\"polar\":{\"bgcolor\":\"#E5ECF6\",\"angularaxis\":{\"gridcolor\":\"white\",\"linecolor\":\"white\",\"ticks\":\"\"},\"radialaxis\":{\"gridcolor\":\"white\",\"linecolor\":\"white\",\"ticks\":\"\"}},\"ternary\":{\"bgcolor\":\"#E5ECF6\",\"aaxis\":{\"gridcolor\":\"white\",\"linecolor\":\"white\",\"ticks\":\"\"},\"baxis\":{\"gridcolor\":\"white\",\"linecolor\":\"white\",\"ticks\":\"\"},\"caxis\":{\"gridcolor\":\"white\",\"linecolor\":\"white\",\"ticks\":\"\"}},\"coloraxis\":{\"colorbar\":{\"outlinewidth\":0,\"ticks\":\"\"}},\"colorscale\":{\"sequential\":[[0.0,\"#0d0887\"],[0.1111111111111111,\"#46039f\"],[0.2222222222222222,\"#7201a8\"],[0.3333333333333333,\"#9c179e\"],[0.4444444444444444,\"#bd3786\"],[0.5555555555555556,\"#d8576b\"],[0.6666666666666666,\"#ed7953\"],[0.7777777777777778,\"#fb9f3a\"],[0.8888888888888888,\"#fdca26\"],[1.0,\"#f0f921\"]],\"sequentialminus\":[[0.0,\"#0d0887\"],[0.1111111111111111,\"#46039f\"],[0.2222222222222222,\"#7201a8\"],[0.3333333333333333,\"#9c179e\"],[0.4444444444444444,\"#bd3786\"],[0.5555555555555556,\"#d8576b\"],[0.6666666666666666,\"#ed7953\"],[0.7777777777777778,\"#fb9f3a\"],[0.8888888888888888,\"#fdca26\"],[1.0,\"#f0f921\"]],\"diverging\":[[0,\"#8e0152\"],[0.1,\"#c51b7d\"],[0.2,\"#de77ae\"],[0.3,\"#f1b6da\"],[0.4,\"#fde0ef\"],[0.5,\"#f7f7f7\"],[0.6,\"#e6f5d0\"],[0.7,\"#b8e186\"],[0.8,\"#7fbc41\"],[0.9,\"#4d9221\"],[1,\"#276419\"]]},\"xaxis\":{\"gridcolor\":\"white\",\"linecolor\":\"white\",\"ticks\":\"\",\"title\":{\"standoff\":15},\"zerolinecolor\":\"white\",\"automargin\":true,\"zerolinewidth\":2},\"yaxis\":{\"gridcolor\":\"white\",\"linecolor\":\"white\",\"ticks\":\"\",\"title\":{\"standoff\":15},\"zerolinecolor\":\"white\",\"automargin\":true,\"zerolinewidth\":2},\"scene\":{\"xaxis\":{\"backgroundcolor\":\"#E5ECF6\",\"gridcolor\":\"white\",\"linecolor\":\"white\",\"showbackground\":true,\"ticks\":\"\",\"zerolinecolor\":\"white\",\"gridwidth\":2},\"yaxis\":{\"backgroundcolor\":\"#E5ECF6\",\"gridcolor\":\"white\",\"linecolor\":\"white\",\"showbackground\":true,\"ticks\":\"\",\"zerolinecolor\":\"white\",\"gridwidth\":2},\"zaxis\":{\"backgroundcolor\":\"#E5ECF6\",\"gridcolor\":\"white\",\"linecolor\":\"white\",\"showbackground\":true,\"ticks\":\"\",\"zerolinecolor\":\"white\",\"gridwidth\":2}},\"shapedefaults\":{\"line\":{\"color\":\"#2a3f5f\"}},\"annotationdefaults\":{\"arrowcolor\":\"#2a3f5f\",\"arrowhead\":0,\"arrowwidth\":1},\"geo\":{\"bgcolor\":\"white\",\"landcolor\":\"#E5ECF6\",\"subunitcolor\":\"white\",\"showland\":true,\"showlakes\":true,\"lakecolor\":\"white\"},\"title\":{\"x\":0.05},\"mapbox\":{\"style\":\"light\"}}},\"xaxis\":{\"anchor\":\"y\",\"domain\":[0.0,1.0],\"title\":{\"text\":\"Community\"},\"categoryorder\":\"total descending\"},\"yaxis\":{\"anchor\":\"x\",\"domain\":[0.0,1.0],\"title\":{\"text\":\"Count\"}},\"legend\":{\"title\":{\"text\":\"Value\"},\"tracegroupgap\":0},\"margin\":{\"t\":60},\"barmode\":\"group\",\"title\":{\"text\":\"Community Detection of Political Books on Amazon with Louvin Community Detection\"},\"height\":400,\"width\":900},                        {\"responsive\": true}                    ).then(function(){\n",
              "                            \n",
              "var gd = document.getElementById('5188a20e-d5f8-47e0-afa0-07b77998522f');\n",
              "var x = new MutationObserver(function (mutations, observer) {{\n",
              "        var display = window.getComputedStyle(gd).display;\n",
              "        if (!display || display === 'none') {{\n",
              "            console.log([gd, 'removed!']);\n",
              "            Plotly.purge(gd);\n",
              "            observer.disconnect();\n",
              "        }}\n",
              "}});\n",
              "\n",
              "// Listen for the removal of the full notebook cells\n",
              "var notebookContainer = gd.closest('#notebook-container');\n",
              "if (notebookContainer) {{\n",
              "    x.observe(notebookContainer, {childList: true});\n",
              "}}\n",
              "\n",
              "// Listen for the clearing of the current output cell\n",
              "var outputEl = gd.closest('.output');\n",
              "if (outputEl) {{\n",
              "    x.observe(outputEl, {childList: true});\n",
              "}}\n",
              "\n",
              "                        })                };                            </script>        </div>\n",
              "</body>\n",
              "</html>"
            ]
          },
          "metadata": {}
        }
      ]
    }
  ],
  "metadata": {
    "colab": {
      "provenance": []
    },
    "kernelspec": {
      "display_name": "Python 3",
      "name": "python3"
    },
    "language_info": {
      "name": "python"
    },
    "widgets": {
      "application/vnd.jupyter.widget-state+json": {
        "03925370cc554ee68b949a15c2928dc6": {
          "model_module": "ipysigma",
          "model_name": "SigmaModel",
          "model_module_version": "^0.24.1",
          "state": {
            "_dom_classes": [],
            "_model_module": "ipysigma",
            "_model_module_version": "^0.24.1",
            "_model_name": "SigmaModel",
            "_view_count": null,
            "_view_module": "ipysigma",
            "_view_module_version": "^0.24.1",
            "_view_name": "SigmaView",
            "background_color": "white",
            "camera_state": {
              "ratio": 1,
              "x": 0.5,
              "y": 0.5,
              "angle": 0
            },
            "clickable_edges": false,
            "data": {
              "nodes": [
                {
                  "key": "1000 Years for Revenge",
                  "attributes": {
                    "value": "Neutral",
                    "ipysigma_kwarg_node_size": 6
                  }
                },
                {
                  "key": "Bush vs. the Beltway",
                  "attributes": {
                    "value": "Conservation",
                    "ipysigma_kwarg_node_size": 4
                  }
                },
                {
                  "key": "Charlie Wilson's War",
                  "attributes": {
                    "value": "Conservation",
                    "ipysigma_kwarg_node_size": 4
                  }
                },
                {
                  "key": "Losing Bin Laden",
                  "attributes": {
                    "value": "Conservation",
                    "ipysigma_kwarg_node_size": 23
                  }
                },
                {
                  "key": "Sleeping With the Devil",
                  "attributes": {
                    "value": "Neutral",
                    "ipysigma_kwarg_node_size": 8
                  }
                },
                {
                  "key": "The Man Who Warned America",
                  "attributes": {
                    "value": "Conservation",
                    "ipysigma_kwarg_node_size": 7
                  }
                },
                {
                  "key": "Why America Slept",
                  "attributes": {
                    "value": "Neutral",
                    "ipysigma_kwarg_node_size": 11
                  }
                },
                {
                  "key": "Ghost Wars",
                  "attributes": {
                    "value": "Neutral",
                    "ipysigma_kwarg_node_size": 8
                  }
                },
                {
                  "key": "A National Party No More",
                  "attributes": {
                    "value": "Conservation",
                    "ipysigma_kwarg_node_size": 25
                  }
                },
                {
                  "key": "Bush Country",
                  "attributes": {
                    "value": "Conservation",
                    "ipysigma_kwarg_node_size": 16
                  }
                },
                {
                  "key": "Dereliction of Duty",
                  "attributes": {
                    "value": "Conservation",
                    "ipysigma_kwarg_node_size": 15
                  }
                },
                {
                  "key": "Legacy",
                  "attributes": {
                    "value": "Conservation",
                    "ipysigma_kwarg_node_size": 18
                  }
                },
                {
                  "key": "Off with Their Heads",
                  "attributes": {
                    "value": "Conservation",
                    "ipysigma_kwarg_node_size": 25
                  }
                },
                {
                  "key": "Persecution",
                  "attributes": {
                    "value": "Conservation",
                    "ipysigma_kwarg_node_size": 13
                  }
                },
                {
                  "key": "Rumsfeld's War",
                  "attributes": {
                    "value": "Conservation",
                    "ipysigma_kwarg_node_size": 9
                  }
                },
                {
                  "key": "Breakdown",
                  "attributes": {
                    "value": "Conservation",
                    "ipysigma_kwarg_node_size": 5
                  }
                },
                {
                  "key": "Betrayal",
                  "attributes": {
                    "value": "Conservation",
                    "ipysigma_kwarg_node_size": 3
                  }
                },
                {
                  "key": "Shut Up and Sing",
                  "attributes": {
                    "value": "Conservation",
                    "ipysigma_kwarg_node_size": 5
                  }
                },
                {
                  "key": "Meant To Be",
                  "attributes": {
                    "value": "Neutral",
                    "ipysigma_kwarg_node_size": 3
                  }
                },
                {
                  "key": "The Right Man",
                  "attributes": {
                    "value": "Conservation",
                    "ipysigma_kwarg_node_size": 5
                  }
                },
                {
                  "key": "Ten Minutes from Normal",
                  "attributes": {
                    "value": "Conservation",
                    "ipysigma_kwarg_node_size": 10
                  }
                },
                {
                  "key": "Hillary's Scheme",
                  "attributes": {
                    "value": "Conservation",
                    "ipysigma_kwarg_node_size": 5
                  }
                },
                {
                  "key": "The French Betrayal of America",
                  "attributes": {
                    "value": "Conservation",
                    "ipysigma_kwarg_node_size": 7
                  }
                },
                {
                  "key": "Tales from the Left Coast",
                  "attributes": {
                    "value": "Conservation",
                    "ipysigma_kwarg_node_size": 9
                  }
                },
                {
                  "key": "Hating America",
                  "attributes": {
                    "value": "Conservation",
                    "ipysigma_kwarg_node_size": 9
                  }
                },
                {
                  "key": "The Third Terrorist",
                  "attributes": {
                    "value": "Conservation",
                    "ipysigma_kwarg_node_size": 5
                  }
                },
                {
                  "key": "Endgame",
                  "attributes": {
                    "value": "Conservation",
                    "ipysigma_kwarg_node_size": 9
                  }
                },
                {
                  "key": "Spin Sisters",
                  "attributes": {
                    "value": "Conservation",
                    "ipysigma_kwarg_node_size": 9
                  }
                },
                {
                  "key": "All the Shah's Men",
                  "attributes": {
                    "value": "Neutral",
                    "ipysigma_kwarg_node_size": 3
                  }
                },
                {
                  "key": "Dangerous Dimplomacy",
                  "attributes": {
                    "value": "Conservation",
                    "ipysigma_kwarg_node_size": 4
                  }
                },
                {
                  "key": "The Price of Loyalty",
                  "attributes": {
                    "value": "Liberal",
                    "ipysigma_kwarg_node_size": 20
                  }
                },
                {
                  "key": "House of Bush, House of Saud",
                  "attributes": {
                    "value": "Liberal",
                    "ipysigma_kwarg_node_size": 11
                  }
                },
                {
                  "key": "The Death of Right and Wrong",
                  "attributes": {
                    "value": "Conservation",
                    "ipysigma_kwarg_node_size": 5
                  }
                },
                {
                  "key": "Useful Idiots",
                  "attributes": {
                    "value": "Conservation",
                    "ipysigma_kwarg_node_size": 9
                  }
                },
                {
                  "key": "The O'Reilly Factor",
                  "attributes": {
                    "value": "Conservation",
                    "ipysigma_kwarg_node_size": 5
                  }
                },
                {
                  "key": "Let Freedom Ring",
                  "attributes": {
                    "value": "Conservation",
                    "ipysigma_kwarg_node_size": 10
                  }
                },
                {
                  "key": "Those Who Trespass",
                  "attributes": {
                    "value": "Conservation",
                    "ipysigma_kwarg_node_size": 5
                  }
                },
                {
                  "key": "Bias",
                  "attributes": {
                    "value": "Conservation",
                    "ipysigma_kwarg_node_size": 7
                  }
                },
                {
                  "key": "Slander",
                  "attributes": {
                    "value": "Conservation",
                    "ipysigma_kwarg_node_size": 7
                  }
                },
                {
                  "key": "The Savage Nation",
                  "attributes": {
                    "value": "Conservation",
                    "ipysigma_kwarg_node_size": 8
                  }
                },
                {
                  "key": "Deliver Us from Evil",
                  "attributes": {
                    "value": "Conservation",
                    "ipysigma_kwarg_node_size": 18
                  }
                },
                {
                  "key": "Give Me a Break",
                  "attributes": {
                    "value": "Conservation",
                    "ipysigma_kwarg_node_size": 8
                  }
                },
                {
                  "key": "The Enemy Within",
                  "attributes": {
                    "value": "Conservation",
                    "ipysigma_kwarg_node_size": 6
                  }
                },
                {
                  "key": "The Real America",
                  "attributes": {
                    "value": "Conservation",
                    "ipysigma_kwarg_node_size": 5
                  }
                },
                {
                  "key": "Who's Looking Out for You?",
                  "attributes": {
                    "value": "Conservation",
                    "ipysigma_kwarg_node_size": 5
                  }
                },
                {
                  "key": "The Official Handbook Vast Right Wing Conspiracy",
                  "attributes": {
                    "value": "Conservation",
                    "ipysigma_kwarg_node_size": 6
                  }
                },
                {
                  "key": "Power Plays",
                  "attributes": {
                    "value": "Neutral",
                    "ipysigma_kwarg_node_size": 4
                  }
                },
                {
                  "key": "Arrogance",
                  "attributes": {
                    "value": "Conservation",
                    "ipysigma_kwarg_node_size": 18
                  }
                },
                {
                  "key": "The Perfect Wife",
                  "attributes": {
                    "value": "Neutral",
                    "ipysigma_kwarg_node_size": 4
                  }
                },
                {
                  "key": "The Bushes",
                  "attributes": {
                    "value": "Conservation",
                    "ipysigma_kwarg_node_size": 8
                  }
                },
                {
                  "key": "Things Worth Fighting For",
                  "attributes": {
                    "value": "Conservation",
                    "ipysigma_kwarg_node_size": 3
                  }
                },
                {
                  "key": "Surprise, Security, the American Experience",
                  "attributes": {
                    "value": "Neutral",
                    "ipysigma_kwarg_node_size": 6
                  }
                },
                {
                  "key": "Allies",
                  "attributes": {
                    "value": "Conservation",
                    "ipysigma_kwarg_node_size": 5
                  }
                },
                {
                  "key": "Why Courage Matters",
                  "attributes": {
                    "value": "Conservation",
                    "ipysigma_kwarg_node_size": 5
                  }
                },
                {
                  "key": "Hollywood Interrupted",
                  "attributes": {
                    "value": "Conservation",
                    "ipysigma_kwarg_node_size": 6
                  }
                },
                {
                  "key": "Fighting Back",
                  "attributes": {
                    "value": "Conservation",
                    "ipysigma_kwarg_node_size": 4
                  }
                },
                {
                  "key": "We Will Prevail",
                  "attributes": {
                    "value": "Conservation",
                    "ipysigma_kwarg_node_size": 4
                  }
                },
                {
                  "key": "The Faith of George W Bush",
                  "attributes": {
                    "value": "Conservation",
                    "ipysigma_kwarg_node_size": 5
                  }
                },
                {
                  "key": "Rise of the Vulcans",
                  "attributes": {
                    "value": "Conservation",
                    "ipysigma_kwarg_node_size": 13
                  }
                },
                {
                  "key": "Downsize This!",
                  "attributes": {
                    "value": "Liberal",
                    "ipysigma_kwarg_node_size": 5
                  }
                },
                {
                  "key": "Stupid White Men",
                  "attributes": {
                    "value": "Liberal",
                    "ipysigma_kwarg_node_size": 6
                  }
                },
                {
                  "key": "Rush Limbaugh Is a Big Fat Idiot",
                  "attributes": {
                    "value": "Liberal",
                    "ipysigma_kwarg_node_size": 4
                  }
                },
                {
                  "key": "The Best Democracy Money Can Buy",
                  "attributes": {
                    "value": "Liberal",
                    "ipysigma_kwarg_node_size": 6
                  }
                },
                {
                  "key": "The Culture of Fear",
                  "attributes": {
                    "value": "Liberal",
                    "ipysigma_kwarg_node_size": 4
                  }
                },
                {
                  "key": "America Unbound",
                  "attributes": {
                    "value": "Liberal",
                    "ipysigma_kwarg_node_size": 9
                  }
                },
                {
                  "key": "The Choice",
                  "attributes": {
                    "value": "Liberal",
                    "ipysigma_kwarg_node_size": 7
                  }
                },
                {
                  "key": "The Great Unraveling",
                  "attributes": {
                    "value": "Liberal",
                    "ipysigma_kwarg_node_size": 21
                  }
                },
                {
                  "key": "Rogue Nation",
                  "attributes": {
                    "value": "Liberal",
                    "ipysigma_kwarg_node_size": 6
                  }
                },
                {
                  "key": "Soft Power",
                  "attributes": {
                    "value": "Liberal",
                    "ipysigma_kwarg_node_size": 4
                  }
                },
                {
                  "key": "Colossus",
                  "attributes": {
                    "value": "Neutral",
                    "ipysigma_kwarg_node_size": 5
                  }
                },
                {
                  "key": "The Sorrows of Empire",
                  "attributes": {
                    "value": "Liberal",
                    "ipysigma_kwarg_node_size": 7
                  }
                },
                {
                  "key": "Against All Enemies",
                  "attributes": {
                    "value": "Liberal",
                    "ipysigma_kwarg_node_size": 15
                  }
                },
                {
                  "key": "American Dynasty",
                  "attributes": {
                    "value": "Liberal",
                    "ipysigma_kwarg_node_size": 22
                  }
                },
                {
                  "key": "Big Lies",
                  "attributes": {
                    "value": "Liberal",
                    "ipysigma_kwarg_node_size": 21
                  }
                },
                {
                  "key": "The Lies of George W. Bush",
                  "attributes": {
                    "value": "Liberal",
                    "ipysigma_kwarg_node_size": 16
                  }
                },
                {
                  "key": "Worse Than Watergate",
                  "attributes": {
                    "value": "Liberal",
                    "ipysigma_kwarg_node_size": 16
                  }
                },
                {
                  "key": "Plan of Attack",
                  "attributes": {
                    "value": "Neutral",
                    "ipysigma_kwarg_node_size": 13
                  }
                },
                {
                  "key": "Bush at War",
                  "attributes": {
                    "value": "Conservation",
                    "ipysigma_kwarg_node_size": 7
                  }
                },
                {
                  "key": "The New Pearl Harbor",
                  "attributes": {
                    "value": "Liberal",
                    "ipysigma_kwarg_node_size": 5
                  }
                },
                {
                  "key": "Bushwomen",
                  "attributes": {
                    "value": "Liberal",
                    "ipysigma_kwarg_node_size": 8
                  }
                },
                {
                  "key": "The Bubble of American Supremacy",
                  "attributes": {
                    "value": "Liberal",
                    "ipysigma_kwarg_node_size": 4
                  }
                },
                {
                  "key": "Living History",
                  "attributes": {
                    "value": "Liberal",
                    "ipysigma_kwarg_node_size": 4
                  }
                },
                {
                  "key": "The Politics of Truth",
                  "attributes": {
                    "value": "Liberal",
                    "ipysigma_kwarg_node_size": 9
                  }
                },
                {
                  "key": "Fanatics and Fools",
                  "attributes": {
                    "value": "Liberal",
                    "ipysigma_kwarg_node_size": 8
                  }
                },
                {
                  "key": "Bushwhacked",
                  "attributes": {
                    "value": "Liberal",
                    "ipysigma_kwarg_node_size": 23
                  }
                },
                {
                  "key": "Disarming Iraq",
                  "attributes": {
                    "value": "Liberal",
                    "ipysigma_kwarg_node_size": 5
                  }
                },
                {
                  "key": "Lies and the Lying Liars Who Tell Them",
                  "attributes": {
                    "value": "Liberal",
                    "ipysigma_kwarg_node_size": 14
                  }
                },
                {
                  "key": "MoveOn's 50 Ways to Love Your Country",
                  "attributes": {
                    "value": "Liberal",
                    "ipysigma_kwarg_node_size": 5
                  }
                },
                {
                  "key": "The Buying of the President 2004",
                  "attributes": {
                    "value": "Liberal",
                    "ipysigma_kwarg_node_size": 5
                  }
                },
                {
                  "key": "Perfectly Legal",
                  "attributes": {
                    "value": "Liberal",
                    "ipysigma_kwarg_node_size": 6
                  }
                },
                {
                  "key": "Hegemony or Survival",
                  "attributes": {
                    "value": "Liberal",
                    "ipysigma_kwarg_node_size": 5
                  }
                },
                {
                  "key": "The Exception to the Rulers",
                  "attributes": {
                    "value": "Liberal",
                    "ipysigma_kwarg_node_size": 8
                  }
                },
                {
                  "key": "Freethinkers",
                  "attributes": {
                    "value": "Liberal",
                    "ipysigma_kwarg_node_size": 3
                  }
                },
                {
                  "key": "Had Enough?",
                  "attributes": {
                    "value": "Liberal",
                    "ipysigma_kwarg_node_size": 7
                  }
                },
                {
                  "key": "It's Still the Economy, Stupid!",
                  "attributes": {
                    "value": "Liberal",
                    "ipysigma_kwarg_node_size": 7
                  }
                },
                {
                  "key": "We're Right They're Wrong",
                  "attributes": {
                    "value": "Liberal",
                    "ipysigma_kwarg_node_size": 4
                  }
                },
                {
                  "key": "What Liberal Media?",
                  "attributes": {
                    "value": "Liberal",
                    "ipysigma_kwarg_node_size": 6
                  }
                },
                {
                  "key": "The Clinton Wars",
                  "attributes": {
                    "value": "Liberal",
                    "ipysigma_kwarg_node_size": 6
                  }
                },
                {
                  "key": "Weapons of Mass Deception",
                  "attributes": {
                    "value": "Liberal",
                    "ipysigma_kwarg_node_size": 5
                  }
                },
                {
                  "key": "Dude, Where's My Country?",
                  "attributes": {
                    "value": "Liberal",
                    "ipysigma_kwarg_node_size": 12
                  }
                },
                {
                  "key": "Thieves in High Places",
                  "attributes": {
                    "value": "Liberal",
                    "ipysigma_kwarg_node_size": 12
                  }
                },
                {
                  "key": "Shrub",
                  "attributes": {
                    "value": "Liberal",
                    "ipysigma_kwarg_node_size": 5
                  }
                },
                {
                  "key": "Buck Up Suck Up",
                  "attributes": {
                    "value": "Liberal",
                    "ipysigma_kwarg_node_size": 4
                  }
                },
                {
                  "key": "The Future of Freedom",
                  "attributes": {
                    "value": "Neutral",
                    "ipysigma_kwarg_node_size": 2
                  }
                },
                {
                  "key": "Empire",
                  "attributes": {
                    "value": "Neutral",
                    "ipysigma_kwarg_node_size": 3
                  }
                }
              ],
              "edges": [
                {
                  "source": "1000 Years for Revenge",
                  "target": "Bush vs. the Beltway",
                  "attributes": {}
                },
                {
                  "source": "1000 Years for Revenge",
                  "target": "Charlie Wilson's War",
                  "attributes": {}
                },
                {
                  "source": "1000 Years for Revenge",
                  "target": "Losing Bin Laden",
                  "attributes": {}
                },
                {
                  "source": "1000 Years for Revenge",
                  "target": "Sleeping With the Devil",
                  "attributes": {}
                },
                {
                  "source": "1000 Years for Revenge",
                  "target": "The Man Who Warned America",
                  "attributes": {}
                },
                {
                  "source": "1000 Years for Revenge",
                  "target": "Why America Slept",
                  "attributes": {}
                },
                {
                  "source": "Bush vs. the Beltway",
                  "target": "Losing Bin Laden",
                  "attributes": {}
                },
                {
                  "source": "Bush vs. the Beltway",
                  "target": "The Man Who Warned America",
                  "attributes": {}
                },
                {
                  "source": "Bush vs. the Beltway",
                  "target": "Why America Slept",
                  "attributes": {}
                },
                {
                  "source": "Charlie Wilson's War",
                  "target": "Sleeping With the Devil",
                  "attributes": {}
                },
                {
                  "source": "Charlie Wilson's War",
                  "target": "The Man Who Warned America",
                  "attributes": {}
                },
                {
                  "source": "Charlie Wilson's War",
                  "target": "Ghost Wars",
                  "attributes": {}
                },
                {
                  "source": "Losing Bin Laden",
                  "target": "The Man Who Warned America",
                  "attributes": {}
                },
                {
                  "source": "Losing Bin Laden",
                  "target": "A National Party No More",
                  "attributes": {}
                },
                {
                  "source": "Losing Bin Laden",
                  "target": "Bush Country",
                  "attributes": {}
                },
                {
                  "source": "Losing Bin Laden",
                  "target": "Dereliction of Duty",
                  "attributes": {}
                },
                {
                  "source": "Losing Bin Laden",
                  "target": "Legacy",
                  "attributes": {}
                },
                {
                  "source": "Losing Bin Laden",
                  "target": "Off with Their Heads",
                  "attributes": {}
                },
                {
                  "source": "Losing Bin Laden",
                  "target": "Persecution",
                  "attributes": {}
                },
                {
                  "source": "Losing Bin Laden",
                  "target": "Rumsfeld's War",
                  "attributes": {}
                },
                {
                  "source": "Losing Bin Laden",
                  "target": "Breakdown",
                  "attributes": {}
                },
                {
                  "source": "Losing Bin Laden",
                  "target": "Betrayal",
                  "attributes": {}
                },
                {
                  "source": "Losing Bin Laden",
                  "target": "Shut Up and Sing",
                  "attributes": {}
                },
                {
                  "source": "Losing Bin Laden",
                  "target": "Meant To Be",
                  "attributes": {}
                },
                {
                  "source": "Losing Bin Laden",
                  "target": "The Right Man",
                  "attributes": {}
                },
                {
                  "source": "Losing Bin Laden",
                  "target": "Ten Minutes from Normal",
                  "attributes": {}
                },
                {
                  "source": "Losing Bin Laden",
                  "target": "Hillary's Scheme",
                  "attributes": {}
                },
                {
                  "source": "Losing Bin Laden",
                  "target": "The French Betrayal of America",
                  "attributes": {}
                },
                {
                  "source": "Losing Bin Laden",
                  "target": "Tales from the Left Coast",
                  "attributes": {}
                },
                {
                  "source": "Losing Bin Laden",
                  "target": "Hating America",
                  "attributes": {}
                },
                {
                  "source": "Losing Bin Laden",
                  "target": "The Third Terrorist",
                  "attributes": {}
                },
                {
                  "source": "Losing Bin Laden",
                  "target": "Endgame",
                  "attributes": {}
                },
                {
                  "source": "Losing Bin Laden",
                  "target": "Spin Sisters",
                  "attributes": {}
                },
                {
                  "source": "Sleeping With the Devil",
                  "target": "The Man Who Warned America",
                  "attributes": {}
                },
                {
                  "source": "Sleeping With the Devil",
                  "target": "Why America Slept",
                  "attributes": {}
                },
                {
                  "source": "Sleeping With the Devil",
                  "target": "All the Shah's Men",
                  "attributes": {}
                },
                {
                  "source": "Sleeping With the Devil",
                  "target": "Dangerous Dimplomacy",
                  "attributes": {}
                },
                {
                  "source": "Sleeping With the Devil",
                  "target": "The Price of Loyalty",
                  "attributes": {}
                },
                {
                  "source": "Sleeping With the Devil",
                  "target": "House of Bush, House of Saud",
                  "attributes": {}
                },
                {
                  "source": "The Man Who Warned America",
                  "target": "Why America Slept",
                  "attributes": {}
                },
                {
                  "source": "The Man Who Warned America",
                  "target": "Ghost Wars",
                  "attributes": {}
                },
                {
                  "source": "Why America Slept",
                  "target": "Ghost Wars",
                  "attributes": {}
                },
                {
                  "source": "Why America Slept",
                  "target": "Dereliction of Duty",
                  "attributes": {}
                },
                {
                  "source": "Why America Slept",
                  "target": "Off with Their Heads",
                  "attributes": {}
                },
                {
                  "source": "Why America Slept",
                  "target": "Meant To Be",
                  "attributes": {}
                },
                {
                  "source": "Why America Slept",
                  "target": "The French Betrayal of America",
                  "attributes": {}
                },
                {
                  "source": "Why America Slept",
                  "target": "The Third Terrorist",
                  "attributes": {}
                },
                {
                  "source": "Why America Slept",
                  "target": "Dangerous Dimplomacy",
                  "attributes": {}
                },
                {
                  "source": "Ghost Wars",
                  "target": "Rumsfeld's War",
                  "attributes": {}
                },
                {
                  "source": "Ghost Wars",
                  "target": "The Price of Loyalty",
                  "attributes": {}
                },
                {
                  "source": "Ghost Wars",
                  "target": "Rise of the Vulcans",
                  "attributes": {}
                },
                {
                  "source": "Ghost Wars",
                  "target": "Against All Enemies",
                  "attributes": {}
                },
                {
                  "source": "Ghost Wars",
                  "target": "Disarming Iraq",
                  "attributes": {}
                },
                {
                  "source": "A National Party No More",
                  "target": "Bush Country",
                  "attributes": {}
                },
                {
                  "source": "A National Party No More",
                  "target": "Dereliction of Duty",
                  "attributes": {}
                },
                {
                  "source": "A National Party No More",
                  "target": "Legacy",
                  "attributes": {}
                },
                {
                  "source": "A National Party No More",
                  "target": "Off with Their Heads",
                  "attributes": {}
                },
                {
                  "source": "A National Party No More",
                  "target": "Persecution",
                  "attributes": {}
                },
                {
                  "source": "A National Party No More",
                  "target": "Rumsfeld's War",
                  "attributes": {}
                },
                {
                  "source": "A National Party No More",
                  "target": "Ten Minutes from Normal",
                  "attributes": {}
                },
                {
                  "source": "A National Party No More",
                  "target": "Hillary's Scheme",
                  "attributes": {}
                },
                {
                  "source": "A National Party No More",
                  "target": "The French Betrayal of America",
                  "attributes": {}
                },
                {
                  "source": "A National Party No More",
                  "target": "Tales from the Left Coast",
                  "attributes": {}
                },
                {
                  "source": "A National Party No More",
                  "target": "Hating America",
                  "attributes": {}
                },
                {
                  "source": "A National Party No More",
                  "target": "Endgame",
                  "attributes": {}
                },
                {
                  "source": "A National Party No More",
                  "target": "Spin Sisters",
                  "attributes": {}
                },
                {
                  "source": "A National Party No More",
                  "target": "The Death of Right and Wrong",
                  "attributes": {}
                },
                {
                  "source": "A National Party No More",
                  "target": "Useful Idiots",
                  "attributes": {}
                },
                {
                  "source": "A National Party No More",
                  "target": "Let Freedom Ring",
                  "attributes": {}
                },
                {
                  "source": "A National Party No More",
                  "target": "Bias",
                  "attributes": {}
                },
                {
                  "source": "A National Party No More",
                  "target": "Deliver Us from Evil",
                  "attributes": {}
                },
                {
                  "source": "A National Party No More",
                  "target": "Give Me a Break",
                  "attributes": {}
                },
                {
                  "source": "A National Party No More",
                  "target": "The Enemy Within",
                  "attributes": {}
                },
                {
                  "source": "A National Party No More",
                  "target": "The Real America",
                  "attributes": {}
                },
                {
                  "source": "A National Party No More",
                  "target": "Who's Looking Out for You?",
                  "attributes": {}
                },
                {
                  "source": "A National Party No More",
                  "target": "The Official Handbook Vast Right Wing Conspiracy",
                  "attributes": {}
                },
                {
                  "source": "A National Party No More",
                  "target": "Power Plays",
                  "attributes": {}
                },
                {
                  "source": "Bush Country",
                  "target": "Legacy",
                  "attributes": {}
                },
                {
                  "source": "Bush Country",
                  "target": "Off with Their Heads",
                  "attributes": {}
                },
                {
                  "source": "Bush Country",
                  "target": "Rumsfeld's War",
                  "attributes": {}
                },
                {
                  "source": "Bush Country",
                  "target": "Ten Minutes from Normal",
                  "attributes": {}
                },
                {
                  "source": "Bush Country",
                  "target": "Hating America",
                  "attributes": {}
                },
                {
                  "source": "Bush Country",
                  "target": "Spin Sisters",
                  "attributes": {}
                },
                {
                  "source": "Bush Country",
                  "target": "Give Me a Break",
                  "attributes": {}
                },
                {
                  "source": "Bush Country",
                  "target": "The Official Handbook Vast Right Wing Conspiracy",
                  "attributes": {}
                },
                {
                  "source": "Bush Country",
                  "target": "Arrogance",
                  "attributes": {}
                },
                {
                  "source": "Bush Country",
                  "target": "The Perfect Wife",
                  "attributes": {}
                },
                {
                  "source": "Bush Country",
                  "target": "The Bushes",
                  "attributes": {}
                },
                {
                  "source": "Bush Country",
                  "target": "Things Worth Fighting For",
                  "attributes": {}
                },
                {
                  "source": "Bush Country",
                  "target": "Surprise, Security, the American Experience",
                  "attributes": {}
                },
                {
                  "source": "Bush Country",
                  "target": "Allies",
                  "attributes": {}
                },
                {
                  "source": "Dereliction of Duty",
                  "target": "Legacy",
                  "attributes": {}
                },
                {
                  "source": "Dereliction of Duty",
                  "target": "Off with Their Heads",
                  "attributes": {}
                },
                {
                  "source": "Dereliction of Duty",
                  "target": "Breakdown",
                  "attributes": {}
                },
                {
                  "source": "Dereliction of Duty",
                  "target": "Betrayal",
                  "attributes": {}
                },
                {
                  "source": "Dereliction of Duty",
                  "target": "The Right Man",
                  "attributes": {}
                },
                {
                  "source": "Dereliction of Duty",
                  "target": "Hillary's Scheme",
                  "attributes": {}
                },
                {
                  "source": "Dereliction of Duty",
                  "target": "Useful Idiots",
                  "attributes": {}
                },
                {
                  "source": "Dereliction of Duty",
                  "target": "Let Freedom Ring",
                  "attributes": {}
                },
                {
                  "source": "Dereliction of Duty",
                  "target": "Bias",
                  "attributes": {}
                },
                {
                  "source": "Dereliction of Duty",
                  "target": "Slander",
                  "attributes": {}
                },
                {
                  "source": "Dereliction of Duty",
                  "target": "The Savage Nation",
                  "attributes": {}
                },
                {
                  "source": "Dereliction of Duty",
                  "target": "Fighting Back",
                  "attributes": {}
                },
                {
                  "source": "Legacy",
                  "target": "Off with Their Heads",
                  "attributes": {}
                },
                {
                  "source": "Legacy",
                  "target": "Persecution",
                  "attributes": {}
                },
                {
                  "source": "Legacy",
                  "target": "Rumsfeld's War",
                  "attributes": {}
                },
                {
                  "source": "Legacy",
                  "target": "Shut Up and Sing",
                  "attributes": {}
                },
                {
                  "source": "Legacy",
                  "target": "Ten Minutes from Normal",
                  "attributes": {}
                },
                {
                  "source": "Legacy",
                  "target": "Hillary's Scheme",
                  "attributes": {}
                },
                {
                  "source": "Legacy",
                  "target": "The French Betrayal of America",
                  "attributes": {}
                },
                {
                  "source": "Legacy",
                  "target": "Endgame",
                  "attributes": {}
                },
                {
                  "source": "Legacy",
                  "target": "Spin Sisters",
                  "attributes": {}
                },
                {
                  "source": "Legacy",
                  "target": "Dangerous Dimplomacy",
                  "attributes": {}
                },
                {
                  "source": "Legacy",
                  "target": "The Official Handbook Vast Right Wing Conspiracy",
                  "attributes": {}
                },
                {
                  "source": "Legacy",
                  "target": "Arrogance",
                  "attributes": {}
                },
                {
                  "source": "Legacy",
                  "target": "Things Worth Fighting For",
                  "attributes": {}
                },
                {
                  "source": "Legacy",
                  "target": "We Will Prevail",
                  "attributes": {}
                },
                {
                  "source": "Off with Their Heads",
                  "target": "Persecution",
                  "attributes": {}
                },
                {
                  "source": "Off with Their Heads",
                  "target": "Rumsfeld's War",
                  "attributes": {}
                },
                {
                  "source": "Off with Their Heads",
                  "target": "Breakdown",
                  "attributes": {}
                },
                {
                  "source": "Off with Their Heads",
                  "target": "Shut Up and Sing",
                  "attributes": {}
                },
                {
                  "source": "Off with Their Heads",
                  "target": "Meant To Be",
                  "attributes": {}
                },
                {
                  "source": "Off with Their Heads",
                  "target": "Tales from the Left Coast",
                  "attributes": {}
                },
                {
                  "source": "Off with Their Heads",
                  "target": "Hating America",
                  "attributes": {}
                },
                {
                  "source": "Off with Their Heads",
                  "target": "The Death of Right and Wrong",
                  "attributes": {}
                },
                {
                  "source": "Off with Their Heads",
                  "target": "Useful Idiots",
                  "attributes": {}
                },
                {
                  "source": "Off with Their Heads",
                  "target": "Those Who Trespass",
                  "attributes": {}
                },
                {
                  "source": "Off with Their Heads",
                  "target": "Slander",
                  "attributes": {}
                },
                {
                  "source": "Off with Their Heads",
                  "target": "The Savage Nation",
                  "attributes": {}
                },
                {
                  "source": "Off with Their Heads",
                  "target": "Deliver Us from Evil",
                  "attributes": {}
                },
                {
                  "source": "Off with Their Heads",
                  "target": "Give Me a Break",
                  "attributes": {}
                },
                {
                  "source": "Off with Their Heads",
                  "target": "Who's Looking Out for You?",
                  "attributes": {}
                },
                {
                  "source": "Off with Their Heads",
                  "target": "Power Plays",
                  "attributes": {}
                },
                {
                  "source": "Off with Their Heads",
                  "target": "Arrogance",
                  "attributes": {}
                },
                {
                  "source": "Off with Their Heads",
                  "target": "Hollywood Interrupted",
                  "attributes": {}
                },
                {
                  "source": "Off with Their Heads",
                  "target": "Fighting Back",
                  "attributes": {}
                },
                {
                  "source": "Persecution",
                  "target": "Shut Up and Sing",
                  "attributes": {}
                },
                {
                  "source": "Persecution",
                  "target": "Dangerous Dimplomacy",
                  "attributes": {}
                },
                {
                  "source": "Persecution",
                  "target": "The Death of Right and Wrong",
                  "attributes": {}
                },
                {
                  "source": "Persecution",
                  "target": "Deliver Us from Evil",
                  "attributes": {}
                },
                {
                  "source": "Persecution",
                  "target": "The Enemy Within",
                  "attributes": {}
                },
                {
                  "source": "Persecution",
                  "target": "The Real America",
                  "attributes": {}
                },
                {
                  "source": "Persecution",
                  "target": "Who's Looking Out for You?",
                  "attributes": {}
                },
                {
                  "source": "Persecution",
                  "target": "Arrogance",
                  "attributes": {}
                },
                {
                  "source": "Persecution",
                  "target": "The Faith of George W Bush",
                  "attributes": {}
                },
                {
                  "source": "Rumsfeld's War",
                  "target": "The Third Terrorist",
                  "attributes": {}
                },
                {
                  "source": "Rumsfeld's War",
                  "target": "Endgame",
                  "attributes": {}
                },
                {
                  "source": "Rumsfeld's War",
                  "target": "Rise of the Vulcans",
                  "attributes": {}
                },
                {
                  "source": "Breakdown",
                  "target": "Betrayal",
                  "attributes": {}
                },
                {
                  "source": "Breakdown",
                  "target": "Fighting Back",
                  "attributes": {}
                },
                {
                  "source": "Shut Up and Sing",
                  "target": "Arrogance",
                  "attributes": {}
                },
                {
                  "source": "The Right Man",
                  "target": "Fighting Back",
                  "attributes": {}
                },
                {
                  "source": "The Right Man",
                  "target": "We Will Prevail",
                  "attributes": {}
                },
                {
                  "source": "The Right Man",
                  "target": "Bush at War",
                  "attributes": {}
                },
                {
                  "source": "Ten Minutes from Normal",
                  "target": "Hating America",
                  "attributes": {}
                },
                {
                  "source": "Ten Minutes from Normal",
                  "target": "Deliver Us from Evil",
                  "attributes": {}
                },
                {
                  "source": "Ten Minutes from Normal",
                  "target": "The Perfect Wife",
                  "attributes": {}
                },
                {
                  "source": "Ten Minutes from Normal",
                  "target": "The Bushes",
                  "attributes": {}
                },
                {
                  "source": "Ten Minutes from Normal",
                  "target": "Why Courage Matters",
                  "attributes": {}
                },
                {
                  "source": "Ten Minutes from Normal",
                  "target": "The Faith of George W Bush",
                  "attributes": {}
                },
                {
                  "source": "Hillary's Scheme",
                  "target": "Tales from the Left Coast",
                  "attributes": {}
                },
                {
                  "source": "The French Betrayal of America",
                  "target": "The Third Terrorist",
                  "attributes": {}
                },
                {
                  "source": "The French Betrayal of America",
                  "target": "Deliver Us from Evil",
                  "attributes": {}
                },
                {
                  "source": "The French Betrayal of America",
                  "target": "Allies",
                  "attributes": {}
                },
                {
                  "source": "Tales from the Left Coast",
                  "target": "Spin Sisters",
                  "attributes": {}
                },
                {
                  "source": "Tales from the Left Coast",
                  "target": "The Death of Right and Wrong",
                  "attributes": {}
                },
                {
                  "source": "Tales from the Left Coast",
                  "target": "Useful Idiots",
                  "attributes": {}
                },
                {
                  "source": "Tales from the Left Coast",
                  "target": "Arrogance",
                  "attributes": {}
                },
                {
                  "source": "Tales from the Left Coast",
                  "target": "Hollywood Interrupted",
                  "attributes": {}
                },
                {
                  "source": "Hating America",
                  "target": "Endgame",
                  "attributes": {}
                },
                {
                  "source": "Hating America",
                  "target": "Deliver Us from Evil",
                  "attributes": {}
                },
                {
                  "source": "Hating America",
                  "target": "Arrogance",
                  "attributes": {}
                },
                {
                  "source": "Hating America",
                  "target": "Why Courage Matters",
                  "attributes": {}
                },
                {
                  "source": "The Third Terrorist",
                  "target": "Deliver Us from Evil",
                  "attributes": {}
                },
                {
                  "source": "Endgame",
                  "target": "Deliver Us from Evil",
                  "attributes": {}
                },
                {
                  "source": "Endgame",
                  "target": "The Official Handbook Vast Right Wing Conspiracy",
                  "attributes": {}
                },
                {
                  "source": "Endgame",
                  "target": "Arrogance",
                  "attributes": {}
                },
                {
                  "source": "Endgame",
                  "target": "Why Courage Matters",
                  "attributes": {}
                },
                {
                  "source": "Spin Sisters",
                  "target": "Deliver Us from Evil",
                  "attributes": {}
                },
                {
                  "source": "Spin Sisters",
                  "target": "Give Me a Break",
                  "attributes": {}
                },
                {
                  "source": "Spin Sisters",
                  "target": "Arrogance",
                  "attributes": {}
                },
                {
                  "source": "Spin Sisters",
                  "target": "Hollywood Interrupted",
                  "attributes": {}
                },
                {
                  "source": "All the Shah's Men",
                  "target": "The Great Unraveling",
                  "attributes": {}
                },
                {
                  "source": "All the Shah's Men",
                  "target": "American Dynasty",
                  "attributes": {}
                },
                {
                  "source": "The Price of Loyalty",
                  "target": "House of Bush, House of Saud",
                  "attributes": {}
                },
                {
                  "source": "The Price of Loyalty",
                  "target": "Rise of the Vulcans",
                  "attributes": {}
                },
                {
                  "source": "The Price of Loyalty",
                  "target": "The Great Unraveling",
                  "attributes": {}
                },
                {
                  "source": "The Price of Loyalty",
                  "target": "Rogue Nation",
                  "attributes": {}
                },
                {
                  "source": "The Price of Loyalty",
                  "target": "The Sorrows of Empire",
                  "attributes": {}
                },
                {
                  "source": "The Price of Loyalty",
                  "target": "Big Lies",
                  "attributes": {}
                },
                {
                  "source": "The Price of Loyalty",
                  "target": "The Lies of George W. Bush",
                  "attributes": {}
                },
                {
                  "source": "The Price of Loyalty",
                  "target": "Worse Than Watergate",
                  "attributes": {}
                },
                {
                  "source": "The Price of Loyalty",
                  "target": "Plan of Attack",
                  "attributes": {}
                },
                {
                  "source": "The Price of Loyalty",
                  "target": "Bush at War",
                  "attributes": {}
                },
                {
                  "source": "The Price of Loyalty",
                  "target": "Bushwomen",
                  "attributes": {}
                },
                {
                  "source": "The Price of Loyalty",
                  "target": "The Bubble of American Supremacy",
                  "attributes": {}
                },
                {
                  "source": "The Price of Loyalty",
                  "target": "The Politics of Truth",
                  "attributes": {}
                },
                {
                  "source": "The Price of Loyalty",
                  "target": "Fanatics and Fools",
                  "attributes": {}
                },
                {
                  "source": "The Price of Loyalty",
                  "target": "Bushwhacked",
                  "attributes": {}
                },
                {
                  "source": "The Price of Loyalty",
                  "target": "Lies and the Lying Liars Who Tell Them",
                  "attributes": {}
                },
                {
                  "source": "The Price of Loyalty",
                  "target": "Had Enough?",
                  "attributes": {}
                },
                {
                  "source": "The Price of Loyalty",
                  "target": "Dude, Where's My Country?",
                  "attributes": {}
                },
                {
                  "source": "House of Bush, House of Saud",
                  "target": "The Bushes",
                  "attributes": {}
                },
                {
                  "source": "House of Bush, House of Saud",
                  "target": "Big Lies",
                  "attributes": {}
                },
                {
                  "source": "House of Bush, House of Saud",
                  "target": "The Lies of George W. Bush",
                  "attributes": {}
                },
                {
                  "source": "House of Bush, House of Saud",
                  "target": "Worse Than Watergate",
                  "attributes": {}
                },
                {
                  "source": "House of Bush, House of Saud",
                  "target": "Plan of Attack",
                  "attributes": {}
                },
                {
                  "source": "House of Bush, House of Saud",
                  "target": "Bush at War",
                  "attributes": {}
                },
                {
                  "source": "House of Bush, House of Saud",
                  "target": "The New Pearl Harbor",
                  "attributes": {}
                },
                {
                  "source": "House of Bush, House of Saud",
                  "target": "The Politics of Truth",
                  "attributes": {}
                },
                {
                  "source": "House of Bush, House of Saud",
                  "target": "The Exception to the Rulers",
                  "attributes": {}
                },
                {
                  "source": "The Death of Right and Wrong",
                  "target": "Useful Idiots",
                  "attributes": {}
                },
                {
                  "source": "Useful Idiots",
                  "target": "Bias",
                  "attributes": {}
                },
                {
                  "source": "Useful Idiots",
                  "target": "Slander",
                  "attributes": {}
                },
                {
                  "source": "Useful Idiots",
                  "target": "The Savage Nation",
                  "attributes": {}
                },
                {
                  "source": "Useful Idiots",
                  "target": "Arrogance",
                  "attributes": {}
                },
                {
                  "source": "The O'Reilly Factor",
                  "target": "Let Freedom Ring",
                  "attributes": {}
                },
                {
                  "source": "The O'Reilly Factor",
                  "target": "Those Who Trespass",
                  "attributes": {}
                },
                {
                  "source": "The O'Reilly Factor",
                  "target": "Bias",
                  "attributes": {}
                },
                {
                  "source": "The O'Reilly Factor",
                  "target": "Slander",
                  "attributes": {}
                },
                {
                  "source": "The O'Reilly Factor",
                  "target": "The Savage Nation",
                  "attributes": {}
                },
                {
                  "source": "Let Freedom Ring",
                  "target": "Those Who Trespass",
                  "attributes": {}
                },
                {
                  "source": "Let Freedom Ring",
                  "target": "Bias",
                  "attributes": {}
                },
                {
                  "source": "Let Freedom Ring",
                  "target": "Slander",
                  "attributes": {}
                },
                {
                  "source": "Let Freedom Ring",
                  "target": "The Savage Nation",
                  "attributes": {}
                },
                {
                  "source": "Let Freedom Ring",
                  "target": "Deliver Us from Evil",
                  "attributes": {}
                },
                {
                  "source": "Let Freedom Ring",
                  "target": "The Real America",
                  "attributes": {}
                },
                {
                  "source": "Let Freedom Ring",
                  "target": "Who's Looking Out for You?",
                  "attributes": {}
                },
                {
                  "source": "Those Who Trespass",
                  "target": "Give Me a Break",
                  "attributes": {}
                },
                {
                  "source": "Those Who Trespass",
                  "target": "Arrogance",
                  "attributes": {}
                },
                {
                  "source": "Bias",
                  "target": "Slander",
                  "attributes": {}
                },
                {
                  "source": "Bias",
                  "target": "Arrogance",
                  "attributes": {}
                },
                {
                  "source": "Slander",
                  "target": "The Savage Nation",
                  "attributes": {}
                },
                {
                  "source": "The Savage Nation",
                  "target": "Deliver Us from Evil",
                  "attributes": {}
                },
                {
                  "source": "The Savage Nation",
                  "target": "The Enemy Within",
                  "attributes": {}
                },
                {
                  "source": "Deliver Us from Evil",
                  "target": "Give Me a Break",
                  "attributes": {}
                },
                {
                  "source": "Deliver Us from Evil",
                  "target": "The Enemy Within",
                  "attributes": {}
                },
                {
                  "source": "Deliver Us from Evil",
                  "target": "Who's Looking Out for You?",
                  "attributes": {}
                },
                {
                  "source": "Deliver Us from Evil",
                  "target": "The Official Handbook Vast Right Wing Conspiracy",
                  "attributes": {}
                },
                {
                  "source": "Deliver Us from Evil",
                  "target": "Arrogance",
                  "attributes": {}
                },
                {
                  "source": "Deliver Us from Evil",
                  "target": "Why Courage Matters",
                  "attributes": {}
                },
                {
                  "source": "Deliver Us from Evil",
                  "target": "Hollywood Interrupted",
                  "attributes": {}
                },
                {
                  "source": "Give Me a Break",
                  "target": "Arrogance",
                  "attributes": {}
                },
                {
                  "source": "Give Me a Break",
                  "target": "Hollywood Interrupted",
                  "attributes": {}
                },
                {
                  "source": "The Enemy Within",
                  "target": "The Real America",
                  "attributes": {}
                },
                {
                  "source": "The Enemy Within",
                  "target": "Arrogance",
                  "attributes": {}
                },
                {
                  "source": "The Real America",
                  "target": "We Will Prevail",
                  "attributes": {}
                },
                {
                  "source": "The Official Handbook Vast Right Wing Conspiracy",
                  "target": "Arrogance",
                  "attributes": {}
                },
                {
                  "source": "Power Plays",
                  "target": "Arrogance",
                  "attributes": {}
                },
                {
                  "source": "Power Plays",
                  "target": "Buck Up Suck Up",
                  "attributes": {}
                },
                {
                  "source": "Arrogance",
                  "target": "Hollywood Interrupted",
                  "attributes": {}
                },
                {
                  "source": "The Perfect Wife",
                  "target": "The Bushes",
                  "attributes": {}
                },
                {
                  "source": "The Perfect Wife",
                  "target": "The Faith of George W Bush",
                  "attributes": {}
                },
                {
                  "source": "The Bushes",
                  "target": "The Faith of George W Bush",
                  "attributes": {}
                },
                {
                  "source": "The Bushes",
                  "target": "Rise of the Vulcans",
                  "attributes": {}
                },
                {
                  "source": "The Bushes",
                  "target": "American Dynasty",
                  "attributes": {}
                },
                {
                  "source": "The Bushes",
                  "target": "Plan of Attack",
                  "attributes": {}
                },
                {
                  "source": "Things Worth Fighting For",
                  "target": "Rise of the Vulcans",
                  "attributes": {}
                },
                {
                  "source": "Surprise, Security, the American Experience",
                  "target": "Allies",
                  "attributes": {}
                },
                {
                  "source": "Surprise, Security, the American Experience",
                  "target": "Rise of the Vulcans",
                  "attributes": {}
                },
                {
                  "source": "Surprise, Security, the American Experience",
                  "target": "America Unbound",
                  "attributes": {}
                },
                {
                  "source": "Surprise, Security, the American Experience",
                  "target": "The Choice",
                  "attributes": {}
                },
                {
                  "source": "Surprise, Security, the American Experience",
                  "target": "Colossus",
                  "attributes": {}
                },
                {
                  "source": "Allies",
                  "target": "Rise of the Vulcans",
                  "attributes": {}
                },
                {
                  "source": "Allies",
                  "target": "America Unbound",
                  "attributes": {}
                },
                {
                  "source": "Why Courage Matters",
                  "target": "Plan of Attack",
                  "attributes": {}
                },
                {
                  "source": "We Will Prevail",
                  "target": "The Faith of George W Bush",
                  "attributes": {}
                },
                {
                  "source": "Rise of the Vulcans",
                  "target": "America Unbound",
                  "attributes": {}
                },
                {
                  "source": "Rise of the Vulcans",
                  "target": "The Choice",
                  "attributes": {}
                },
                {
                  "source": "Rise of the Vulcans",
                  "target": "Soft Power",
                  "attributes": {}
                },
                {
                  "source": "Rise of the Vulcans",
                  "target": "Colossus",
                  "attributes": {}
                },
                {
                  "source": "Rise of the Vulcans",
                  "target": "Bush at War",
                  "attributes": {}
                },
                {
                  "source": "Rise of the Vulcans",
                  "target": "Disarming Iraq",
                  "attributes": {}
                },
                {
                  "source": "Downsize This!",
                  "target": "Stupid White Men",
                  "attributes": {}
                },
                {
                  "source": "Downsize This!",
                  "target": "Rush Limbaugh Is a Big Fat Idiot",
                  "attributes": {}
                },
                {
                  "source": "Downsize This!",
                  "target": "The Best Democracy Money Can Buy",
                  "attributes": {}
                },
                {
                  "source": "Downsize This!",
                  "target": "The Culture of Fear",
                  "attributes": {}
                },
                {
                  "source": "Downsize This!",
                  "target": "Dude, Where's My Country?",
                  "attributes": {}
                },
                {
                  "source": "Stupid White Men",
                  "target": "The Best Democracy Money Can Buy",
                  "attributes": {}
                },
                {
                  "source": "Stupid White Men",
                  "target": "The Culture of Fear",
                  "attributes": {}
                },
                {
                  "source": "Stupid White Men",
                  "target": "Bushwhacked",
                  "attributes": {}
                },
                {
                  "source": "Stupid White Men",
                  "target": "Lies and the Lying Liars Who Tell Them",
                  "attributes": {}
                },
                {
                  "source": "Stupid White Men",
                  "target": "Dude, Where's My Country?",
                  "attributes": {}
                },
                {
                  "source": "Rush Limbaugh Is a Big Fat Idiot",
                  "target": "Lies and the Lying Liars Who Tell Them",
                  "attributes": {}
                },
                {
                  "source": "Rush Limbaugh Is a Big Fat Idiot",
                  "target": "We're Right They're Wrong",
                  "attributes": {}
                },
                {
                  "source": "Rush Limbaugh Is a Big Fat Idiot",
                  "target": "Shrub",
                  "attributes": {}
                },
                {
                  "source": "The Best Democracy Money Can Buy",
                  "target": "The Culture of Fear",
                  "attributes": {}
                },
                {
                  "source": "The Best Democracy Money Can Buy",
                  "target": "Bushwhacked",
                  "attributes": {}
                },
                {
                  "source": "The Best Democracy Money Can Buy",
                  "target": "Dude, Where's My Country?",
                  "attributes": {}
                },
                {
                  "source": "The Best Democracy Money Can Buy",
                  "target": "Thieves in High Places",
                  "attributes": {}
                },
                {
                  "source": "The Culture of Fear",
                  "target": "Dude, Where's My Country?",
                  "attributes": {}
                },
                {
                  "source": "America Unbound",
                  "target": "The Choice",
                  "attributes": {}
                },
                {
                  "source": "America Unbound",
                  "target": "The Great Unraveling",
                  "attributes": {}
                },
                {
                  "source": "America Unbound",
                  "target": "Rogue Nation",
                  "attributes": {}
                },
                {
                  "source": "America Unbound",
                  "target": "Soft Power",
                  "attributes": {}
                },
                {
                  "source": "America Unbound",
                  "target": "Colossus",
                  "attributes": {}
                },
                {
                  "source": "America Unbound",
                  "target": "The Sorrows of Empire",
                  "attributes": {}
                },
                {
                  "source": "The Choice",
                  "target": "Rogue Nation",
                  "attributes": {}
                },
                {
                  "source": "The Choice",
                  "target": "Soft Power",
                  "attributes": {}
                },
                {
                  "source": "The Choice",
                  "target": "Colossus",
                  "attributes": {}
                },
                {
                  "source": "The Choice",
                  "target": "Disarming Iraq",
                  "attributes": {}
                },
                {
                  "source": "The Great Unraveling",
                  "target": "Rogue Nation",
                  "attributes": {}
                },
                {
                  "source": "The Great Unraveling",
                  "target": "The Sorrows of Empire",
                  "attributes": {}
                },
                {
                  "source": "The Great Unraveling",
                  "target": "American Dynasty",
                  "attributes": {}
                },
                {
                  "source": "The Great Unraveling",
                  "target": "Big Lies",
                  "attributes": {}
                },
                {
                  "source": "The Great Unraveling",
                  "target": "The Lies of George W. Bush",
                  "attributes": {}
                },
                {
                  "source": "The Great Unraveling",
                  "target": "Plan of Attack",
                  "attributes": {}
                },
                {
                  "source": "The Great Unraveling",
                  "target": "The Bubble of American Supremacy",
                  "attributes": {}
                },
                {
                  "source": "The Great Unraveling",
                  "target": "Bushwhacked",
                  "attributes": {}
                },
                {
                  "source": "The Great Unraveling",
                  "target": "Disarming Iraq",
                  "attributes": {}
                },
                {
                  "source": "The Great Unraveling",
                  "target": "Lies and the Lying Liars Who Tell Them",
                  "attributes": {}
                },
                {
                  "source": "The Great Unraveling",
                  "target": "The Buying of the President 2004",
                  "attributes": {}
                },
                {
                  "source": "The Great Unraveling",
                  "target": "Perfectly Legal",
                  "attributes": {}
                },
                {
                  "source": "The Great Unraveling",
                  "target": "Hegemony or Survival",
                  "attributes": {}
                },
                {
                  "source": "The Great Unraveling",
                  "target": "Had Enough?",
                  "attributes": {}
                },
                {
                  "source": "The Great Unraveling",
                  "target": "What Liberal Media?",
                  "attributes": {}
                },
                {
                  "source": "The Great Unraveling",
                  "target": "The Clinton Wars",
                  "attributes": {}
                },
                {
                  "source": "The Great Unraveling",
                  "target": "Dude, Where's My Country?",
                  "attributes": {}
                },
                {
                  "source": "The Great Unraveling",
                  "target": "Thieves in High Places",
                  "attributes": {}
                },
                {
                  "source": "Rogue Nation",
                  "target": "The Future of Freedom",
                  "attributes": {}
                },
                {
                  "source": "Rogue Nation",
                  "target": "Empire",
                  "attributes": {}
                },
                {
                  "source": "Soft Power",
                  "target": "Against All Enemies",
                  "attributes": {}
                },
                {
                  "source": "Colossus",
                  "target": "Empire",
                  "attributes": {}
                },
                {
                  "source": "The Sorrows of Empire",
                  "target": "Against All Enemies",
                  "attributes": {}
                },
                {
                  "source": "The Sorrows of Empire",
                  "target": "American Dynasty",
                  "attributes": {}
                },
                {
                  "source": "The Sorrows of Empire",
                  "target": "Worse Than Watergate",
                  "attributes": {}
                },
                {
                  "source": "The Sorrows of Empire",
                  "target": "Hegemony or Survival",
                  "attributes": {}
                },
                {
                  "source": "Against All Enemies",
                  "target": "American Dynasty",
                  "attributes": {}
                },
                {
                  "source": "Against All Enemies",
                  "target": "Big Lies",
                  "attributes": {}
                },
                {
                  "source": "Against All Enemies",
                  "target": "The Lies of George W. Bush",
                  "attributes": {}
                },
                {
                  "source": "Against All Enemies",
                  "target": "Worse Than Watergate",
                  "attributes": {}
                },
                {
                  "source": "Against All Enemies",
                  "target": "Plan of Attack",
                  "attributes": {}
                },
                {
                  "source": "Against All Enemies",
                  "target": "Bush at War",
                  "attributes": {}
                },
                {
                  "source": "Against All Enemies",
                  "target": "The New Pearl Harbor",
                  "attributes": {}
                },
                {
                  "source": "Against All Enemies",
                  "target": "Bushwomen",
                  "attributes": {}
                },
                {
                  "source": "Against All Enemies",
                  "target": "The Bubble of American Supremacy",
                  "attributes": {}
                },
                {
                  "source": "Against All Enemies",
                  "target": "Living History",
                  "attributes": {}
                },
                {
                  "source": "Against All Enemies",
                  "target": "The Politics of Truth",
                  "attributes": {}
                },
                {
                  "source": "Against All Enemies",
                  "target": "Fanatics and Fools",
                  "attributes": {}
                },
                {
                  "source": "American Dynasty",
                  "target": "Big Lies",
                  "attributes": {}
                },
                {
                  "source": "American Dynasty",
                  "target": "The Lies of George W. Bush",
                  "attributes": {}
                },
                {
                  "source": "American Dynasty",
                  "target": "Worse Than Watergate",
                  "attributes": {}
                },
                {
                  "source": "American Dynasty",
                  "target": "Plan of Attack",
                  "attributes": {}
                },
                {
                  "source": "American Dynasty",
                  "target": "The New Pearl Harbor",
                  "attributes": {}
                },
                {
                  "source": "American Dynasty",
                  "target": "Bushwomen",
                  "attributes": {}
                },
                {
                  "source": "American Dynasty",
                  "target": "The Bubble of American Supremacy",
                  "attributes": {}
                },
                {
                  "source": "American Dynasty",
                  "target": "The Politics of Truth",
                  "attributes": {}
                },
                {
                  "source": "American Dynasty",
                  "target": "Bushwhacked",
                  "attributes": {}
                },
                {
                  "source": "American Dynasty",
                  "target": "Disarming Iraq",
                  "attributes": {}
                },
                {
                  "source": "American Dynasty",
                  "target": "Lies and the Lying Liars Who Tell Them",
                  "attributes": {}
                },
                {
                  "source": "American Dynasty",
                  "target": "MoveOn's 50 Ways to Love Your Country",
                  "attributes": {}
                },
                {
                  "source": "American Dynasty",
                  "target": "The Buying of the President 2004",
                  "attributes": {}
                },
                {
                  "source": "American Dynasty",
                  "target": "Perfectly Legal",
                  "attributes": {}
                },
                {
                  "source": "American Dynasty",
                  "target": "Hegemony or Survival",
                  "attributes": {}
                },
                {
                  "source": "American Dynasty",
                  "target": "The Exception to the Rulers",
                  "attributes": {}
                },
                {
                  "source": "American Dynasty",
                  "target": "Freethinkers",
                  "attributes": {}
                },
                {
                  "source": "Big Lies",
                  "target": "The Lies of George W. Bush",
                  "attributes": {}
                },
                {
                  "source": "Big Lies",
                  "target": "Worse Than Watergate",
                  "attributes": {}
                },
                {
                  "source": "Big Lies",
                  "target": "The Politics of Truth",
                  "attributes": {}
                },
                {
                  "source": "Big Lies",
                  "target": "Fanatics and Fools",
                  "attributes": {}
                },
                {
                  "source": "Big Lies",
                  "target": "Bushwhacked",
                  "attributes": {}
                },
                {
                  "source": "Big Lies",
                  "target": "Lies and the Lying Liars Who Tell Them",
                  "attributes": {}
                },
                {
                  "source": "Big Lies",
                  "target": "Perfectly Legal",
                  "attributes": {}
                },
                {
                  "source": "Big Lies",
                  "target": "Freethinkers",
                  "attributes": {}
                },
                {
                  "source": "Big Lies",
                  "target": "Had Enough?",
                  "attributes": {}
                },
                {
                  "source": "Big Lies",
                  "target": "It's Still the Economy, Stupid!",
                  "attributes": {}
                },
                {
                  "source": "Big Lies",
                  "target": "We're Right They're Wrong",
                  "attributes": {}
                },
                {
                  "source": "Big Lies",
                  "target": "What Liberal Media?",
                  "attributes": {}
                },
                {
                  "source": "Big Lies",
                  "target": "The Clinton Wars",
                  "attributes": {}
                },
                {
                  "source": "Big Lies",
                  "target": "Weapons of Mass Deception",
                  "attributes": {}
                },
                {
                  "source": "Big Lies",
                  "target": "Dude, Where's My Country?",
                  "attributes": {}
                },
                {
                  "source": "Big Lies",
                  "target": "Thieves in High Places",
                  "attributes": {}
                },
                {
                  "source": "The Lies of George W. Bush",
                  "target": "Worse Than Watergate",
                  "attributes": {}
                },
                {
                  "source": "The Lies of George W. Bush",
                  "target": "The New Pearl Harbor",
                  "attributes": {}
                },
                {
                  "source": "The Lies of George W. Bush",
                  "target": "Bushwomen",
                  "attributes": {}
                },
                {
                  "source": "The Lies of George W. Bush",
                  "target": "The Politics of Truth",
                  "attributes": {}
                },
                {
                  "source": "The Lies of George W. Bush",
                  "target": "Bushwhacked",
                  "attributes": {}
                },
                {
                  "source": "The Lies of George W. Bush",
                  "target": "MoveOn's 50 Ways to Love Your Country",
                  "attributes": {}
                },
                {
                  "source": "The Lies of George W. Bush",
                  "target": "The Buying of the President 2004",
                  "attributes": {}
                },
                {
                  "source": "The Lies of George W. Bush",
                  "target": "The Exception to the Rulers",
                  "attributes": {}
                },
                {
                  "source": "The Lies of George W. Bush",
                  "target": "Weapons of Mass Deception",
                  "attributes": {}
                },
                {
                  "source": "The Lies of George W. Bush",
                  "target": "Dude, Where's My Country?",
                  "attributes": {}
                },
                {
                  "source": "Worse Than Watergate",
                  "target": "Plan of Attack",
                  "attributes": {}
                },
                {
                  "source": "Worse Than Watergate",
                  "target": "Bush at War",
                  "attributes": {}
                },
                {
                  "source": "Worse Than Watergate",
                  "target": "The New Pearl Harbor",
                  "attributes": {}
                },
                {
                  "source": "Worse Than Watergate",
                  "target": "Bushwomen",
                  "attributes": {}
                },
                {
                  "source": "Worse Than Watergate",
                  "target": "The Politics of Truth",
                  "attributes": {}
                },
                {
                  "source": "Worse Than Watergate",
                  "target": "Fanatics and Fools",
                  "attributes": {}
                },
                {
                  "source": "Worse Than Watergate",
                  "target": "Bushwhacked",
                  "attributes": {}
                },
                {
                  "source": "Worse Than Watergate",
                  "target": "The Exception to the Rulers",
                  "attributes": {}
                },
                {
                  "source": "Worse Than Watergate",
                  "target": "Freethinkers",
                  "attributes": {}
                },
                {
                  "source": "Plan of Attack",
                  "target": "Bush at War",
                  "attributes": {}
                },
                {
                  "source": "Plan of Attack",
                  "target": "The Politics of Truth",
                  "attributes": {}
                },
                {
                  "source": "Plan of Attack",
                  "target": "Fanatics and Fools",
                  "attributes": {}
                },
                {
                  "source": "Plan of Attack",
                  "target": "Bushwhacked",
                  "attributes": {}
                },
                {
                  "source": "Plan of Attack",
                  "target": "Lies and the Lying Liars Who Tell Them",
                  "attributes": {}
                },
                {
                  "source": "Bushwomen",
                  "target": "Bushwhacked",
                  "attributes": {}
                },
                {
                  "source": "Bushwomen",
                  "target": "The Exception to the Rulers",
                  "attributes": {}
                },
                {
                  "source": "Bushwomen",
                  "target": "Thieves in High Places",
                  "attributes": {}
                },
                {
                  "source": "Living History",
                  "target": "Bushwhacked",
                  "attributes": {}
                },
                {
                  "source": "Living History",
                  "target": "Lies and the Lying Liars Who Tell Them",
                  "attributes": {}
                },
                {
                  "source": "Living History",
                  "target": "The Clinton Wars",
                  "attributes": {}
                },
                {
                  "source": "The Politics of Truth",
                  "target": "Bushwhacked",
                  "attributes": {}
                },
                {
                  "source": "Fanatics and Fools",
                  "target": "Bushwhacked",
                  "attributes": {}
                },
                {
                  "source": "Fanatics and Fools",
                  "target": "MoveOn's 50 Ways to Love Your Country",
                  "attributes": {}
                },
                {
                  "source": "Fanatics and Fools",
                  "target": "Thieves in High Places",
                  "attributes": {}
                },
                {
                  "source": "Bushwhacked",
                  "target": "Lies and the Lying Liars Who Tell Them",
                  "attributes": {}
                },
                {
                  "source": "Bushwhacked",
                  "target": "MoveOn's 50 Ways to Love Your Country",
                  "attributes": {}
                },
                {
                  "source": "Bushwhacked",
                  "target": "The Buying of the President 2004",
                  "attributes": {}
                },
                {
                  "source": "Bushwhacked",
                  "target": "Perfectly Legal",
                  "attributes": {}
                },
                {
                  "source": "Bushwhacked",
                  "target": "It's Still the Economy, Stupid!",
                  "attributes": {}
                },
                {
                  "source": "Bushwhacked",
                  "target": "What Liberal Media?",
                  "attributes": {}
                },
                {
                  "source": "Bushwhacked",
                  "target": "The Clinton Wars",
                  "attributes": {}
                },
                {
                  "source": "Bushwhacked",
                  "target": "Dude, Where's My Country?",
                  "attributes": {}
                },
                {
                  "source": "Bushwhacked",
                  "target": "Thieves in High Places",
                  "attributes": {}
                },
                {
                  "source": "Bushwhacked",
                  "target": "Shrub",
                  "attributes": {}
                },
                {
                  "source": "Lies and the Lying Liars Who Tell Them",
                  "target": "Perfectly Legal",
                  "attributes": {}
                },
                {
                  "source": "Lies and the Lying Liars Who Tell Them",
                  "target": "Had Enough?",
                  "attributes": {}
                },
                {
                  "source": "Lies and the Lying Liars Who Tell Them",
                  "target": "The Clinton Wars",
                  "attributes": {}
                },
                {
                  "source": "Lies and the Lying Liars Who Tell Them",
                  "target": "Thieves in High Places",
                  "attributes": {}
                },
                {
                  "source": "Lies and the Lying Liars Who Tell Them",
                  "target": "Shrub",
                  "attributes": {}
                },
                {
                  "source": "MoveOn's 50 Ways to Love Your Country",
                  "target": "Weapons of Mass Deception",
                  "attributes": {}
                },
                {
                  "source": "The Buying of the President 2004",
                  "target": "Perfectly Legal",
                  "attributes": {}
                },
                {
                  "source": "Hegemony or Survival",
                  "target": "The Exception to the Rulers",
                  "attributes": {}
                },
                {
                  "source": "Hegemony or Survival",
                  "target": "Dude, Where's My Country?",
                  "attributes": {}
                },
                {
                  "source": "The Exception to the Rulers",
                  "target": "Weapons of Mass Deception",
                  "attributes": {}
                },
                {
                  "source": "The Exception to the Rulers",
                  "target": "Thieves in High Places",
                  "attributes": {}
                },
                {
                  "source": "Had Enough?",
                  "target": "It's Still the Economy, Stupid!",
                  "attributes": {}
                },
                {
                  "source": "Had Enough?",
                  "target": "Dude, Where's My Country?",
                  "attributes": {}
                },
                {
                  "source": "Had Enough?",
                  "target": "Buck Up Suck Up",
                  "attributes": {}
                },
                {
                  "source": "It's Still the Economy, Stupid!",
                  "target": "We're Right They're Wrong",
                  "attributes": {}
                },
                {
                  "source": "It's Still the Economy, Stupid!",
                  "target": "What Liberal Media?",
                  "attributes": {}
                },
                {
                  "source": "It's Still the Economy, Stupid!",
                  "target": "Shrub",
                  "attributes": {}
                },
                {
                  "source": "It's Still the Economy, Stupid!",
                  "target": "Buck Up Suck Up",
                  "attributes": {}
                },
                {
                  "source": "We're Right They're Wrong",
                  "target": "Buck Up Suck Up",
                  "attributes": {}
                },
                {
                  "source": "What Liberal Media?",
                  "target": "The Clinton Wars",
                  "attributes": {}
                },
                {
                  "source": "What Liberal Media?",
                  "target": "Thieves in High Places",
                  "attributes": {}
                },
                {
                  "source": "Weapons of Mass Deception",
                  "target": "Thieves in High Places",
                  "attributes": {}
                },
                {
                  "source": "Dude, Where's My Country?",
                  "target": "Thieves in High Places",
                  "attributes": {}
                },
                {
                  "source": "Thieves in High Places",
                  "target": "Shrub",
                  "attributes": {}
                },
                {
                  "source": "The Future of Freedom",
                  "target": "Empire",
                  "attributes": {}
                }
              ],
              "options": {
                "type": "undirected",
                "multi": false
              }
            },
            "edge_weight": "weight",
            "height": "500px",
            "layout": {
              "1000 Years for Revenge": {
                "x": 0.15428948876230283,
                "y": 0.25273986629959766
              },
              "Bush vs. the Beltway": {
                "x": 0.5762050567157171,
                "y": 0.8675055755423209
              },
              "Charlie Wilson's War": {
                "x": 0.4923045147706771,
                "y": 0.7549328770522359
              },
              "Losing Bin Laden": {
                "x": 0.536310160588477,
                "y": 0.6607164922702594
              },
              "Sleeping With the Devil": {
                "x": 0.17898877761019927,
                "y": 0.7423470400617883
              },
              "The Man Who Warned America": {
                "x": 0.7654569574501733,
                "y": 0.2409002179776765
              },
              "Why America Slept": {
                "x": 0.8666364121438902,
                "y": 0.3612731622048909
              },
              "Ghost Wars": {
                "x": 0.3750092524652347,
                "y": 0.43898357292952234
              },
              "A National Party No More": {
                "x": 0.686974614630136,
                "y": 0.44860358368004677
              },
              "Bush Country": {
                "x": 0.40559004582969205,
                "y": 0.8051142792853555
              },
              "Dereliction of Duty": {
                "x": 0.2755987667745767,
                "y": 0.4476774839346224
              },
              "Legacy": {
                "x": 0.692315680725632,
                "y": 0.22264914856719326
              },
              "Off with Their Heads": {
                "x": 0.6517501069627378,
                "y": 0.3711104926111498
              },
              "Persecution": {
                "x": 0.2111467647774474,
                "y": 0.09947058602301147
              },
              "Rumsfeld's War": {
                "x": 0.599929496786351,
                "y": 0.0787483076490472
              },
              "Breakdown": {
                "x": 0.5204078971266999,
                "y": 0.5260697341972731
              },
              "Betrayal": {
                "x": 0.25573721555965384,
                "y": 0.4088724813190393
              },
              "Shut Up and Sing": {
                "x": 0.5090945503764583,
                "y": 0.9307895945490127
              },
              "Meant To Be": {
                "x": 0.8692163042898542,
                "y": 0.057695617745493095
              },
              "The Right Man": {
                "x": 0.6648696591608955,
                "y": 0.2771631331049608
              },
              "Ten Minutes from Normal": {
                "x": 0.9388512412625218,
                "y": 0.4202011229550135
              },
              "Hillary's Scheme": {
                "x": 0.9903121819953321,
                "y": 0.8396316085367288
              },
              "The French Betrayal of America": {
                "x": 0.19290933687632567,
                "y": 0.5507513853687954
              },
              "Tales from the Left Coast": {
                "x": 0.899447997714133,
                "y": 0.9174842837776478
              },
              "Hating America": {
                "x": 0.6178053192816517,
                "y": 0.6820744741878634
              },
              "The Third Terrorist": {
                "x": 0.9153738228544446,
                "y": 0.8146601187658415
              },
              "Endgame": {
                "x": 0.9986165908231301,
                "y": 0.7337777626358047
              },
              "Spin Sisters": {
                "x": 0.10060633047656747,
                "y": 0.2743234705841764
              },
              "All the Shah's Men": {
                "x": 0.9420932357578089,
                "y": 0.9492478535538105
              },
              "Dangerous Dimplomacy": {
                "x": 0.09606122757327866,
                "y": 0.9439512536142676
              },
              "The Price of Loyalty": {
                "x": 0.769957924239728,
                "y": 0.46211034020112557
              },
              "House of Bush, House of Saud": {
                "x": 0.1641172083842761,
                "y": 0.4269046433584336
              },
              "The Death of Right and Wrong": {
                "x": 0.4216060655202712,
                "y": 0.21237739429193359
              },
              "Useful Idiots": {
                "x": 0.6212257515279458,
                "y": 0.5517787240613129
              },
              "The O'Reilly Factor": {
                "x": 0.5115069821068448,
                "y": 0.5906848204878906
              },
              "Let Freedom Ring": {
                "x": 0.0006169357586468933,
                "y": 0.6493680609846784
              },
              "Those Who Trespass": {
                "x": 0.7578625898470147,
                "y": 0.5424202312778309
              },
              "Bias": {
                "x": 0.18058146654834936,
                "y": 0.770062816692311
              },
              "Slander": {
                "x": 0.6094470559659438,
                "y": 0.5631239195755232
              },
              "The Savage Nation": {
                "x": 0.26073010035072935,
                "y": 0.5772736573669458
              },
              "Deliver Us from Evil": {
                "x": 0.7038043402655391,
                "y": 0.09967838113330135
              },
              "Give Me a Break": {
                "x": 0.47590275347985256,
                "y": 0.29950511065293983
              },
              "The Enemy Within": {
                "x": 0.11947044191900856,
                "y": 0.8150828388091269
              },
              "The Real America": {
                "x": 0.20171206606954153,
                "y": 0.8150722807688516
              },
              "Who's Looking Out for You?": {
                "x": 0.4261402739571129,
                "y": 0.5660478502537173
              },
              "The Official Handbook Vast Right Wing Conspiracy": {
                "x": 0.48101948371231,
                "y": 0.5822336811257578
              },
              "Power Plays": {
                "x": 0.0801704442776575,
                "y": 0.8889623985522224
              },
              "Arrogance": {
                "x": 0.5109301427074232,
                "y": 0.13142735228135569
              },
              "The Perfect Wife": {
                "x": 0.13303922571723575,
                "y": 0.10672651908263761
              },
              "The Bushes": {
                "x": 0.0940819123238585,
                "y": 0.9798003234134626
              },
              "Things Worth Fighting For": {
                "x": 0.7457129553372983,
                "y": 0.9227777212739288
              },
              "Surprise, Security, the American Experience": {
                "x": 0.8722176041398828,
                "y": 0.9137425090568857
              },
              "Allies": {
                "x": 0.638069963909722,
                "y": 0.02954554361096929
              },
              "Why Courage Matters": {
                "x": 0.4053518597597751,
                "y": 0.9196346204263028
              },
              "Hollywood Interrupted": {
                "x": 0.4313501350157177,
                "y": 0.3373279624240453
              },
              "Fighting Back": {
                "x": 0.13350797889140248,
                "y": 0.3716160093544817
              },
              "We Will Prevail": {
                "x": 0.8909586562636646,
                "y": 0.7804761440902693
              },
              "The Faith of George W Bush": {
                "x": 0.7703454231733452,
                "y": 0.9686263961710759
              },
              "Rise of the Vulcans": {
                "x": 0.4370240828837012,
                "y": 0.931766257114432
              },
              "Downsize This!": {
                "x": 0.9526145944822194,
                "y": 0.8502799941548226
              },
              "Stupid White Men": {
                "x": 0.8779764663382369,
                "y": 0.28667695377511426
              },
              "Rush Limbaugh Is a Big Fat Idiot": {
                "x": 0.08666782805599128,
                "y": 0.2989886219440247
              },
              "The Best Democracy Money Can Buy": {
                "x": 0.3410585072683317,
                "y": 0.6542493876747228
              },
              "The Culture of Fear": {
                "x": 0.1955905195104549,
                "y": 0.08803014045009362
              },
              "America Unbound": {
                "x": 0.5369673799630067,
                "y": 0.05200697601704009
              },
              "The Choice": {
                "x": 0.33234561936138485,
                "y": 0.21798961047452903
              },
              "The Great Unraveling": {
                "x": 0.4092041733941663,
                "y": 0.8906094477327494
              },
              "Rogue Nation": {
                "x": 0.9098890304369359,
                "y": 0.6390804198803987
              },
              "Soft Power": {
                "x": 0.08694571560555965,
                "y": 0.5327989938263605
              },
              "Colossus": {
                "x": 0.303291879600934,
                "y": 0.30467321437928235
              },
              "The Sorrows of Empire": {
                "x": 0.9654880339006194,
                "y": 0.46456103859458114
              },
              "Against All Enemies": {
                "x": 0.9905457657693613,
                "y": 0.3734914833920755
              },
              "American Dynasty": {
                "x": 0.9846899877176596,
                "y": 0.7087176306000762
              },
              "Big Lies": {
                "x": 0.995400247777354,
                "y": 0.8220316600354676
              },
              "The Lies of George W. Bush": {
                "x": 0.8537345095497052,
                "y": 0.3477818687987646
              },
              "Worse Than Watergate": {
                "x": 0.002520173828169123,
                "y": 0.37155097548884203
              },
              "Plan of Attack": {
                "x": 0.681654775995279,
                "y": 0.22589119062398147
              },
              "Bush at War": {
                "x": 0.16741275271244022,
                "y": 0.7091321212008789
              },
              "The New Pearl Harbor": {
                "x": 0.6089704252413558,
                "y": 0.0729123419694472
              },
              "Bushwomen": {
                "x": 0.30820623270812464,
                "y": 0.9184414208844136
              },
              "The Bubble of American Supremacy": {
                "x": 0.9832358566814454,
                "y": 0.954883282313717
              },
              "Living History": {
                "x": 0.6670957342420621,
                "y": 0.0012274136212179678
              },
              "The Politics of Truth": {
                "x": 0.7915892851341129,
                "y": 0.8152450105875191
              },
              "Fanatics and Fools": {
                "x": 0.1786763377304173,
                "y": 0.529026521014159
              },
              "Bushwhacked": {
                "x": 0.7367335326960082,
                "y": 0.4996813379824222
              },
              "Disarming Iraq": {
                "x": 0.6079758049027818,
                "y": 0.4147243460340405
              },
              "Lies and the Lying Liars Who Tell Them": {
                "x": 0.13822133094998462,
                "y": 0.41886767523198437
              },
              "MoveOn's 50 Ways to Love Your Country": {
                "x": 0.9682816642147358,
                "y": 0.5924228572300914
              },
              "The Buying of the President 2004": {
                "x": 0.7648170805446797,
                "y": 0.93325409529744
              },
              "Perfectly Legal": {
                "x": 0.6123738005831657,
                "y": 0.5110111826940507
              },
              "Hegemony or Survival": {
                "x": 0.49037196061553434,
                "y": 0.26763500475175406
              },
              "The Exception to the Rulers": {
                "x": 0.24933654204787642,
                "y": 0.7908953106874579
              },
              "Freethinkers": {
                "x": 0.2757712815880313,
                "y": 0.5792012349570547
              },
              "Had Enough?": {
                "x": 0.0035618562262673785,
                "y": 0.4507044670398784
              },
              "It's Still the Economy, Stupid!": {
                "x": 0.9041081809031541,
                "y": 0.042098036065156226
              },
              "We're Right They're Wrong": {
                "x": 0.7410964465528985,
                "y": 0.45122856636353814
              },
              "What Liberal Media?": {
                "x": 0.46224530640672784,
                "y": 0.8837484797393445
              },
              "The Clinton Wars": {
                "x": 0.019805458187992977,
                "y": 0.18056208415013902
              },
              "Weapons of Mass Deception": {
                "x": 0.4121407367902992,
                "y": 0.626088909796962
              },
              "Dude, Where's My Country?": {
                "x": 0.2703892041864883,
                "y": 0.6759003873954499
              },
              "Thieves in High Places": {
                "x": 0.061481996019859354,
                "y": 0.14160521962428996
              },
              "Shrub": {
                "x": 0.3366089801892906,
                "y": 0.5479522552199462
              },
              "Buck Up Suck Up": {
                "x": 0.6204030890820423,
                "y": 0.7384271259826234
              },
              "The Future of Freedom": {
                "x": 0.5611797323534832,
                "y": 0.06595448019459503
              },
              "Empire": {
                "x": 0.9533496230125323,
                "y": 0.199213340717245
              }
            },
            "layout_settings": null,
            "max_categorical_colors": 10,
            "name": null,
            "node_metrics": {},
            "program_settings": {},
            "renderer_settings": {
              "zIndex": true,
              "enableEdgeClickEvents": false,
              "enableEdgeHoverEvents": false,
              "labelDensity": 1,
              "labelGridCellSize": 250,
              "renderEdgeLabels": true,
              "labelFont": "sans-serif",
              "hideEdgesOnMove": false,
              "defaultNodeType": "border",
              "defaultEdgeType": "rectangle"
            },
            "selected_edge": null,
            "selected_edge_category_values": null,
            "selected_node": null,
            "selected_node_category_values": null,
            "snapshot": null,
            "start_layout": false,
            "start_layout_for_seconds": null,
            "sync_key": null,
            "sync_targets": [
              "layout",
              "camera",
              "selection",
              "hover"
            ],
            "ui_settings": {
              "hideInfoPanel": false,
              "hideSearch": false
            },
            "visual_variables": {
              "nodeLabel": {
                "type": "raw",
                "attribute": "label",
                "default": null
              },
              "nodeLabelSize": {
                "type": "constant",
                "default": 12
              },
              "nodeLabelColor": {
                "type": "constant",
                "default": "#000"
              },
              "nodeColor": {
                "type": "category",
                "attribute": "value",
                "palette": [
                  [
                    "Conservation",
                    "#D25565"
                  ],
                  [
                    "Neutral",
                    "#F0B775"
                  ],
                  [
                    "Liberal",
                    "#2E94B9"
                  ]
                ],
                "default": "#999"
              },
              "nodeColorSaturation": {
                "type": "disabled",
                "default": null
              },
              "nodeBorderColor": {
                "type": "dependent",
                "value": "node",
                "default": null
              },
              "nodeBorderRatio": {
                "type": "disabled",
                "default": null
              },
              "nodeBorderSize": {
                "type": "constant",
                "default": 1
              },
              "nodeSize": {
                "type": "continuous",
                "range": [
                  3,
                  15
                ],
                "attribute": "ipysigma_kwarg_node_size",
                "default": 3
              },
              "nodePictogram": {
                "type": "disabled",
                "default": null
              },
              "nodePictogramColor": {
                "type": "constant",
                "default": "#000"
              },
              "nodeHaloSize": {
                "type": "disabled",
                "default": null
              },
              "nodeHaloColor": {
                "type": "constant",
                "default": "red"
              },
              "nodeShape": {
                "type": "disabled",
                "default": null
              },
              "edgeLabel": {
                "type": "raw",
                "attribute": "label",
                "default": null
              },
              "edgeColor": {
                "type": "raw",
                "attribute": "color",
                "default": "#ccc"
              },
              "edgeSize": {
                "type": "continuous",
                "range": [
                  0.5,
                  10
                ],
                "attribute": "size",
                "default": 0.5
              },
              "edgeCurveness": {
                "type": "constant",
                "default": 0.25
              }
            }
          }
        },
        "a29d2a235be94705829de8e538729c20": {
          "model_module": "ipysigma",
          "model_name": "SigmaModel",
          "model_module_version": "^0.24.1",
          "state": {
            "_dom_classes": [],
            "_model_module": "ipysigma",
            "_model_module_version": "^0.24.1",
            "_model_name": "SigmaModel",
            "_view_count": null,
            "_view_module": "ipysigma",
            "_view_module_version": "^0.24.1",
            "_view_name": "SigmaView",
            "background_color": "white",
            "camera_state": {
              "ratio": 1,
              "x": 0.5,
              "y": 0.5,
              "angle": 0
            },
            "clickable_edges": false,
            "data": {
              "nodes": [
                {
                  "key": "1000 Years for Revenge",
                  "attributes": {
                    "value": "Neutral",
                    "ipysigma_kwarg_node_size": 6
                  }
                },
                {
                  "key": "Bush vs. the Beltway",
                  "attributes": {
                    "value": "Conservation",
                    "ipysigma_kwarg_node_size": 4
                  }
                },
                {
                  "key": "Charlie Wilson's War",
                  "attributes": {
                    "value": "Conservation",
                    "ipysigma_kwarg_node_size": 4
                  }
                },
                {
                  "key": "Losing Bin Laden",
                  "attributes": {
                    "value": "Conservation",
                    "ipysigma_kwarg_node_size": 23
                  }
                },
                {
                  "key": "Sleeping With the Devil",
                  "attributes": {
                    "value": "Neutral",
                    "ipysigma_kwarg_node_size": 8
                  }
                },
                {
                  "key": "The Man Who Warned America",
                  "attributes": {
                    "value": "Conservation",
                    "ipysigma_kwarg_node_size": 7
                  }
                },
                {
                  "key": "Why America Slept",
                  "attributes": {
                    "value": "Neutral",
                    "ipysigma_kwarg_node_size": 11
                  }
                },
                {
                  "key": "Ghost Wars",
                  "attributes": {
                    "value": "Neutral",
                    "ipysigma_kwarg_node_size": 8
                  }
                },
                {
                  "key": "A National Party No More",
                  "attributes": {
                    "value": "Conservation",
                    "ipysigma_kwarg_node_size": 25
                  }
                },
                {
                  "key": "Bush Country",
                  "attributes": {
                    "value": "Conservation",
                    "ipysigma_kwarg_node_size": 16
                  }
                },
                {
                  "key": "Dereliction of Duty",
                  "attributes": {
                    "value": "Conservation",
                    "ipysigma_kwarg_node_size": 15
                  }
                },
                {
                  "key": "Legacy",
                  "attributes": {
                    "value": "Conservation",
                    "ipysigma_kwarg_node_size": 18
                  }
                },
                {
                  "key": "Off with Their Heads",
                  "attributes": {
                    "value": "Conservation",
                    "ipysigma_kwarg_node_size": 25
                  }
                },
                {
                  "key": "Persecution",
                  "attributes": {
                    "value": "Conservation",
                    "ipysigma_kwarg_node_size": 13
                  }
                },
                {
                  "key": "Rumsfeld's War",
                  "attributes": {
                    "value": "Conservation",
                    "ipysigma_kwarg_node_size": 9
                  }
                },
                {
                  "key": "Breakdown",
                  "attributes": {
                    "value": "Conservation",
                    "ipysigma_kwarg_node_size": 5
                  }
                },
                {
                  "key": "Betrayal",
                  "attributes": {
                    "value": "Conservation",
                    "ipysigma_kwarg_node_size": 3
                  }
                },
                {
                  "key": "Shut Up and Sing",
                  "attributes": {
                    "value": "Conservation",
                    "ipysigma_kwarg_node_size": 5
                  }
                },
                {
                  "key": "Meant To Be",
                  "attributes": {
                    "value": "Neutral",
                    "ipysigma_kwarg_node_size": 3
                  }
                },
                {
                  "key": "The Right Man",
                  "attributes": {
                    "value": "Conservation",
                    "ipysigma_kwarg_node_size": 5
                  }
                },
                {
                  "key": "Ten Minutes from Normal",
                  "attributes": {
                    "value": "Conservation",
                    "ipysigma_kwarg_node_size": 10
                  }
                },
                {
                  "key": "Hillary's Scheme",
                  "attributes": {
                    "value": "Conservation",
                    "ipysigma_kwarg_node_size": 5
                  }
                },
                {
                  "key": "The French Betrayal of America",
                  "attributes": {
                    "value": "Conservation",
                    "ipysigma_kwarg_node_size": 7
                  }
                },
                {
                  "key": "Tales from the Left Coast",
                  "attributes": {
                    "value": "Conservation",
                    "ipysigma_kwarg_node_size": 9
                  }
                },
                {
                  "key": "Hating America",
                  "attributes": {
                    "value": "Conservation",
                    "ipysigma_kwarg_node_size": 9
                  }
                },
                {
                  "key": "The Third Terrorist",
                  "attributes": {
                    "value": "Conservation",
                    "ipysigma_kwarg_node_size": 5
                  }
                },
                {
                  "key": "Endgame",
                  "attributes": {
                    "value": "Conservation",
                    "ipysigma_kwarg_node_size": 9
                  }
                },
                {
                  "key": "Spin Sisters",
                  "attributes": {
                    "value": "Conservation",
                    "ipysigma_kwarg_node_size": 9
                  }
                },
                {
                  "key": "All the Shah's Men",
                  "attributes": {
                    "value": "Neutral",
                    "ipysigma_kwarg_node_size": 3
                  }
                },
                {
                  "key": "Dangerous Dimplomacy",
                  "attributes": {
                    "value": "Conservation",
                    "ipysigma_kwarg_node_size": 4
                  }
                },
                {
                  "key": "The Price of Loyalty",
                  "attributes": {
                    "value": "Liberal",
                    "ipysigma_kwarg_node_size": 20
                  }
                },
                {
                  "key": "House of Bush, House of Saud",
                  "attributes": {
                    "value": "Liberal",
                    "ipysigma_kwarg_node_size": 11
                  }
                },
                {
                  "key": "The Death of Right and Wrong",
                  "attributes": {
                    "value": "Conservation",
                    "ipysigma_kwarg_node_size": 5
                  }
                },
                {
                  "key": "Useful Idiots",
                  "attributes": {
                    "value": "Conservation",
                    "ipysigma_kwarg_node_size": 9
                  }
                },
                {
                  "key": "The O'Reilly Factor",
                  "attributes": {
                    "value": "Conservation",
                    "ipysigma_kwarg_node_size": 5
                  }
                },
                {
                  "key": "Let Freedom Ring",
                  "attributes": {
                    "value": "Conservation",
                    "ipysigma_kwarg_node_size": 10
                  }
                },
                {
                  "key": "Those Who Trespass",
                  "attributes": {
                    "value": "Conservation",
                    "ipysigma_kwarg_node_size": 5
                  }
                },
                {
                  "key": "Bias",
                  "attributes": {
                    "value": "Conservation",
                    "ipysigma_kwarg_node_size": 7
                  }
                },
                {
                  "key": "Slander",
                  "attributes": {
                    "value": "Conservation",
                    "ipysigma_kwarg_node_size": 7
                  }
                },
                {
                  "key": "The Savage Nation",
                  "attributes": {
                    "value": "Conservation",
                    "ipysigma_kwarg_node_size": 8
                  }
                },
                {
                  "key": "Deliver Us from Evil",
                  "attributes": {
                    "value": "Conservation",
                    "ipysigma_kwarg_node_size": 18
                  }
                },
                {
                  "key": "Give Me a Break",
                  "attributes": {
                    "value": "Conservation",
                    "ipysigma_kwarg_node_size": 8
                  }
                },
                {
                  "key": "The Enemy Within",
                  "attributes": {
                    "value": "Conservation",
                    "ipysigma_kwarg_node_size": 6
                  }
                },
                {
                  "key": "The Real America",
                  "attributes": {
                    "value": "Conservation",
                    "ipysigma_kwarg_node_size": 5
                  }
                },
                {
                  "key": "Who's Looking Out for You?",
                  "attributes": {
                    "value": "Conservation",
                    "ipysigma_kwarg_node_size": 5
                  }
                },
                {
                  "key": "The Official Handbook Vast Right Wing Conspiracy",
                  "attributes": {
                    "value": "Conservation",
                    "ipysigma_kwarg_node_size": 6
                  }
                },
                {
                  "key": "Power Plays",
                  "attributes": {
                    "value": "Neutral",
                    "ipysigma_kwarg_node_size": 4
                  }
                },
                {
                  "key": "Arrogance",
                  "attributes": {
                    "value": "Conservation",
                    "ipysigma_kwarg_node_size": 18
                  }
                },
                {
                  "key": "The Perfect Wife",
                  "attributes": {
                    "value": "Neutral",
                    "ipysigma_kwarg_node_size": 4
                  }
                },
                {
                  "key": "The Bushes",
                  "attributes": {
                    "value": "Conservation",
                    "ipysigma_kwarg_node_size": 8
                  }
                },
                {
                  "key": "Things Worth Fighting For",
                  "attributes": {
                    "value": "Conservation",
                    "ipysigma_kwarg_node_size": 3
                  }
                },
                {
                  "key": "Surprise, Security, the American Experience",
                  "attributes": {
                    "value": "Neutral",
                    "ipysigma_kwarg_node_size": 6
                  }
                },
                {
                  "key": "Allies",
                  "attributes": {
                    "value": "Conservation",
                    "ipysigma_kwarg_node_size": 5
                  }
                },
                {
                  "key": "Why Courage Matters",
                  "attributes": {
                    "value": "Conservation",
                    "ipysigma_kwarg_node_size": 5
                  }
                },
                {
                  "key": "Hollywood Interrupted",
                  "attributes": {
                    "value": "Conservation",
                    "ipysigma_kwarg_node_size": 6
                  }
                },
                {
                  "key": "Fighting Back",
                  "attributes": {
                    "value": "Conservation",
                    "ipysigma_kwarg_node_size": 4
                  }
                },
                {
                  "key": "We Will Prevail",
                  "attributes": {
                    "value": "Conservation",
                    "ipysigma_kwarg_node_size": 4
                  }
                },
                {
                  "key": "The Faith of George W Bush",
                  "attributes": {
                    "value": "Conservation",
                    "ipysigma_kwarg_node_size": 5
                  }
                },
                {
                  "key": "Rise of the Vulcans",
                  "attributes": {
                    "value": "Conservation",
                    "ipysigma_kwarg_node_size": 13
                  }
                },
                {
                  "key": "Downsize This!",
                  "attributes": {
                    "value": "Liberal",
                    "ipysigma_kwarg_node_size": 5
                  }
                },
                {
                  "key": "Stupid White Men",
                  "attributes": {
                    "value": "Liberal",
                    "ipysigma_kwarg_node_size": 6
                  }
                },
                {
                  "key": "Rush Limbaugh Is a Big Fat Idiot",
                  "attributes": {
                    "value": "Liberal",
                    "ipysigma_kwarg_node_size": 4
                  }
                },
                {
                  "key": "The Best Democracy Money Can Buy",
                  "attributes": {
                    "value": "Liberal",
                    "ipysigma_kwarg_node_size": 6
                  }
                },
                {
                  "key": "The Culture of Fear",
                  "attributes": {
                    "value": "Liberal",
                    "ipysigma_kwarg_node_size": 4
                  }
                },
                {
                  "key": "America Unbound",
                  "attributes": {
                    "value": "Liberal",
                    "ipysigma_kwarg_node_size": 9
                  }
                },
                {
                  "key": "The Choice",
                  "attributes": {
                    "value": "Liberal",
                    "ipysigma_kwarg_node_size": 7
                  }
                },
                {
                  "key": "The Great Unraveling",
                  "attributes": {
                    "value": "Liberal",
                    "ipysigma_kwarg_node_size": 21
                  }
                },
                {
                  "key": "Rogue Nation",
                  "attributes": {
                    "value": "Liberal",
                    "ipysigma_kwarg_node_size": 6
                  }
                },
                {
                  "key": "Soft Power",
                  "attributes": {
                    "value": "Liberal",
                    "ipysigma_kwarg_node_size": 4
                  }
                },
                {
                  "key": "Colossus",
                  "attributes": {
                    "value": "Neutral",
                    "ipysigma_kwarg_node_size": 5
                  }
                },
                {
                  "key": "The Sorrows of Empire",
                  "attributes": {
                    "value": "Liberal",
                    "ipysigma_kwarg_node_size": 7
                  }
                },
                {
                  "key": "Against All Enemies",
                  "attributes": {
                    "value": "Liberal",
                    "ipysigma_kwarg_node_size": 15
                  }
                },
                {
                  "key": "American Dynasty",
                  "attributes": {
                    "value": "Liberal",
                    "ipysigma_kwarg_node_size": 22
                  }
                },
                {
                  "key": "Big Lies",
                  "attributes": {
                    "value": "Liberal",
                    "ipysigma_kwarg_node_size": 21
                  }
                },
                {
                  "key": "The Lies of George W. Bush",
                  "attributes": {
                    "value": "Liberal",
                    "ipysigma_kwarg_node_size": 16
                  }
                },
                {
                  "key": "Worse Than Watergate",
                  "attributes": {
                    "value": "Liberal",
                    "ipysigma_kwarg_node_size": 16
                  }
                },
                {
                  "key": "Plan of Attack",
                  "attributes": {
                    "value": "Neutral",
                    "ipysigma_kwarg_node_size": 13
                  }
                },
                {
                  "key": "Bush at War",
                  "attributes": {
                    "value": "Conservation",
                    "ipysigma_kwarg_node_size": 7
                  }
                },
                {
                  "key": "The New Pearl Harbor",
                  "attributes": {
                    "value": "Liberal",
                    "ipysigma_kwarg_node_size": 5
                  }
                },
                {
                  "key": "Bushwomen",
                  "attributes": {
                    "value": "Liberal",
                    "ipysigma_kwarg_node_size": 8
                  }
                },
                {
                  "key": "The Bubble of American Supremacy",
                  "attributes": {
                    "value": "Liberal",
                    "ipysigma_kwarg_node_size": 4
                  }
                },
                {
                  "key": "Living History",
                  "attributes": {
                    "value": "Liberal",
                    "ipysigma_kwarg_node_size": 4
                  }
                },
                {
                  "key": "The Politics of Truth",
                  "attributes": {
                    "value": "Liberal",
                    "ipysigma_kwarg_node_size": 9
                  }
                },
                {
                  "key": "Fanatics and Fools",
                  "attributes": {
                    "value": "Liberal",
                    "ipysigma_kwarg_node_size": 8
                  }
                },
                {
                  "key": "Bushwhacked",
                  "attributes": {
                    "value": "Liberal",
                    "ipysigma_kwarg_node_size": 23
                  }
                },
                {
                  "key": "Disarming Iraq",
                  "attributes": {
                    "value": "Liberal",
                    "ipysigma_kwarg_node_size": 5
                  }
                },
                {
                  "key": "Lies and the Lying Liars Who Tell Them",
                  "attributes": {
                    "value": "Liberal",
                    "ipysigma_kwarg_node_size": 14
                  }
                },
                {
                  "key": "MoveOn's 50 Ways to Love Your Country",
                  "attributes": {
                    "value": "Liberal",
                    "ipysigma_kwarg_node_size": 5
                  }
                },
                {
                  "key": "The Buying of the President 2004",
                  "attributes": {
                    "value": "Liberal",
                    "ipysigma_kwarg_node_size": 5
                  }
                },
                {
                  "key": "Perfectly Legal",
                  "attributes": {
                    "value": "Liberal",
                    "ipysigma_kwarg_node_size": 6
                  }
                },
                {
                  "key": "Hegemony or Survival",
                  "attributes": {
                    "value": "Liberal",
                    "ipysigma_kwarg_node_size": 5
                  }
                },
                {
                  "key": "The Exception to the Rulers",
                  "attributes": {
                    "value": "Liberal",
                    "ipysigma_kwarg_node_size": 8
                  }
                },
                {
                  "key": "Freethinkers",
                  "attributes": {
                    "value": "Liberal",
                    "ipysigma_kwarg_node_size": 3
                  }
                },
                {
                  "key": "Had Enough?",
                  "attributes": {
                    "value": "Liberal",
                    "ipysigma_kwarg_node_size": 7
                  }
                },
                {
                  "key": "It's Still the Economy, Stupid!",
                  "attributes": {
                    "value": "Liberal",
                    "ipysigma_kwarg_node_size": 7
                  }
                },
                {
                  "key": "We're Right They're Wrong",
                  "attributes": {
                    "value": "Liberal",
                    "ipysigma_kwarg_node_size": 4
                  }
                },
                {
                  "key": "What Liberal Media?",
                  "attributes": {
                    "value": "Liberal",
                    "ipysigma_kwarg_node_size": 6
                  }
                },
                {
                  "key": "The Clinton Wars",
                  "attributes": {
                    "value": "Liberal",
                    "ipysigma_kwarg_node_size": 6
                  }
                },
                {
                  "key": "Weapons of Mass Deception",
                  "attributes": {
                    "value": "Liberal",
                    "ipysigma_kwarg_node_size": 5
                  }
                },
                {
                  "key": "Dude, Where's My Country?",
                  "attributes": {
                    "value": "Liberal",
                    "ipysigma_kwarg_node_size": 12
                  }
                },
                {
                  "key": "Thieves in High Places",
                  "attributes": {
                    "value": "Liberal",
                    "ipysigma_kwarg_node_size": 12
                  }
                },
                {
                  "key": "Shrub",
                  "attributes": {
                    "value": "Liberal",
                    "ipysigma_kwarg_node_size": 5
                  }
                },
                {
                  "key": "Buck Up Suck Up",
                  "attributes": {
                    "value": "Liberal",
                    "ipysigma_kwarg_node_size": 4
                  }
                },
                {
                  "key": "The Future of Freedom",
                  "attributes": {
                    "value": "Neutral",
                    "ipysigma_kwarg_node_size": 2
                  }
                },
                {
                  "key": "Empire",
                  "attributes": {
                    "value": "Neutral",
                    "ipysigma_kwarg_node_size": 3
                  }
                }
              ],
              "edges": [
                {
                  "source": "1000 Years for Revenge",
                  "target": "Bush vs. the Beltway",
                  "attributes": {}
                },
                {
                  "source": "1000 Years for Revenge",
                  "target": "Charlie Wilson's War",
                  "attributes": {}
                },
                {
                  "source": "1000 Years for Revenge",
                  "target": "Losing Bin Laden",
                  "attributes": {}
                },
                {
                  "source": "1000 Years for Revenge",
                  "target": "Sleeping With the Devil",
                  "attributes": {}
                },
                {
                  "source": "1000 Years for Revenge",
                  "target": "The Man Who Warned America",
                  "attributes": {}
                },
                {
                  "source": "1000 Years for Revenge",
                  "target": "Why America Slept",
                  "attributes": {}
                },
                {
                  "source": "Bush vs. the Beltway",
                  "target": "Losing Bin Laden",
                  "attributes": {}
                },
                {
                  "source": "Bush vs. the Beltway",
                  "target": "The Man Who Warned America",
                  "attributes": {}
                },
                {
                  "source": "Bush vs. the Beltway",
                  "target": "Why America Slept",
                  "attributes": {}
                },
                {
                  "source": "Charlie Wilson's War",
                  "target": "Sleeping With the Devil",
                  "attributes": {}
                },
                {
                  "source": "Charlie Wilson's War",
                  "target": "The Man Who Warned America",
                  "attributes": {}
                },
                {
                  "source": "Charlie Wilson's War",
                  "target": "Ghost Wars",
                  "attributes": {}
                },
                {
                  "source": "Losing Bin Laden",
                  "target": "The Man Who Warned America",
                  "attributes": {}
                },
                {
                  "source": "Losing Bin Laden",
                  "target": "A National Party No More",
                  "attributes": {}
                },
                {
                  "source": "Losing Bin Laden",
                  "target": "Bush Country",
                  "attributes": {}
                },
                {
                  "source": "Losing Bin Laden",
                  "target": "Dereliction of Duty",
                  "attributes": {}
                },
                {
                  "source": "Losing Bin Laden",
                  "target": "Legacy",
                  "attributes": {}
                },
                {
                  "source": "Losing Bin Laden",
                  "target": "Off with Their Heads",
                  "attributes": {}
                },
                {
                  "source": "Losing Bin Laden",
                  "target": "Persecution",
                  "attributes": {}
                },
                {
                  "source": "Losing Bin Laden",
                  "target": "Rumsfeld's War",
                  "attributes": {}
                },
                {
                  "source": "Losing Bin Laden",
                  "target": "Breakdown",
                  "attributes": {}
                },
                {
                  "source": "Losing Bin Laden",
                  "target": "Betrayal",
                  "attributes": {}
                },
                {
                  "source": "Losing Bin Laden",
                  "target": "Shut Up and Sing",
                  "attributes": {}
                },
                {
                  "source": "Losing Bin Laden",
                  "target": "Meant To Be",
                  "attributes": {}
                },
                {
                  "source": "Losing Bin Laden",
                  "target": "The Right Man",
                  "attributes": {}
                },
                {
                  "source": "Losing Bin Laden",
                  "target": "Ten Minutes from Normal",
                  "attributes": {}
                },
                {
                  "source": "Losing Bin Laden",
                  "target": "Hillary's Scheme",
                  "attributes": {}
                },
                {
                  "source": "Losing Bin Laden",
                  "target": "The French Betrayal of America",
                  "attributes": {}
                },
                {
                  "source": "Losing Bin Laden",
                  "target": "Tales from the Left Coast",
                  "attributes": {}
                },
                {
                  "source": "Losing Bin Laden",
                  "target": "Hating America",
                  "attributes": {}
                },
                {
                  "source": "Losing Bin Laden",
                  "target": "The Third Terrorist",
                  "attributes": {}
                },
                {
                  "source": "Losing Bin Laden",
                  "target": "Endgame",
                  "attributes": {}
                },
                {
                  "source": "Losing Bin Laden",
                  "target": "Spin Sisters",
                  "attributes": {}
                },
                {
                  "source": "Sleeping With the Devil",
                  "target": "The Man Who Warned America",
                  "attributes": {}
                },
                {
                  "source": "Sleeping With the Devil",
                  "target": "Why America Slept",
                  "attributes": {}
                },
                {
                  "source": "Sleeping With the Devil",
                  "target": "All the Shah's Men",
                  "attributes": {}
                },
                {
                  "source": "Sleeping With the Devil",
                  "target": "Dangerous Dimplomacy",
                  "attributes": {}
                },
                {
                  "source": "Sleeping With the Devil",
                  "target": "The Price of Loyalty",
                  "attributes": {}
                },
                {
                  "source": "Sleeping With the Devil",
                  "target": "House of Bush, House of Saud",
                  "attributes": {}
                },
                {
                  "source": "The Man Who Warned America",
                  "target": "Why America Slept",
                  "attributes": {}
                },
                {
                  "source": "The Man Who Warned America",
                  "target": "Ghost Wars",
                  "attributes": {}
                },
                {
                  "source": "Why America Slept",
                  "target": "Ghost Wars",
                  "attributes": {}
                },
                {
                  "source": "Why America Slept",
                  "target": "Dereliction of Duty",
                  "attributes": {}
                },
                {
                  "source": "Why America Slept",
                  "target": "Off with Their Heads",
                  "attributes": {}
                },
                {
                  "source": "Why America Slept",
                  "target": "Meant To Be",
                  "attributes": {}
                },
                {
                  "source": "Why America Slept",
                  "target": "The French Betrayal of America",
                  "attributes": {}
                },
                {
                  "source": "Why America Slept",
                  "target": "The Third Terrorist",
                  "attributes": {}
                },
                {
                  "source": "Why America Slept",
                  "target": "Dangerous Dimplomacy",
                  "attributes": {}
                },
                {
                  "source": "Ghost Wars",
                  "target": "Rumsfeld's War",
                  "attributes": {}
                },
                {
                  "source": "Ghost Wars",
                  "target": "The Price of Loyalty",
                  "attributes": {}
                },
                {
                  "source": "Ghost Wars",
                  "target": "Rise of the Vulcans",
                  "attributes": {}
                },
                {
                  "source": "Ghost Wars",
                  "target": "Against All Enemies",
                  "attributes": {}
                },
                {
                  "source": "Ghost Wars",
                  "target": "Disarming Iraq",
                  "attributes": {}
                },
                {
                  "source": "A National Party No More",
                  "target": "Bush Country",
                  "attributes": {}
                },
                {
                  "source": "A National Party No More",
                  "target": "Dereliction of Duty",
                  "attributes": {}
                },
                {
                  "source": "A National Party No More",
                  "target": "Legacy",
                  "attributes": {}
                },
                {
                  "source": "A National Party No More",
                  "target": "Off with Their Heads",
                  "attributes": {}
                },
                {
                  "source": "A National Party No More",
                  "target": "Persecution",
                  "attributes": {}
                },
                {
                  "source": "A National Party No More",
                  "target": "Rumsfeld's War",
                  "attributes": {}
                },
                {
                  "source": "A National Party No More",
                  "target": "Ten Minutes from Normal",
                  "attributes": {}
                },
                {
                  "source": "A National Party No More",
                  "target": "Hillary's Scheme",
                  "attributes": {}
                },
                {
                  "source": "A National Party No More",
                  "target": "The French Betrayal of America",
                  "attributes": {}
                },
                {
                  "source": "A National Party No More",
                  "target": "Tales from the Left Coast",
                  "attributes": {}
                },
                {
                  "source": "A National Party No More",
                  "target": "Hating America",
                  "attributes": {}
                },
                {
                  "source": "A National Party No More",
                  "target": "Endgame",
                  "attributes": {}
                },
                {
                  "source": "A National Party No More",
                  "target": "Spin Sisters",
                  "attributes": {}
                },
                {
                  "source": "A National Party No More",
                  "target": "The Death of Right and Wrong",
                  "attributes": {}
                },
                {
                  "source": "A National Party No More",
                  "target": "Useful Idiots",
                  "attributes": {}
                },
                {
                  "source": "A National Party No More",
                  "target": "Let Freedom Ring",
                  "attributes": {}
                },
                {
                  "source": "A National Party No More",
                  "target": "Bias",
                  "attributes": {}
                },
                {
                  "source": "A National Party No More",
                  "target": "Deliver Us from Evil",
                  "attributes": {}
                },
                {
                  "source": "A National Party No More",
                  "target": "Give Me a Break",
                  "attributes": {}
                },
                {
                  "source": "A National Party No More",
                  "target": "The Enemy Within",
                  "attributes": {}
                },
                {
                  "source": "A National Party No More",
                  "target": "The Real America",
                  "attributes": {}
                },
                {
                  "source": "A National Party No More",
                  "target": "Who's Looking Out for You?",
                  "attributes": {}
                },
                {
                  "source": "A National Party No More",
                  "target": "The Official Handbook Vast Right Wing Conspiracy",
                  "attributes": {}
                },
                {
                  "source": "A National Party No More",
                  "target": "Power Plays",
                  "attributes": {}
                },
                {
                  "source": "Bush Country",
                  "target": "Legacy",
                  "attributes": {}
                },
                {
                  "source": "Bush Country",
                  "target": "Off with Their Heads",
                  "attributes": {}
                },
                {
                  "source": "Bush Country",
                  "target": "Rumsfeld's War",
                  "attributes": {}
                },
                {
                  "source": "Bush Country",
                  "target": "Ten Minutes from Normal",
                  "attributes": {}
                },
                {
                  "source": "Bush Country",
                  "target": "Hating America",
                  "attributes": {}
                },
                {
                  "source": "Bush Country",
                  "target": "Spin Sisters",
                  "attributes": {}
                },
                {
                  "source": "Bush Country",
                  "target": "Give Me a Break",
                  "attributes": {}
                },
                {
                  "source": "Bush Country",
                  "target": "The Official Handbook Vast Right Wing Conspiracy",
                  "attributes": {}
                },
                {
                  "source": "Bush Country",
                  "target": "Arrogance",
                  "attributes": {}
                },
                {
                  "source": "Bush Country",
                  "target": "The Perfect Wife",
                  "attributes": {}
                },
                {
                  "source": "Bush Country",
                  "target": "The Bushes",
                  "attributes": {}
                },
                {
                  "source": "Bush Country",
                  "target": "Things Worth Fighting For",
                  "attributes": {}
                },
                {
                  "source": "Bush Country",
                  "target": "Surprise, Security, the American Experience",
                  "attributes": {}
                },
                {
                  "source": "Bush Country",
                  "target": "Allies",
                  "attributes": {}
                },
                {
                  "source": "Dereliction of Duty",
                  "target": "Legacy",
                  "attributes": {}
                },
                {
                  "source": "Dereliction of Duty",
                  "target": "Off with Their Heads",
                  "attributes": {}
                },
                {
                  "source": "Dereliction of Duty",
                  "target": "Breakdown",
                  "attributes": {}
                },
                {
                  "source": "Dereliction of Duty",
                  "target": "Betrayal",
                  "attributes": {}
                },
                {
                  "source": "Dereliction of Duty",
                  "target": "The Right Man",
                  "attributes": {}
                },
                {
                  "source": "Dereliction of Duty",
                  "target": "Hillary's Scheme",
                  "attributes": {}
                },
                {
                  "source": "Dereliction of Duty",
                  "target": "Useful Idiots",
                  "attributes": {}
                },
                {
                  "source": "Dereliction of Duty",
                  "target": "Let Freedom Ring",
                  "attributes": {}
                },
                {
                  "source": "Dereliction of Duty",
                  "target": "Bias",
                  "attributes": {}
                },
                {
                  "source": "Dereliction of Duty",
                  "target": "Slander",
                  "attributes": {}
                },
                {
                  "source": "Dereliction of Duty",
                  "target": "The Savage Nation",
                  "attributes": {}
                },
                {
                  "source": "Dereliction of Duty",
                  "target": "Fighting Back",
                  "attributes": {}
                },
                {
                  "source": "Legacy",
                  "target": "Off with Their Heads",
                  "attributes": {}
                },
                {
                  "source": "Legacy",
                  "target": "Persecution",
                  "attributes": {}
                },
                {
                  "source": "Legacy",
                  "target": "Rumsfeld's War",
                  "attributes": {}
                },
                {
                  "source": "Legacy",
                  "target": "Shut Up and Sing",
                  "attributes": {}
                },
                {
                  "source": "Legacy",
                  "target": "Ten Minutes from Normal",
                  "attributes": {}
                },
                {
                  "source": "Legacy",
                  "target": "Hillary's Scheme",
                  "attributes": {}
                },
                {
                  "source": "Legacy",
                  "target": "The French Betrayal of America",
                  "attributes": {}
                },
                {
                  "source": "Legacy",
                  "target": "Endgame",
                  "attributes": {}
                },
                {
                  "source": "Legacy",
                  "target": "Spin Sisters",
                  "attributes": {}
                },
                {
                  "source": "Legacy",
                  "target": "Dangerous Dimplomacy",
                  "attributes": {}
                },
                {
                  "source": "Legacy",
                  "target": "The Official Handbook Vast Right Wing Conspiracy",
                  "attributes": {}
                },
                {
                  "source": "Legacy",
                  "target": "Arrogance",
                  "attributes": {}
                },
                {
                  "source": "Legacy",
                  "target": "Things Worth Fighting For",
                  "attributes": {}
                },
                {
                  "source": "Legacy",
                  "target": "We Will Prevail",
                  "attributes": {}
                },
                {
                  "source": "Off with Their Heads",
                  "target": "Persecution",
                  "attributes": {}
                },
                {
                  "source": "Off with Their Heads",
                  "target": "Rumsfeld's War",
                  "attributes": {}
                },
                {
                  "source": "Off with Their Heads",
                  "target": "Breakdown",
                  "attributes": {}
                },
                {
                  "source": "Off with Their Heads",
                  "target": "Shut Up and Sing",
                  "attributes": {}
                },
                {
                  "source": "Off with Their Heads",
                  "target": "Meant To Be",
                  "attributes": {}
                },
                {
                  "source": "Off with Their Heads",
                  "target": "Tales from the Left Coast",
                  "attributes": {}
                },
                {
                  "source": "Off with Their Heads",
                  "target": "Hating America",
                  "attributes": {}
                },
                {
                  "source": "Off with Their Heads",
                  "target": "The Death of Right and Wrong",
                  "attributes": {}
                },
                {
                  "source": "Off with Their Heads",
                  "target": "Useful Idiots",
                  "attributes": {}
                },
                {
                  "source": "Off with Their Heads",
                  "target": "Those Who Trespass",
                  "attributes": {}
                },
                {
                  "source": "Off with Their Heads",
                  "target": "Slander",
                  "attributes": {}
                },
                {
                  "source": "Off with Their Heads",
                  "target": "The Savage Nation",
                  "attributes": {}
                },
                {
                  "source": "Off with Their Heads",
                  "target": "Deliver Us from Evil",
                  "attributes": {}
                },
                {
                  "source": "Off with Their Heads",
                  "target": "Give Me a Break",
                  "attributes": {}
                },
                {
                  "source": "Off with Their Heads",
                  "target": "Who's Looking Out for You?",
                  "attributes": {}
                },
                {
                  "source": "Off with Their Heads",
                  "target": "Power Plays",
                  "attributes": {}
                },
                {
                  "source": "Off with Their Heads",
                  "target": "Arrogance",
                  "attributes": {}
                },
                {
                  "source": "Off with Their Heads",
                  "target": "Hollywood Interrupted",
                  "attributes": {}
                },
                {
                  "source": "Off with Their Heads",
                  "target": "Fighting Back",
                  "attributes": {}
                },
                {
                  "source": "Persecution",
                  "target": "Shut Up and Sing",
                  "attributes": {}
                },
                {
                  "source": "Persecution",
                  "target": "Dangerous Dimplomacy",
                  "attributes": {}
                },
                {
                  "source": "Persecution",
                  "target": "The Death of Right and Wrong",
                  "attributes": {}
                },
                {
                  "source": "Persecution",
                  "target": "Deliver Us from Evil",
                  "attributes": {}
                },
                {
                  "source": "Persecution",
                  "target": "The Enemy Within",
                  "attributes": {}
                },
                {
                  "source": "Persecution",
                  "target": "The Real America",
                  "attributes": {}
                },
                {
                  "source": "Persecution",
                  "target": "Who's Looking Out for You?",
                  "attributes": {}
                },
                {
                  "source": "Persecution",
                  "target": "Arrogance",
                  "attributes": {}
                },
                {
                  "source": "Persecution",
                  "target": "The Faith of George W Bush",
                  "attributes": {}
                },
                {
                  "source": "Rumsfeld's War",
                  "target": "The Third Terrorist",
                  "attributes": {}
                },
                {
                  "source": "Rumsfeld's War",
                  "target": "Endgame",
                  "attributes": {}
                },
                {
                  "source": "Rumsfeld's War",
                  "target": "Rise of the Vulcans",
                  "attributes": {}
                },
                {
                  "source": "Breakdown",
                  "target": "Betrayal",
                  "attributes": {}
                },
                {
                  "source": "Breakdown",
                  "target": "Fighting Back",
                  "attributes": {}
                },
                {
                  "source": "Shut Up and Sing",
                  "target": "Arrogance",
                  "attributes": {}
                },
                {
                  "source": "The Right Man",
                  "target": "Fighting Back",
                  "attributes": {}
                },
                {
                  "source": "The Right Man",
                  "target": "We Will Prevail",
                  "attributes": {}
                },
                {
                  "source": "The Right Man",
                  "target": "Bush at War",
                  "attributes": {}
                },
                {
                  "source": "Ten Minutes from Normal",
                  "target": "Hating America",
                  "attributes": {}
                },
                {
                  "source": "Ten Minutes from Normal",
                  "target": "Deliver Us from Evil",
                  "attributes": {}
                },
                {
                  "source": "Ten Minutes from Normal",
                  "target": "The Perfect Wife",
                  "attributes": {}
                },
                {
                  "source": "Ten Minutes from Normal",
                  "target": "The Bushes",
                  "attributes": {}
                },
                {
                  "source": "Ten Minutes from Normal",
                  "target": "Why Courage Matters",
                  "attributes": {}
                },
                {
                  "source": "Ten Minutes from Normal",
                  "target": "The Faith of George W Bush",
                  "attributes": {}
                },
                {
                  "source": "Hillary's Scheme",
                  "target": "Tales from the Left Coast",
                  "attributes": {}
                },
                {
                  "source": "The French Betrayal of America",
                  "target": "The Third Terrorist",
                  "attributes": {}
                },
                {
                  "source": "The French Betrayal of America",
                  "target": "Deliver Us from Evil",
                  "attributes": {}
                },
                {
                  "source": "The French Betrayal of America",
                  "target": "Allies",
                  "attributes": {}
                },
                {
                  "source": "Tales from the Left Coast",
                  "target": "Spin Sisters",
                  "attributes": {}
                },
                {
                  "source": "Tales from the Left Coast",
                  "target": "The Death of Right and Wrong",
                  "attributes": {}
                },
                {
                  "source": "Tales from the Left Coast",
                  "target": "Useful Idiots",
                  "attributes": {}
                },
                {
                  "source": "Tales from the Left Coast",
                  "target": "Arrogance",
                  "attributes": {}
                },
                {
                  "source": "Tales from the Left Coast",
                  "target": "Hollywood Interrupted",
                  "attributes": {}
                },
                {
                  "source": "Hating America",
                  "target": "Endgame",
                  "attributes": {}
                },
                {
                  "source": "Hating America",
                  "target": "Deliver Us from Evil",
                  "attributes": {}
                },
                {
                  "source": "Hating America",
                  "target": "Arrogance",
                  "attributes": {}
                },
                {
                  "source": "Hating America",
                  "target": "Why Courage Matters",
                  "attributes": {}
                },
                {
                  "source": "The Third Terrorist",
                  "target": "Deliver Us from Evil",
                  "attributes": {}
                },
                {
                  "source": "Endgame",
                  "target": "Deliver Us from Evil",
                  "attributes": {}
                },
                {
                  "source": "Endgame",
                  "target": "The Official Handbook Vast Right Wing Conspiracy",
                  "attributes": {}
                },
                {
                  "source": "Endgame",
                  "target": "Arrogance",
                  "attributes": {}
                },
                {
                  "source": "Endgame",
                  "target": "Why Courage Matters",
                  "attributes": {}
                },
                {
                  "source": "Spin Sisters",
                  "target": "Deliver Us from Evil",
                  "attributes": {}
                },
                {
                  "source": "Spin Sisters",
                  "target": "Give Me a Break",
                  "attributes": {}
                },
                {
                  "source": "Spin Sisters",
                  "target": "Arrogance",
                  "attributes": {}
                },
                {
                  "source": "Spin Sisters",
                  "target": "Hollywood Interrupted",
                  "attributes": {}
                },
                {
                  "source": "All the Shah's Men",
                  "target": "The Great Unraveling",
                  "attributes": {}
                },
                {
                  "source": "All the Shah's Men",
                  "target": "American Dynasty",
                  "attributes": {}
                },
                {
                  "source": "The Price of Loyalty",
                  "target": "House of Bush, House of Saud",
                  "attributes": {}
                },
                {
                  "source": "The Price of Loyalty",
                  "target": "Rise of the Vulcans",
                  "attributes": {}
                },
                {
                  "source": "The Price of Loyalty",
                  "target": "The Great Unraveling",
                  "attributes": {}
                },
                {
                  "source": "The Price of Loyalty",
                  "target": "Rogue Nation",
                  "attributes": {}
                },
                {
                  "source": "The Price of Loyalty",
                  "target": "The Sorrows of Empire",
                  "attributes": {}
                },
                {
                  "source": "The Price of Loyalty",
                  "target": "Big Lies",
                  "attributes": {}
                },
                {
                  "source": "The Price of Loyalty",
                  "target": "The Lies of George W. Bush",
                  "attributes": {}
                },
                {
                  "source": "The Price of Loyalty",
                  "target": "Worse Than Watergate",
                  "attributes": {}
                },
                {
                  "source": "The Price of Loyalty",
                  "target": "Plan of Attack",
                  "attributes": {}
                },
                {
                  "source": "The Price of Loyalty",
                  "target": "Bush at War",
                  "attributes": {}
                },
                {
                  "source": "The Price of Loyalty",
                  "target": "Bushwomen",
                  "attributes": {}
                },
                {
                  "source": "The Price of Loyalty",
                  "target": "The Bubble of American Supremacy",
                  "attributes": {}
                },
                {
                  "source": "The Price of Loyalty",
                  "target": "The Politics of Truth",
                  "attributes": {}
                },
                {
                  "source": "The Price of Loyalty",
                  "target": "Fanatics and Fools",
                  "attributes": {}
                },
                {
                  "source": "The Price of Loyalty",
                  "target": "Bushwhacked",
                  "attributes": {}
                },
                {
                  "source": "The Price of Loyalty",
                  "target": "Lies and the Lying Liars Who Tell Them",
                  "attributes": {}
                },
                {
                  "source": "The Price of Loyalty",
                  "target": "Had Enough?",
                  "attributes": {}
                },
                {
                  "source": "The Price of Loyalty",
                  "target": "Dude, Where's My Country?",
                  "attributes": {}
                },
                {
                  "source": "House of Bush, House of Saud",
                  "target": "The Bushes",
                  "attributes": {}
                },
                {
                  "source": "House of Bush, House of Saud",
                  "target": "Big Lies",
                  "attributes": {}
                },
                {
                  "source": "House of Bush, House of Saud",
                  "target": "The Lies of George W. Bush",
                  "attributes": {}
                },
                {
                  "source": "House of Bush, House of Saud",
                  "target": "Worse Than Watergate",
                  "attributes": {}
                },
                {
                  "source": "House of Bush, House of Saud",
                  "target": "Plan of Attack",
                  "attributes": {}
                },
                {
                  "source": "House of Bush, House of Saud",
                  "target": "Bush at War",
                  "attributes": {}
                },
                {
                  "source": "House of Bush, House of Saud",
                  "target": "The New Pearl Harbor",
                  "attributes": {}
                },
                {
                  "source": "House of Bush, House of Saud",
                  "target": "The Politics of Truth",
                  "attributes": {}
                },
                {
                  "source": "House of Bush, House of Saud",
                  "target": "The Exception to the Rulers",
                  "attributes": {}
                },
                {
                  "source": "The Death of Right and Wrong",
                  "target": "Useful Idiots",
                  "attributes": {}
                },
                {
                  "source": "Useful Idiots",
                  "target": "Bias",
                  "attributes": {}
                },
                {
                  "source": "Useful Idiots",
                  "target": "Slander",
                  "attributes": {}
                },
                {
                  "source": "Useful Idiots",
                  "target": "The Savage Nation",
                  "attributes": {}
                },
                {
                  "source": "Useful Idiots",
                  "target": "Arrogance",
                  "attributes": {}
                },
                {
                  "source": "The O'Reilly Factor",
                  "target": "Let Freedom Ring",
                  "attributes": {}
                },
                {
                  "source": "The O'Reilly Factor",
                  "target": "Those Who Trespass",
                  "attributes": {}
                },
                {
                  "source": "The O'Reilly Factor",
                  "target": "Bias",
                  "attributes": {}
                },
                {
                  "source": "The O'Reilly Factor",
                  "target": "Slander",
                  "attributes": {}
                },
                {
                  "source": "The O'Reilly Factor",
                  "target": "The Savage Nation",
                  "attributes": {}
                },
                {
                  "source": "Let Freedom Ring",
                  "target": "Those Who Trespass",
                  "attributes": {}
                },
                {
                  "source": "Let Freedom Ring",
                  "target": "Bias",
                  "attributes": {}
                },
                {
                  "source": "Let Freedom Ring",
                  "target": "Slander",
                  "attributes": {}
                },
                {
                  "source": "Let Freedom Ring",
                  "target": "The Savage Nation",
                  "attributes": {}
                },
                {
                  "source": "Let Freedom Ring",
                  "target": "Deliver Us from Evil",
                  "attributes": {}
                },
                {
                  "source": "Let Freedom Ring",
                  "target": "The Real America",
                  "attributes": {}
                },
                {
                  "source": "Let Freedom Ring",
                  "target": "Who's Looking Out for You?",
                  "attributes": {}
                },
                {
                  "source": "Those Who Trespass",
                  "target": "Give Me a Break",
                  "attributes": {}
                },
                {
                  "source": "Those Who Trespass",
                  "target": "Arrogance",
                  "attributes": {}
                },
                {
                  "source": "Bias",
                  "target": "Slander",
                  "attributes": {}
                },
                {
                  "source": "Bias",
                  "target": "Arrogance",
                  "attributes": {}
                },
                {
                  "source": "Slander",
                  "target": "The Savage Nation",
                  "attributes": {}
                },
                {
                  "source": "The Savage Nation",
                  "target": "Deliver Us from Evil",
                  "attributes": {}
                },
                {
                  "source": "The Savage Nation",
                  "target": "The Enemy Within",
                  "attributes": {}
                },
                {
                  "source": "Deliver Us from Evil",
                  "target": "Give Me a Break",
                  "attributes": {}
                },
                {
                  "source": "Deliver Us from Evil",
                  "target": "The Enemy Within",
                  "attributes": {}
                },
                {
                  "source": "Deliver Us from Evil",
                  "target": "Who's Looking Out for You?",
                  "attributes": {}
                },
                {
                  "source": "Deliver Us from Evil",
                  "target": "The Official Handbook Vast Right Wing Conspiracy",
                  "attributes": {}
                },
                {
                  "source": "Deliver Us from Evil",
                  "target": "Arrogance",
                  "attributes": {}
                },
                {
                  "source": "Deliver Us from Evil",
                  "target": "Why Courage Matters",
                  "attributes": {}
                },
                {
                  "source": "Deliver Us from Evil",
                  "target": "Hollywood Interrupted",
                  "attributes": {}
                },
                {
                  "source": "Give Me a Break",
                  "target": "Arrogance",
                  "attributes": {}
                },
                {
                  "source": "Give Me a Break",
                  "target": "Hollywood Interrupted",
                  "attributes": {}
                },
                {
                  "source": "The Enemy Within",
                  "target": "The Real America",
                  "attributes": {}
                },
                {
                  "source": "The Enemy Within",
                  "target": "Arrogance",
                  "attributes": {}
                },
                {
                  "source": "The Real America",
                  "target": "We Will Prevail",
                  "attributes": {}
                },
                {
                  "source": "The Official Handbook Vast Right Wing Conspiracy",
                  "target": "Arrogance",
                  "attributes": {}
                },
                {
                  "source": "Power Plays",
                  "target": "Arrogance",
                  "attributes": {}
                },
                {
                  "source": "Power Plays",
                  "target": "Buck Up Suck Up",
                  "attributes": {}
                },
                {
                  "source": "Arrogance",
                  "target": "Hollywood Interrupted",
                  "attributes": {}
                },
                {
                  "source": "The Perfect Wife",
                  "target": "The Bushes",
                  "attributes": {}
                },
                {
                  "source": "The Perfect Wife",
                  "target": "The Faith of George W Bush",
                  "attributes": {}
                },
                {
                  "source": "The Bushes",
                  "target": "The Faith of George W Bush",
                  "attributes": {}
                },
                {
                  "source": "The Bushes",
                  "target": "Rise of the Vulcans",
                  "attributes": {}
                },
                {
                  "source": "The Bushes",
                  "target": "American Dynasty",
                  "attributes": {}
                },
                {
                  "source": "The Bushes",
                  "target": "Plan of Attack",
                  "attributes": {}
                },
                {
                  "source": "Things Worth Fighting For",
                  "target": "Rise of the Vulcans",
                  "attributes": {}
                },
                {
                  "source": "Surprise, Security, the American Experience",
                  "target": "Allies",
                  "attributes": {}
                },
                {
                  "source": "Surprise, Security, the American Experience",
                  "target": "Rise of the Vulcans",
                  "attributes": {}
                },
                {
                  "source": "Surprise, Security, the American Experience",
                  "target": "America Unbound",
                  "attributes": {}
                },
                {
                  "source": "Surprise, Security, the American Experience",
                  "target": "The Choice",
                  "attributes": {}
                },
                {
                  "source": "Surprise, Security, the American Experience",
                  "target": "Colossus",
                  "attributes": {}
                },
                {
                  "source": "Allies",
                  "target": "Rise of the Vulcans",
                  "attributes": {}
                },
                {
                  "source": "Allies",
                  "target": "America Unbound",
                  "attributes": {}
                },
                {
                  "source": "Why Courage Matters",
                  "target": "Plan of Attack",
                  "attributes": {}
                },
                {
                  "source": "We Will Prevail",
                  "target": "The Faith of George W Bush",
                  "attributes": {}
                },
                {
                  "source": "Rise of the Vulcans",
                  "target": "America Unbound",
                  "attributes": {}
                },
                {
                  "source": "Rise of the Vulcans",
                  "target": "The Choice",
                  "attributes": {}
                },
                {
                  "source": "Rise of the Vulcans",
                  "target": "Soft Power",
                  "attributes": {}
                },
                {
                  "source": "Rise of the Vulcans",
                  "target": "Colossus",
                  "attributes": {}
                },
                {
                  "source": "Rise of the Vulcans",
                  "target": "Bush at War",
                  "attributes": {}
                },
                {
                  "source": "Rise of the Vulcans",
                  "target": "Disarming Iraq",
                  "attributes": {}
                },
                {
                  "source": "Downsize This!",
                  "target": "Stupid White Men",
                  "attributes": {}
                },
                {
                  "source": "Downsize This!",
                  "target": "Rush Limbaugh Is a Big Fat Idiot",
                  "attributes": {}
                },
                {
                  "source": "Downsize This!",
                  "target": "The Best Democracy Money Can Buy",
                  "attributes": {}
                },
                {
                  "source": "Downsize This!",
                  "target": "The Culture of Fear",
                  "attributes": {}
                },
                {
                  "source": "Downsize This!",
                  "target": "Dude, Where's My Country?",
                  "attributes": {}
                },
                {
                  "source": "Stupid White Men",
                  "target": "The Best Democracy Money Can Buy",
                  "attributes": {}
                },
                {
                  "source": "Stupid White Men",
                  "target": "The Culture of Fear",
                  "attributes": {}
                },
                {
                  "source": "Stupid White Men",
                  "target": "Bushwhacked",
                  "attributes": {}
                },
                {
                  "source": "Stupid White Men",
                  "target": "Lies and the Lying Liars Who Tell Them",
                  "attributes": {}
                },
                {
                  "source": "Stupid White Men",
                  "target": "Dude, Where's My Country?",
                  "attributes": {}
                },
                {
                  "source": "Rush Limbaugh Is a Big Fat Idiot",
                  "target": "Lies and the Lying Liars Who Tell Them",
                  "attributes": {}
                },
                {
                  "source": "Rush Limbaugh Is a Big Fat Idiot",
                  "target": "We're Right They're Wrong",
                  "attributes": {}
                },
                {
                  "source": "Rush Limbaugh Is a Big Fat Idiot",
                  "target": "Shrub",
                  "attributes": {}
                },
                {
                  "source": "The Best Democracy Money Can Buy",
                  "target": "The Culture of Fear",
                  "attributes": {}
                },
                {
                  "source": "The Best Democracy Money Can Buy",
                  "target": "Bushwhacked",
                  "attributes": {}
                },
                {
                  "source": "The Best Democracy Money Can Buy",
                  "target": "Dude, Where's My Country?",
                  "attributes": {}
                },
                {
                  "source": "The Best Democracy Money Can Buy",
                  "target": "Thieves in High Places",
                  "attributes": {}
                },
                {
                  "source": "The Culture of Fear",
                  "target": "Dude, Where's My Country?",
                  "attributes": {}
                },
                {
                  "source": "America Unbound",
                  "target": "The Choice",
                  "attributes": {}
                },
                {
                  "source": "America Unbound",
                  "target": "The Great Unraveling",
                  "attributes": {}
                },
                {
                  "source": "America Unbound",
                  "target": "Rogue Nation",
                  "attributes": {}
                },
                {
                  "source": "America Unbound",
                  "target": "Soft Power",
                  "attributes": {}
                },
                {
                  "source": "America Unbound",
                  "target": "Colossus",
                  "attributes": {}
                },
                {
                  "source": "America Unbound",
                  "target": "The Sorrows of Empire",
                  "attributes": {}
                },
                {
                  "source": "The Choice",
                  "target": "Rogue Nation",
                  "attributes": {}
                },
                {
                  "source": "The Choice",
                  "target": "Soft Power",
                  "attributes": {}
                },
                {
                  "source": "The Choice",
                  "target": "Colossus",
                  "attributes": {}
                },
                {
                  "source": "The Choice",
                  "target": "Disarming Iraq",
                  "attributes": {}
                },
                {
                  "source": "The Great Unraveling",
                  "target": "Rogue Nation",
                  "attributes": {}
                },
                {
                  "source": "The Great Unraveling",
                  "target": "The Sorrows of Empire",
                  "attributes": {}
                },
                {
                  "source": "The Great Unraveling",
                  "target": "American Dynasty",
                  "attributes": {}
                },
                {
                  "source": "The Great Unraveling",
                  "target": "Big Lies",
                  "attributes": {}
                },
                {
                  "source": "The Great Unraveling",
                  "target": "The Lies of George W. Bush",
                  "attributes": {}
                },
                {
                  "source": "The Great Unraveling",
                  "target": "Plan of Attack",
                  "attributes": {}
                },
                {
                  "source": "The Great Unraveling",
                  "target": "The Bubble of American Supremacy",
                  "attributes": {}
                },
                {
                  "source": "The Great Unraveling",
                  "target": "Bushwhacked",
                  "attributes": {}
                },
                {
                  "source": "The Great Unraveling",
                  "target": "Disarming Iraq",
                  "attributes": {}
                },
                {
                  "source": "The Great Unraveling",
                  "target": "Lies and the Lying Liars Who Tell Them",
                  "attributes": {}
                },
                {
                  "source": "The Great Unraveling",
                  "target": "The Buying of the President 2004",
                  "attributes": {}
                },
                {
                  "source": "The Great Unraveling",
                  "target": "Perfectly Legal",
                  "attributes": {}
                },
                {
                  "source": "The Great Unraveling",
                  "target": "Hegemony or Survival",
                  "attributes": {}
                },
                {
                  "source": "The Great Unraveling",
                  "target": "Had Enough?",
                  "attributes": {}
                },
                {
                  "source": "The Great Unraveling",
                  "target": "What Liberal Media?",
                  "attributes": {}
                },
                {
                  "source": "The Great Unraveling",
                  "target": "The Clinton Wars",
                  "attributes": {}
                },
                {
                  "source": "The Great Unraveling",
                  "target": "Dude, Where's My Country?",
                  "attributes": {}
                },
                {
                  "source": "The Great Unraveling",
                  "target": "Thieves in High Places",
                  "attributes": {}
                },
                {
                  "source": "Rogue Nation",
                  "target": "The Future of Freedom",
                  "attributes": {}
                },
                {
                  "source": "Rogue Nation",
                  "target": "Empire",
                  "attributes": {}
                },
                {
                  "source": "Soft Power",
                  "target": "Against All Enemies",
                  "attributes": {}
                },
                {
                  "source": "Colossus",
                  "target": "Empire",
                  "attributes": {}
                },
                {
                  "source": "The Sorrows of Empire",
                  "target": "Against All Enemies",
                  "attributes": {}
                },
                {
                  "source": "The Sorrows of Empire",
                  "target": "American Dynasty",
                  "attributes": {}
                },
                {
                  "source": "The Sorrows of Empire",
                  "target": "Worse Than Watergate",
                  "attributes": {}
                },
                {
                  "source": "The Sorrows of Empire",
                  "target": "Hegemony or Survival",
                  "attributes": {}
                },
                {
                  "source": "Against All Enemies",
                  "target": "American Dynasty",
                  "attributes": {}
                },
                {
                  "source": "Against All Enemies",
                  "target": "Big Lies",
                  "attributes": {}
                },
                {
                  "source": "Against All Enemies",
                  "target": "The Lies of George W. Bush",
                  "attributes": {}
                },
                {
                  "source": "Against All Enemies",
                  "target": "Worse Than Watergate",
                  "attributes": {}
                },
                {
                  "source": "Against All Enemies",
                  "target": "Plan of Attack",
                  "attributes": {}
                },
                {
                  "source": "Against All Enemies",
                  "target": "Bush at War",
                  "attributes": {}
                },
                {
                  "source": "Against All Enemies",
                  "target": "The New Pearl Harbor",
                  "attributes": {}
                },
                {
                  "source": "Against All Enemies",
                  "target": "Bushwomen",
                  "attributes": {}
                },
                {
                  "source": "Against All Enemies",
                  "target": "The Bubble of American Supremacy",
                  "attributes": {}
                },
                {
                  "source": "Against All Enemies",
                  "target": "Living History",
                  "attributes": {}
                },
                {
                  "source": "Against All Enemies",
                  "target": "The Politics of Truth",
                  "attributes": {}
                },
                {
                  "source": "Against All Enemies",
                  "target": "Fanatics and Fools",
                  "attributes": {}
                },
                {
                  "source": "American Dynasty",
                  "target": "Big Lies",
                  "attributes": {}
                },
                {
                  "source": "American Dynasty",
                  "target": "The Lies of George W. Bush",
                  "attributes": {}
                },
                {
                  "source": "American Dynasty",
                  "target": "Worse Than Watergate",
                  "attributes": {}
                },
                {
                  "source": "American Dynasty",
                  "target": "Plan of Attack",
                  "attributes": {}
                },
                {
                  "source": "American Dynasty",
                  "target": "The New Pearl Harbor",
                  "attributes": {}
                },
                {
                  "source": "American Dynasty",
                  "target": "Bushwomen",
                  "attributes": {}
                },
                {
                  "source": "American Dynasty",
                  "target": "The Bubble of American Supremacy",
                  "attributes": {}
                },
                {
                  "source": "American Dynasty",
                  "target": "The Politics of Truth",
                  "attributes": {}
                },
                {
                  "source": "American Dynasty",
                  "target": "Bushwhacked",
                  "attributes": {}
                },
                {
                  "source": "American Dynasty",
                  "target": "Disarming Iraq",
                  "attributes": {}
                },
                {
                  "source": "American Dynasty",
                  "target": "Lies and the Lying Liars Who Tell Them",
                  "attributes": {}
                },
                {
                  "source": "American Dynasty",
                  "target": "MoveOn's 50 Ways to Love Your Country",
                  "attributes": {}
                },
                {
                  "source": "American Dynasty",
                  "target": "The Buying of the President 2004",
                  "attributes": {}
                },
                {
                  "source": "American Dynasty",
                  "target": "Perfectly Legal",
                  "attributes": {}
                },
                {
                  "source": "American Dynasty",
                  "target": "Hegemony or Survival",
                  "attributes": {}
                },
                {
                  "source": "American Dynasty",
                  "target": "The Exception to the Rulers",
                  "attributes": {}
                },
                {
                  "source": "American Dynasty",
                  "target": "Freethinkers",
                  "attributes": {}
                },
                {
                  "source": "Big Lies",
                  "target": "The Lies of George W. Bush",
                  "attributes": {}
                },
                {
                  "source": "Big Lies",
                  "target": "Worse Than Watergate",
                  "attributes": {}
                },
                {
                  "source": "Big Lies",
                  "target": "The Politics of Truth",
                  "attributes": {}
                },
                {
                  "source": "Big Lies",
                  "target": "Fanatics and Fools",
                  "attributes": {}
                },
                {
                  "source": "Big Lies",
                  "target": "Bushwhacked",
                  "attributes": {}
                },
                {
                  "source": "Big Lies",
                  "target": "Lies and the Lying Liars Who Tell Them",
                  "attributes": {}
                },
                {
                  "source": "Big Lies",
                  "target": "Perfectly Legal",
                  "attributes": {}
                },
                {
                  "source": "Big Lies",
                  "target": "Freethinkers",
                  "attributes": {}
                },
                {
                  "source": "Big Lies",
                  "target": "Had Enough?",
                  "attributes": {}
                },
                {
                  "source": "Big Lies",
                  "target": "It's Still the Economy, Stupid!",
                  "attributes": {}
                },
                {
                  "source": "Big Lies",
                  "target": "We're Right They're Wrong",
                  "attributes": {}
                },
                {
                  "source": "Big Lies",
                  "target": "What Liberal Media?",
                  "attributes": {}
                },
                {
                  "source": "Big Lies",
                  "target": "The Clinton Wars",
                  "attributes": {}
                },
                {
                  "source": "Big Lies",
                  "target": "Weapons of Mass Deception",
                  "attributes": {}
                },
                {
                  "source": "Big Lies",
                  "target": "Dude, Where's My Country?",
                  "attributes": {}
                },
                {
                  "source": "Big Lies",
                  "target": "Thieves in High Places",
                  "attributes": {}
                },
                {
                  "source": "The Lies of George W. Bush",
                  "target": "Worse Than Watergate",
                  "attributes": {}
                },
                {
                  "source": "The Lies of George W. Bush",
                  "target": "The New Pearl Harbor",
                  "attributes": {}
                },
                {
                  "source": "The Lies of George W. Bush",
                  "target": "Bushwomen",
                  "attributes": {}
                },
                {
                  "source": "The Lies of George W. Bush",
                  "target": "The Politics of Truth",
                  "attributes": {}
                },
                {
                  "source": "The Lies of George W. Bush",
                  "target": "Bushwhacked",
                  "attributes": {}
                },
                {
                  "source": "The Lies of George W. Bush",
                  "target": "MoveOn's 50 Ways to Love Your Country",
                  "attributes": {}
                },
                {
                  "source": "The Lies of George W. Bush",
                  "target": "The Buying of the President 2004",
                  "attributes": {}
                },
                {
                  "source": "The Lies of George W. Bush",
                  "target": "The Exception to the Rulers",
                  "attributes": {}
                },
                {
                  "source": "The Lies of George W. Bush",
                  "target": "Weapons of Mass Deception",
                  "attributes": {}
                },
                {
                  "source": "The Lies of George W. Bush",
                  "target": "Dude, Where's My Country?",
                  "attributes": {}
                },
                {
                  "source": "Worse Than Watergate",
                  "target": "Plan of Attack",
                  "attributes": {}
                },
                {
                  "source": "Worse Than Watergate",
                  "target": "Bush at War",
                  "attributes": {}
                },
                {
                  "source": "Worse Than Watergate",
                  "target": "The New Pearl Harbor",
                  "attributes": {}
                },
                {
                  "source": "Worse Than Watergate",
                  "target": "Bushwomen",
                  "attributes": {}
                },
                {
                  "source": "Worse Than Watergate",
                  "target": "The Politics of Truth",
                  "attributes": {}
                },
                {
                  "source": "Worse Than Watergate",
                  "target": "Fanatics and Fools",
                  "attributes": {}
                },
                {
                  "source": "Worse Than Watergate",
                  "target": "Bushwhacked",
                  "attributes": {}
                },
                {
                  "source": "Worse Than Watergate",
                  "target": "The Exception to the Rulers",
                  "attributes": {}
                },
                {
                  "source": "Worse Than Watergate",
                  "target": "Freethinkers",
                  "attributes": {}
                },
                {
                  "source": "Plan of Attack",
                  "target": "Bush at War",
                  "attributes": {}
                },
                {
                  "source": "Plan of Attack",
                  "target": "The Politics of Truth",
                  "attributes": {}
                },
                {
                  "source": "Plan of Attack",
                  "target": "Fanatics and Fools",
                  "attributes": {}
                },
                {
                  "source": "Plan of Attack",
                  "target": "Bushwhacked",
                  "attributes": {}
                },
                {
                  "source": "Plan of Attack",
                  "target": "Lies and the Lying Liars Who Tell Them",
                  "attributes": {}
                },
                {
                  "source": "Bushwomen",
                  "target": "Bushwhacked",
                  "attributes": {}
                },
                {
                  "source": "Bushwomen",
                  "target": "The Exception to the Rulers",
                  "attributes": {}
                },
                {
                  "source": "Bushwomen",
                  "target": "Thieves in High Places",
                  "attributes": {}
                },
                {
                  "source": "Living History",
                  "target": "Bushwhacked",
                  "attributes": {}
                },
                {
                  "source": "Living History",
                  "target": "Lies and the Lying Liars Who Tell Them",
                  "attributes": {}
                },
                {
                  "source": "Living History",
                  "target": "The Clinton Wars",
                  "attributes": {}
                },
                {
                  "source": "The Politics of Truth",
                  "target": "Bushwhacked",
                  "attributes": {}
                },
                {
                  "source": "Fanatics and Fools",
                  "target": "Bushwhacked",
                  "attributes": {}
                },
                {
                  "source": "Fanatics and Fools",
                  "target": "MoveOn's 50 Ways to Love Your Country",
                  "attributes": {}
                },
                {
                  "source": "Fanatics and Fools",
                  "target": "Thieves in High Places",
                  "attributes": {}
                },
                {
                  "source": "Bushwhacked",
                  "target": "Lies and the Lying Liars Who Tell Them",
                  "attributes": {}
                },
                {
                  "source": "Bushwhacked",
                  "target": "MoveOn's 50 Ways to Love Your Country",
                  "attributes": {}
                },
                {
                  "source": "Bushwhacked",
                  "target": "The Buying of the President 2004",
                  "attributes": {}
                },
                {
                  "source": "Bushwhacked",
                  "target": "Perfectly Legal",
                  "attributes": {}
                },
                {
                  "source": "Bushwhacked",
                  "target": "It's Still the Economy, Stupid!",
                  "attributes": {}
                },
                {
                  "source": "Bushwhacked",
                  "target": "What Liberal Media?",
                  "attributes": {}
                },
                {
                  "source": "Bushwhacked",
                  "target": "The Clinton Wars",
                  "attributes": {}
                },
                {
                  "source": "Bushwhacked",
                  "target": "Dude, Where's My Country?",
                  "attributes": {}
                },
                {
                  "source": "Bushwhacked",
                  "target": "Thieves in High Places",
                  "attributes": {}
                },
                {
                  "source": "Bushwhacked",
                  "target": "Shrub",
                  "attributes": {}
                },
                {
                  "source": "Lies and the Lying Liars Who Tell Them",
                  "target": "Perfectly Legal",
                  "attributes": {}
                },
                {
                  "source": "Lies and the Lying Liars Who Tell Them",
                  "target": "Had Enough?",
                  "attributes": {}
                },
                {
                  "source": "Lies and the Lying Liars Who Tell Them",
                  "target": "The Clinton Wars",
                  "attributes": {}
                },
                {
                  "source": "Lies and the Lying Liars Who Tell Them",
                  "target": "Thieves in High Places",
                  "attributes": {}
                },
                {
                  "source": "Lies and the Lying Liars Who Tell Them",
                  "target": "Shrub",
                  "attributes": {}
                },
                {
                  "source": "MoveOn's 50 Ways to Love Your Country",
                  "target": "Weapons of Mass Deception",
                  "attributes": {}
                },
                {
                  "source": "The Buying of the President 2004",
                  "target": "Perfectly Legal",
                  "attributes": {}
                },
                {
                  "source": "Hegemony or Survival",
                  "target": "The Exception to the Rulers",
                  "attributes": {}
                },
                {
                  "source": "Hegemony or Survival",
                  "target": "Dude, Where's My Country?",
                  "attributes": {}
                },
                {
                  "source": "The Exception to the Rulers",
                  "target": "Weapons of Mass Deception",
                  "attributes": {}
                },
                {
                  "source": "The Exception to the Rulers",
                  "target": "Thieves in High Places",
                  "attributes": {}
                },
                {
                  "source": "Had Enough?",
                  "target": "It's Still the Economy, Stupid!",
                  "attributes": {}
                },
                {
                  "source": "Had Enough?",
                  "target": "Dude, Where's My Country?",
                  "attributes": {}
                },
                {
                  "source": "Had Enough?",
                  "target": "Buck Up Suck Up",
                  "attributes": {}
                },
                {
                  "source": "It's Still the Economy, Stupid!",
                  "target": "We're Right They're Wrong",
                  "attributes": {}
                },
                {
                  "source": "It's Still the Economy, Stupid!",
                  "target": "What Liberal Media?",
                  "attributes": {}
                },
                {
                  "source": "It's Still the Economy, Stupid!",
                  "target": "Shrub",
                  "attributes": {}
                },
                {
                  "source": "It's Still the Economy, Stupid!",
                  "target": "Buck Up Suck Up",
                  "attributes": {}
                },
                {
                  "source": "We're Right They're Wrong",
                  "target": "Buck Up Suck Up",
                  "attributes": {}
                },
                {
                  "source": "What Liberal Media?",
                  "target": "The Clinton Wars",
                  "attributes": {}
                },
                {
                  "source": "What Liberal Media?",
                  "target": "Thieves in High Places",
                  "attributes": {}
                },
                {
                  "source": "Weapons of Mass Deception",
                  "target": "Thieves in High Places",
                  "attributes": {}
                },
                {
                  "source": "Dude, Where's My Country?",
                  "target": "Thieves in High Places",
                  "attributes": {}
                },
                {
                  "source": "Thieves in High Places",
                  "target": "Shrub",
                  "attributes": {}
                },
                {
                  "source": "The Future of Freedom",
                  "target": "Empire",
                  "attributes": {}
                }
              ],
              "options": {
                "type": "undirected",
                "multi": false
              }
            },
            "edge_weight": "weight",
            "height": "500px",
            "layout": {
              "1000 Years for Revenge": {
                "x": 0.15428948876230283,
                "y": 0.25273986629959766
              },
              "Bush vs. the Beltway": {
                "x": 0.5762050567157171,
                "y": 0.8675055755423209
              },
              "Charlie Wilson's War": {
                "x": 0.4923045147706771,
                "y": 0.7549328770522359
              },
              "Losing Bin Laden": {
                "x": 0.536310160588477,
                "y": 0.6607164922702594
              },
              "Sleeping With the Devil": {
                "x": 0.17898877761019927,
                "y": 0.7423470400617883
              },
              "The Man Who Warned America": {
                "x": 0.7654569574501733,
                "y": 0.2409002179776765
              },
              "Why America Slept": {
                "x": 0.8666364121438902,
                "y": 0.3612731622048909
              },
              "Ghost Wars": {
                "x": 0.3750092524652347,
                "y": 0.43898357292952234
              },
              "A National Party No More": {
                "x": 0.686974614630136,
                "y": 0.44860358368004677
              },
              "Bush Country": {
                "x": 0.40559004582969205,
                "y": 0.8051142792853555
              },
              "Dereliction of Duty": {
                "x": 0.2755987667745767,
                "y": 0.4476774839346224
              },
              "Legacy": {
                "x": 0.692315680725632,
                "y": 0.22264914856719326
              },
              "Off with Their Heads": {
                "x": 0.6517501069627378,
                "y": 0.3711104926111498
              },
              "Persecution": {
                "x": 0.2111467647774474,
                "y": 0.09947058602301147
              },
              "Rumsfeld's War": {
                "x": 0.599929496786351,
                "y": 0.0787483076490472
              },
              "Breakdown": {
                "x": 0.5204078971266999,
                "y": 0.5260697341972731
              },
              "Betrayal": {
                "x": 0.25573721555965384,
                "y": 0.4088724813190393
              },
              "Shut Up and Sing": {
                "x": 0.5090945503764583,
                "y": 0.9307895945490127
              },
              "Meant To Be": {
                "x": 0.8692163042898542,
                "y": 0.057695617745493095
              },
              "The Right Man": {
                "x": 0.6648696591608955,
                "y": 0.2771631331049608
              },
              "Ten Minutes from Normal": {
                "x": 0.9388512412625218,
                "y": 0.4202011229550135
              },
              "Hillary's Scheme": {
                "x": 0.9903121819953321,
                "y": 0.8396316085367288
              },
              "The French Betrayal of America": {
                "x": 0.19290933687632567,
                "y": 0.5507513853687954
              },
              "Tales from the Left Coast": {
                "x": 0.899447997714133,
                "y": 0.9174842837776478
              },
              "Hating America": {
                "x": 0.6178053192816517,
                "y": 0.6820744741878634
              },
              "The Third Terrorist": {
                "x": 0.9153738228544446,
                "y": 0.8146601187658415
              },
              "Endgame": {
                "x": 0.9986165908231301,
                "y": 0.7337777626358047
              },
              "Spin Sisters": {
                "x": 0.10060633047656747,
                "y": 0.2743234705841764
              },
              "All the Shah's Men": {
                "x": 0.9420932357578089,
                "y": 0.9492478535538105
              },
              "Dangerous Dimplomacy": {
                "x": 0.09606122757327866,
                "y": 0.9439512536142676
              },
              "The Price of Loyalty": {
                "x": 0.769957924239728,
                "y": 0.46211034020112557
              },
              "House of Bush, House of Saud": {
                "x": 0.1641172083842761,
                "y": 0.4269046433584336
              },
              "The Death of Right and Wrong": {
                "x": 0.4216060655202712,
                "y": 0.21237739429193359
              },
              "Useful Idiots": {
                "x": 0.6212257515279458,
                "y": 0.5517787240613129
              },
              "The O'Reilly Factor": {
                "x": 0.5115069821068448,
                "y": 0.5906848204878906
              },
              "Let Freedom Ring": {
                "x": 0.0006169357586468933,
                "y": 0.6493680609846784
              },
              "Those Who Trespass": {
                "x": 0.7578625898470147,
                "y": 0.5424202312778309
              },
              "Bias": {
                "x": 0.18058146654834936,
                "y": 0.770062816692311
              },
              "Slander": {
                "x": 0.6094470559659438,
                "y": 0.5631239195755232
              },
              "The Savage Nation": {
                "x": 0.26073010035072935,
                "y": 0.5772736573669458
              },
              "Deliver Us from Evil": {
                "x": 0.7038043402655391,
                "y": 0.09967838113330135
              },
              "Give Me a Break": {
                "x": 0.47590275347985256,
                "y": 0.29950511065293983
              },
              "The Enemy Within": {
                "x": 0.11947044191900856,
                "y": 0.8150828388091269
              },
              "The Real America": {
                "x": 0.20171206606954153,
                "y": 0.8150722807688516
              },
              "Who's Looking Out for You?": {
                "x": 0.4261402739571129,
                "y": 0.5660478502537173
              },
              "The Official Handbook Vast Right Wing Conspiracy": {
                "x": 0.48101948371231,
                "y": 0.5822336811257578
              },
              "Power Plays": {
                "x": 0.0801704442776575,
                "y": 0.8889623985522224
              },
              "Arrogance": {
                "x": 0.5109301427074232,
                "y": 0.13142735228135569
              },
              "The Perfect Wife": {
                "x": 0.13303922571723575,
                "y": 0.10672651908263761
              },
              "The Bushes": {
                "x": 0.0940819123238585,
                "y": 0.9798003234134626
              },
              "Things Worth Fighting For": {
                "x": 0.7457129553372983,
                "y": 0.9227777212739288
              },
              "Surprise, Security, the American Experience": {
                "x": 0.8722176041398828,
                "y": 0.9137425090568857
              },
              "Allies": {
                "x": 0.638069963909722,
                "y": 0.02954554361096929
              },
              "Why Courage Matters": {
                "x": 0.4053518597597751,
                "y": 0.9196346204263028
              },
              "Hollywood Interrupted": {
                "x": 0.4313501350157177,
                "y": 0.3373279624240453
              },
              "Fighting Back": {
                "x": 0.13350797889140248,
                "y": 0.3716160093544817
              },
              "We Will Prevail": {
                "x": 0.8909586562636646,
                "y": 0.7804761440902693
              },
              "The Faith of George W Bush": {
                "x": 0.7703454231733452,
                "y": 0.9686263961710759
              },
              "Rise of the Vulcans": {
                "x": 0.4370240828837012,
                "y": 0.931766257114432
              },
              "Downsize This!": {
                "x": 0.9526145944822194,
                "y": 0.8502799941548226
              },
              "Stupid White Men": {
                "x": 0.8779764663382369,
                "y": 0.28667695377511426
              },
              "Rush Limbaugh Is a Big Fat Idiot": {
                "x": 0.08666782805599128,
                "y": 0.2989886219440247
              },
              "The Best Democracy Money Can Buy": {
                "x": 0.3410585072683317,
                "y": 0.6542493876747228
              },
              "The Culture of Fear": {
                "x": 0.1955905195104549,
                "y": 0.08803014045009362
              },
              "America Unbound": {
                "x": 0.5369673799630067,
                "y": 0.05200697601704009
              },
              "The Choice": {
                "x": 0.33234561936138485,
                "y": 0.21798961047452903
              },
              "The Great Unraveling": {
                "x": 0.4092041733941663,
                "y": 0.8906094477327494
              },
              "Rogue Nation": {
                "x": 0.9098890304369359,
                "y": 0.6390804198803987
              },
              "Soft Power": {
                "x": 0.08694571560555965,
                "y": 0.5327989938263605
              },
              "Colossus": {
                "x": 0.303291879600934,
                "y": 0.30467321437928235
              },
              "The Sorrows of Empire": {
                "x": 0.9654880339006194,
                "y": 0.46456103859458114
              },
              "Against All Enemies": {
                "x": 0.9905457657693613,
                "y": 0.3734914833920755
              },
              "American Dynasty": {
                "x": 0.9846899877176596,
                "y": 0.7087176306000762
              },
              "Big Lies": {
                "x": 0.995400247777354,
                "y": 0.8220316600354676
              },
              "The Lies of George W. Bush": {
                "x": 0.8537345095497052,
                "y": 0.3477818687987646
              },
              "Worse Than Watergate": {
                "x": 0.002520173828169123,
                "y": 0.37155097548884203
              },
              "Plan of Attack": {
                "x": 0.681654775995279,
                "y": 0.22589119062398147
              },
              "Bush at War": {
                "x": 0.16741275271244022,
                "y": 0.7091321212008789
              },
              "The New Pearl Harbor": {
                "x": 0.6089704252413558,
                "y": 0.0729123419694472
              },
              "Bushwomen": {
                "x": 0.30820623270812464,
                "y": 0.9184414208844136
              },
              "The Bubble of American Supremacy": {
                "x": 0.9832358566814454,
                "y": 0.954883282313717
              },
              "Living History": {
                "x": 0.6670957342420621,
                "y": 0.0012274136212179678
              },
              "The Politics of Truth": {
                "x": 0.7915892851341129,
                "y": 0.8152450105875191
              },
              "Fanatics and Fools": {
                "x": 0.1786763377304173,
                "y": 0.529026521014159
              },
              "Bushwhacked": {
                "x": 0.7367335326960082,
                "y": 0.4996813379824222
              },
              "Disarming Iraq": {
                "x": 0.6079758049027818,
                "y": 0.4147243460340405
              },
              "Lies and the Lying Liars Who Tell Them": {
                "x": 0.13822133094998462,
                "y": 0.41886767523198437
              },
              "MoveOn's 50 Ways to Love Your Country": {
                "x": 0.9682816642147358,
                "y": 0.5924228572300914
              },
              "The Buying of the President 2004": {
                "x": 0.7648170805446797,
                "y": 0.93325409529744
              },
              "Perfectly Legal": {
                "x": 0.6123738005831657,
                "y": 0.5110111826940507
              },
              "Hegemony or Survival": {
                "x": 0.49037196061553434,
                "y": 0.26763500475175406
              },
              "The Exception to the Rulers": {
                "x": 0.24933654204787642,
                "y": 0.7908953106874579
              },
              "Freethinkers": {
                "x": 0.2757712815880313,
                "y": 0.5792012349570547
              },
              "Had Enough?": {
                "x": 0.0035618562262673785,
                "y": 0.4507044670398784
              },
              "It's Still the Economy, Stupid!": {
                "x": 0.9041081809031541,
                "y": 0.042098036065156226
              },
              "We're Right They're Wrong": {
                "x": 0.7410964465528985,
                "y": 0.45122856636353814
              },
              "What Liberal Media?": {
                "x": 0.46224530640672784,
                "y": 0.8837484797393445
              },
              "The Clinton Wars": {
                "x": 0.019805458187992977,
                "y": 0.18056208415013902
              },
              "Weapons of Mass Deception": {
                "x": 0.4121407367902992,
                "y": 0.626088909796962
              },
              "Dude, Where's My Country?": {
                "x": 0.2703892041864883,
                "y": 0.6759003873954499
              },
              "Thieves in High Places": {
                "x": 0.061481996019859354,
                "y": 0.14160521962428996
              },
              "Shrub": {
                "x": 0.3366089801892906,
                "y": 0.5479522552199462
              },
              "Buck Up Suck Up": {
                "x": 0.6204030890820423,
                "y": 0.7384271259826234
              },
              "The Future of Freedom": {
                "x": 0.5611797323534832,
                "y": 0.06595448019459503
              },
              "Empire": {
                "x": 0.9533496230125323,
                "y": 0.199213340717245
              }
            },
            "layout_settings": null,
            "max_categorical_colors": 10,
            "name": null,
            "node_metrics": {
              "community": {
                "name": "louvain",
                "resolution": 1,
                "result": {
                  "1000 Years for Revenge": 0,
                  "Bush vs. the Beltway": 0,
                  "Charlie Wilson's War": 0,
                  "Losing Bin Laden": 1,
                  "Sleeping With the Devil": 0,
                  "The Man Who Warned America": 0,
                  "Why America Slept": 0,
                  "Ghost Wars": 0,
                  "A National Party No More": 1,
                  "Bush Country": 1,
                  "Dereliction of Duty": 1,
                  "Legacy": 1,
                  "Off with Their Heads": 1,
                  "Persecution": 1,
                  "Rumsfeld's War": 1,
                  "Breakdown": 1,
                  "Betrayal": 1,
                  "Shut Up and Sing": 1,
                  "Meant To Be": 1,
                  "The Right Man": 1,
                  "Ten Minutes from Normal": 1,
                  "Hillary's Scheme": 1,
                  "The French Betrayal of America": 1,
                  "Tales from the Left Coast": 1,
                  "Hating America": 1,
                  "The Third Terrorist": 1,
                  "Endgame": 1,
                  "Spin Sisters": 1,
                  "All the Shah's Men": 2,
                  "Dangerous Dimplomacy": 0,
                  "The Price of Loyalty": 2,
                  "House of Bush, House of Saud": 2,
                  "The Death of Right and Wrong": 1,
                  "Useful Idiots": 1,
                  "The O'Reilly Factor": 1,
                  "Let Freedom Ring": 1,
                  "Those Who Trespass": 1,
                  "Bias": 1,
                  "Slander": 1,
                  "The Savage Nation": 1,
                  "Deliver Us from Evil": 1,
                  "Give Me a Break": 1,
                  "The Enemy Within": 1,
                  "The Real America": 1,
                  "Who's Looking Out for You?": 1,
                  "The Official Handbook Vast Right Wing Conspiracy": 1,
                  "Power Plays": 1,
                  "Arrogance": 1,
                  "The Perfect Wife": 3,
                  "The Bushes": 3,
                  "Things Worth Fighting For": 1,
                  "Surprise, Security, the American Experience": 4,
                  "Allies": 4,
                  "Why Courage Matters": 1,
                  "Hollywood Interrupted": 1,
                  "Fighting Back": 1,
                  "We Will Prevail": 1,
                  "The Faith of George W Bush": 3,
                  "Rise of the Vulcans": 4,
                  "Downsize This!": 2,
                  "Stupid White Men": 2,
                  "Rush Limbaugh Is a Big Fat Idiot": 2,
                  "The Best Democracy Money Can Buy": 2,
                  "The Culture of Fear": 2,
                  "America Unbound": 4,
                  "The Choice": 4,
                  "The Great Unraveling": 2,
                  "Rogue Nation": 4,
                  "Soft Power": 4,
                  "Colossus": 4,
                  "The Sorrows of Empire": 2,
                  "Against All Enemies": 2,
                  "American Dynasty": 2,
                  "Big Lies": 2,
                  "The Lies of George W. Bush": 2,
                  "Worse Than Watergate": 2,
                  "Plan of Attack": 2,
                  "Bush at War": 2,
                  "The New Pearl Harbor": 2,
                  "Bushwomen": 2,
                  "The Bubble of American Supremacy": 2,
                  "Living History": 2,
                  "The Politics of Truth": 2,
                  "Fanatics and Fools": 2,
                  "Bushwhacked": 2,
                  "Disarming Iraq": 4,
                  "Lies and the Lying Liars Who Tell Them": 2,
                  "MoveOn's 50 Ways to Love Your Country": 2,
                  "The Buying of the President 2004": 2,
                  "Perfectly Legal": 2,
                  "Hegemony or Survival": 2,
                  "The Exception to the Rulers": 2,
                  "Freethinkers": 2,
                  "Had Enough?": 2,
                  "It's Still the Economy, Stupid!": 2,
                  "We're Right They're Wrong": 2,
                  "What Liberal Media?": 2,
                  "The Clinton Wars": 2,
                  "Weapons of Mass Deception": 2,
                  "Dude, Where's My Country?": 2,
                  "Thieves in High Places": 2,
                  "Shrub": 2,
                  "Buck Up Suck Up": 2,
                  "The Future of Freedom": 4,
                  "Empire": 4
                }
              }
            },
            "program_settings": {},
            "renderer_settings": {
              "zIndex": true,
              "enableEdgeClickEvents": false,
              "enableEdgeHoverEvents": false,
              "labelDensity": 1,
              "labelGridCellSize": 250,
              "renderEdgeLabels": true,
              "labelFont": "sans-serif",
              "hideEdgesOnMove": false,
              "defaultNodeType": "border",
              "defaultEdgeType": "rectangle"
            },
            "selected_edge": null,
            "selected_edge_category_values": null,
            "selected_node": null,
            "selected_node_category_values": null,
            "snapshot": null,
            "start_layout": false,
            "start_layout_for_seconds": null,
            "sync_key": null,
            "sync_targets": [
              "layout",
              "camera",
              "selection",
              "hover"
            ],
            "ui_settings": {
              "hideInfoPanel": false,
              "hideSearch": false
            },
            "visual_variables": {
              "nodeLabel": {
                "type": "raw",
                "attribute": "label",
                "default": null
              },
              "nodeLabelSize": {
                "type": "constant",
                "default": 12
              },
              "nodeLabelColor": {
                "type": "constant",
                "default": "#000"
              },
              "nodeColor": {
                "type": "category",
                "attribute": "community",
                "default": "#999"
              },
              "nodeColorSaturation": {
                "type": "disabled",
                "default": null
              },
              "nodeBorderColor": {
                "type": "dependent",
                "value": "node",
                "default": null
              },
              "nodeBorderRatio": {
                "type": "disabled",
                "default": null
              },
              "nodeBorderSize": {
                "type": "constant",
                "default": 1
              },
              "nodeSize": {
                "type": "continuous",
                "range": [
                  3,
                  15
                ],
                "attribute": "ipysigma_kwarg_node_size",
                "default": 3
              },
              "nodePictogram": {
                "type": "disabled",
                "default": null
              },
              "nodePictogramColor": {
                "type": "constant",
                "default": "#000"
              },
              "nodeHaloSize": {
                "type": "disabled",
                "default": null
              },
              "nodeHaloColor": {
                "type": "constant",
                "default": "red"
              },
              "nodeShape": {
                "type": "disabled",
                "default": null
              },
              "edgeLabel": {
                "type": "raw",
                "attribute": "label",
                "default": null
              },
              "edgeColor": {
                "type": "raw",
                "attribute": "color",
                "default": "#ccc"
              },
              "edgeSize": {
                "type": "continuous",
                "range": [
                  0.5,
                  10
                ],
                "attribute": "size",
                "default": 0.5
              },
              "edgeCurveness": {
                "type": "constant",
                "default": 0.25
              }
            }
          }
        },
        "b659e7e9c30641c480cf054cbed1c412": {
          "model_module": "ipysigma",
          "model_name": "SigmaModel",
          "model_module_version": "^0.24.1",
          "state": {
            "_dom_classes": [],
            "_model_module": "ipysigma",
            "_model_module_version": "^0.24.1",
            "_model_name": "SigmaModel",
            "_view_count": null,
            "_view_module": "ipysigma",
            "_view_module_version": "^0.24.1",
            "_view_name": "SigmaView",
            "background_color": "white",
            "camera_state": {
              "ratio": 1,
              "x": 0.5,
              "y": 0.5,
              "angle": 0
            },
            "clickable_edges": false,
            "data": {
              "nodes": [
                {
                  "key": 0,
                  "attributes": {}
                },
                {
                  "key": 1,
                  "attributes": {}
                },
                {
                  "key": 2,
                  "attributes": {}
                },
                {
                  "key": 3,
                  "attributes": {}
                },
                {
                  "key": 4,
                  "attributes": {}
                },
                {
                  "key": 5,
                  "attributes": {}
                },
                {
                  "key": 6,
                  "attributes": {}
                },
                {
                  "key": 7,
                  "attributes": {}
                },
                {
                  "key": 8,
                  "attributes": {}
                },
                {
                  "key": 9,
                  "attributes": {}
                },
                {
                  "key": 10,
                  "attributes": {}
                },
                {
                  "key": 11,
                  "attributes": {}
                },
                {
                  "key": 12,
                  "attributes": {}
                },
                {
                  "key": 13,
                  "attributes": {}
                },
                {
                  "key": 14,
                  "attributes": {}
                },
                {
                  "key": 15,
                  "attributes": {}
                },
                {
                  "key": 16,
                  "attributes": {}
                },
                {
                  "key": 17,
                  "attributes": {}
                },
                {
                  "key": 18,
                  "attributes": {}
                },
                {
                  "key": 19,
                  "attributes": {}
                },
                {
                  "key": 20,
                  "attributes": {}
                },
                {
                  "key": 21,
                  "attributes": {}
                },
                {
                  "key": 22,
                  "attributes": {}
                },
                {
                  "key": 23,
                  "attributes": {}
                },
                {
                  "key": 24,
                  "attributes": {}
                },
                {
                  "key": 25,
                  "attributes": {}
                },
                {
                  "key": 26,
                  "attributes": {}
                },
                {
                  "key": 27,
                  "attributes": {}
                },
                {
                  "key": 28,
                  "attributes": {}
                },
                {
                  "key": 29,
                  "attributes": {}
                },
                {
                  "key": 30,
                  "attributes": {}
                },
                {
                  "key": 31,
                  "attributes": {}
                },
                {
                  "key": 32,
                  "attributes": {}
                },
                {
                  "key": 33,
                  "attributes": {}
                },
                {
                  "key": 34,
                  "attributes": {}
                },
                {
                  "key": 35,
                  "attributes": {}
                },
                {
                  "key": 36,
                  "attributes": {}
                },
                {
                  "key": 37,
                  "attributes": {}
                },
                {
                  "key": 38,
                  "attributes": {}
                },
                {
                  "key": 39,
                  "attributes": {}
                },
                {
                  "key": 40,
                  "attributes": {}
                },
                {
                  "key": 41,
                  "attributes": {}
                },
                {
                  "key": 42,
                  "attributes": {}
                },
                {
                  "key": 43,
                  "attributes": {}
                },
                {
                  "key": 44,
                  "attributes": {}
                },
                {
                  "key": 45,
                  "attributes": {}
                },
                {
                  "key": 46,
                  "attributes": {}
                },
                {
                  "key": 47,
                  "attributes": {}
                },
                {
                  "key": 48,
                  "attributes": {}
                },
                {
                  "key": 49,
                  "attributes": {}
                },
                {
                  "key": 50,
                  "attributes": {}
                },
                {
                  "key": 51,
                  "attributes": {}
                },
                {
                  "key": 52,
                  "attributes": {}
                },
                {
                  "key": 53,
                  "attributes": {}
                },
                {
                  "key": 54,
                  "attributes": {}
                },
                {
                  "key": 55,
                  "attributes": {}
                },
                {
                  "key": 56,
                  "attributes": {}
                },
                {
                  "key": 57,
                  "attributes": {}
                },
                {
                  "key": 58,
                  "attributes": {}
                },
                {
                  "key": 59,
                  "attributes": {}
                },
                {
                  "key": 60,
                  "attributes": {}
                },
                {
                  "key": 61,
                  "attributes": {}
                },
                {
                  "key": 62,
                  "attributes": {}
                },
                {
                  "key": 63,
                  "attributes": {}
                },
                {
                  "key": 64,
                  "attributes": {}
                },
                {
                  "key": 65,
                  "attributes": {}
                },
                {
                  "key": 66,
                  "attributes": {}
                },
                {
                  "key": 67,
                  "attributes": {}
                },
                {
                  "key": 68,
                  "attributes": {}
                },
                {
                  "key": 69,
                  "attributes": {}
                },
                {
                  "key": 70,
                  "attributes": {}
                },
                {
                  "key": 71,
                  "attributes": {}
                },
                {
                  "key": 72,
                  "attributes": {}
                },
                {
                  "key": 73,
                  "attributes": {}
                },
                {
                  "key": 74,
                  "attributes": {}
                },
                {
                  "key": 75,
                  "attributes": {}
                },
                {
                  "key": 76,
                  "attributes": {}
                },
                {
                  "key": 77,
                  "attributes": {}
                },
                {
                  "key": 78,
                  "attributes": {}
                },
                {
                  "key": 79,
                  "attributes": {}
                },
                {
                  "key": 80,
                  "attributes": {}
                },
                {
                  "key": 81,
                  "attributes": {}
                },
                {
                  "key": 82,
                  "attributes": {}
                },
                {
                  "key": 83,
                  "attributes": {}
                },
                {
                  "key": 84,
                  "attributes": {}
                },
                {
                  "key": 85,
                  "attributes": {}
                },
                {
                  "key": 86,
                  "attributes": {}
                },
                {
                  "key": 87,
                  "attributes": {}
                },
                {
                  "key": 88,
                  "attributes": {}
                },
                {
                  "key": 89,
                  "attributes": {}
                },
                {
                  "key": 90,
                  "attributes": {}
                },
                {
                  "key": 91,
                  "attributes": {}
                },
                {
                  "key": 92,
                  "attributes": {}
                },
                {
                  "key": 93,
                  "attributes": {}
                },
                {
                  "key": 94,
                  "attributes": {}
                },
                {
                  "key": 95,
                  "attributes": {}
                },
                {
                  "key": 96,
                  "attributes": {}
                },
                {
                  "key": 97,
                  "attributes": {}
                },
                {
                  "key": 98,
                  "attributes": {}
                },
                {
                  "key": 99,
                  "attributes": {}
                },
                {
                  "key": 100,
                  "attributes": {}
                },
                {
                  "key": 101,
                  "attributes": {}
                },
                {
                  "key": 102,
                  "attributes": {}
                },
                {
                  "key": 103,
                  "attributes": {}
                },
                {
                  "key": 104,
                  "attributes": {}
                }
              ],
              "edges": [
                {
                  "source": 0,
                  "target": 1,
                  "attributes": {}
                },
                {
                  "source": 0,
                  "target": 104,
                  "attributes": {}
                },
                {
                  "source": 1,
                  "target": 2,
                  "attributes": {}
                },
                {
                  "source": 2,
                  "target": 3,
                  "attributes": {}
                },
                {
                  "source": 3,
                  "target": 4,
                  "attributes": {}
                },
                {
                  "source": 4,
                  "target": 5,
                  "attributes": {}
                },
                {
                  "source": 5,
                  "target": 6,
                  "attributes": {}
                },
                {
                  "source": 6,
                  "target": 7,
                  "attributes": {}
                },
                {
                  "source": 7,
                  "target": 8,
                  "attributes": {}
                },
                {
                  "source": 8,
                  "target": 9,
                  "attributes": {}
                },
                {
                  "source": 9,
                  "target": 10,
                  "attributes": {}
                },
                {
                  "source": 10,
                  "target": 11,
                  "attributes": {}
                },
                {
                  "source": 11,
                  "target": 101,
                  "attributes": {}
                },
                {
                  "source": 12,
                  "target": 13,
                  "attributes": {}
                },
                {
                  "source": 13,
                  "target": 14,
                  "attributes": {}
                },
                {
                  "source": 14,
                  "target": 15,
                  "attributes": {}
                },
                {
                  "source": 15,
                  "target": 16,
                  "attributes": {}
                },
                {
                  "source": 16,
                  "target": 17,
                  "attributes": {}
                },
                {
                  "source": 17,
                  "target": 44,
                  "attributes": {}
                },
                {
                  "source": 18,
                  "target": 19,
                  "attributes": {}
                },
                {
                  "source": 19,
                  "target": 20,
                  "attributes": {}
                },
                {
                  "source": 20,
                  "target": 21,
                  "attributes": {}
                },
                {
                  "source": 21,
                  "target": 22,
                  "attributes": {}
                },
                {
                  "source": 22,
                  "target": 23,
                  "attributes": {}
                },
                {
                  "source": 23,
                  "target": 24,
                  "attributes": {}
                },
                {
                  "source": 24,
                  "target": 25,
                  "attributes": {}
                },
                {
                  "source": 25,
                  "target": 26,
                  "attributes": {}
                },
                {
                  "source": 26,
                  "target": 27,
                  "attributes": {}
                },
                {
                  "source": 27,
                  "target": 28,
                  "attributes": {}
                },
                {
                  "source": 28,
                  "target": 29,
                  "attributes": {}
                },
                {
                  "source": 28,
                  "target": 73,
                  "attributes": {}
                },
                {
                  "source": 29,
                  "target": 30,
                  "attributes": {}
                },
                {
                  "source": 30,
                  "target": 31,
                  "attributes": {}
                },
                {
                  "source": 31,
                  "target": 32,
                  "attributes": {}
                },
                {
                  "source": 32,
                  "target": 33,
                  "attributes": {}
                },
                {
                  "source": 33,
                  "target": 34,
                  "attributes": {}
                },
                {
                  "source": 34,
                  "target": 38,
                  "attributes": {}
                },
                {
                  "source": 35,
                  "target": 36,
                  "attributes": {}
                },
                {
                  "source": 36,
                  "target": 37,
                  "attributes": {}
                },
                {
                  "source": 37,
                  "target": 38,
                  "attributes": {}
                },
                {
                  "source": 38,
                  "target": 39,
                  "attributes": {}
                },
                {
                  "source": 39,
                  "target": 40,
                  "attributes": {}
                },
                {
                  "source": 40,
                  "target": 41,
                  "attributes": {}
                },
                {
                  "source": 41,
                  "target": 42,
                  "attributes": {}
                },
                {
                  "source": 42,
                  "target": 43,
                  "attributes": {}
                },
                {
                  "source": 43,
                  "target": 44,
                  "attributes": {}
                },
                {
                  "source": 44,
                  "target": 45,
                  "attributes": {}
                },
                {
                  "source": 44,
                  "target": 68,
                  "attributes": {}
                },
                {
                  "source": 45,
                  "target": 46,
                  "attributes": {}
                },
                {
                  "source": 46,
                  "target": 47,
                  "attributes": {}
                },
                {
                  "source": 47,
                  "target": 48,
                  "attributes": {}
                },
                {
                  "source": 48,
                  "target": 49,
                  "attributes": {}
                },
                {
                  "source": 49,
                  "target": 50,
                  "attributes": {}
                },
                {
                  "source": 50,
                  "target": 51,
                  "attributes": {}
                },
                {
                  "source": 51,
                  "target": 52,
                  "attributes": {}
                },
                {
                  "source": 52,
                  "target": 53,
                  "attributes": {}
                },
                {
                  "source": 53,
                  "target": 54,
                  "attributes": {}
                },
                {
                  "source": 54,
                  "target": 55,
                  "attributes": {}
                },
                {
                  "source": 55,
                  "target": 56,
                  "attributes": {}
                },
                {
                  "source": 56,
                  "target": 57,
                  "attributes": {}
                },
                {
                  "source": 57,
                  "target": 58,
                  "attributes": {}
                },
                {
                  "source": 58,
                  "target": 59,
                  "attributes": {}
                },
                {
                  "source": 59,
                  "target": 60,
                  "attributes": {}
                },
                {
                  "source": 60,
                  "target": 61,
                  "attributes": {}
                },
                {
                  "source": 61,
                  "target": 62,
                  "attributes": {}
                },
                {
                  "source": 62,
                  "target": 63,
                  "attributes": {}
                },
                {
                  "source": 63,
                  "target": 64,
                  "attributes": {}
                },
                {
                  "source": 64,
                  "target": 65,
                  "attributes": {}
                },
                {
                  "source": 65,
                  "target": 66,
                  "attributes": {}
                },
                {
                  "source": 66,
                  "target": 67,
                  "attributes": {}
                },
                {
                  "source": 67,
                  "target": 68,
                  "attributes": {}
                },
                {
                  "source": 69,
                  "target": 70,
                  "attributes": {}
                },
                {
                  "source": 70,
                  "target": 71,
                  "attributes": {}
                },
                {
                  "source": 71,
                  "target": 72,
                  "attributes": {}
                },
                {
                  "source": 72,
                  "target": 73,
                  "attributes": {}
                },
                {
                  "source": 74,
                  "target": 75,
                  "attributes": {}
                },
                {
                  "source": 75,
                  "target": 76,
                  "attributes": {}
                },
                {
                  "source": 76,
                  "target": 77,
                  "attributes": {}
                },
                {
                  "source": 77,
                  "target": 78,
                  "attributes": {}
                },
                {
                  "source": 78,
                  "target": 79,
                  "attributes": {}
                },
                {
                  "source": 79,
                  "target": 80,
                  "attributes": {}
                },
                {
                  "source": 80,
                  "target": 81,
                  "attributes": {}
                },
                {
                  "source": 81,
                  "target": 82,
                  "attributes": {}
                },
                {
                  "source": 82,
                  "target": 83,
                  "attributes": {}
                },
                {
                  "source": 83,
                  "target": 84,
                  "attributes": {}
                },
                {
                  "source": 84,
                  "target": 85,
                  "attributes": {}
                },
                {
                  "source": 85,
                  "target": 86,
                  "attributes": {}
                },
                {
                  "source": 86,
                  "target": 87,
                  "attributes": {}
                },
                {
                  "source": 87,
                  "target": 88,
                  "attributes": {}
                },
                {
                  "source": 88,
                  "target": 89,
                  "attributes": {}
                },
                {
                  "source": 89,
                  "target": 90,
                  "attributes": {}
                },
                {
                  "source": 90,
                  "target": 91,
                  "attributes": {}
                },
                {
                  "source": 91,
                  "target": 92,
                  "attributes": {}
                },
                {
                  "source": 92,
                  "target": 93,
                  "attributes": {}
                },
                {
                  "source": 93,
                  "target": 94,
                  "attributes": {}
                },
                {
                  "source": 94,
                  "target": 95,
                  "attributes": {}
                },
                {
                  "source": 95,
                  "target": 96,
                  "attributes": {}
                },
                {
                  "source": 96,
                  "target": 97,
                  "attributes": {}
                },
                {
                  "source": 97,
                  "target": 98,
                  "attributes": {}
                },
                {
                  "source": 98,
                  "target": 99,
                  "attributes": {}
                },
                {
                  "source": 99,
                  "target": 100,
                  "attributes": {}
                },
                {
                  "source": 100,
                  "target": 101,
                  "attributes": {}
                },
                {
                  "source": 101,
                  "target": 102,
                  "attributes": {}
                },
                {
                  "source": 102,
                  "target": 103,
                  "attributes": {}
                },
                {
                  "source": 103,
                  "target": 104,
                  "attributes": {}
                }
              ],
              "options": {
                "type": "undirected",
                "multi": false
              }
            },
            "edge_weight": "weight",
            "height": "500px",
            "layout": {
              "0": {
                "x": 0.15428948876230283,
                "y": 0.25273986629959766
              },
              "1": {
                "x": 0.5762050567157171,
                "y": 0.8675055755423209
              },
              "2": {
                "x": 0.4923045147706771,
                "y": 0.7549328770522359
              },
              "3": {
                "x": 0.536310160588477,
                "y": 0.6607164922702594
              },
              "4": {
                "x": 0.17898877761019927,
                "y": 0.7423470400617883
              },
              "5": {
                "x": 0.7654569574501733,
                "y": 0.2409002179776765
              },
              "6": {
                "x": 0.8666364121438902,
                "y": 0.3612731622048909
              },
              "7": {
                "x": 0.3750092524652347,
                "y": 0.43898357292952234
              },
              "8": {
                "x": 0.686974614630136,
                "y": 0.44860358368004677
              },
              "9": {
                "x": 0.40559004582969205,
                "y": 0.8051142792853555
              },
              "10": {
                "x": 0.2755987667745767,
                "y": 0.4476774839346224
              },
              "11": {
                "x": 0.692315680725632,
                "y": 0.22264914856719326
              },
              "12": {
                "x": 0.6517501069627378,
                "y": 0.3711104926111498
              },
              "13": {
                "x": 0.2111467647774474,
                "y": 0.09947058602301147
              },
              "14": {
                "x": 0.599929496786351,
                "y": 0.0787483076490472
              },
              "15": {
                "x": 0.5204078971266999,
                "y": 0.5260697341972731
              },
              "16": {
                "x": 0.25573721555965384,
                "y": 0.4088724813190393
              },
              "17": {
                "x": 0.5090945503764583,
                "y": 0.9307895945490127
              },
              "18": {
                "x": 0.8692163042898542,
                "y": 0.057695617745493095
              },
              "19": {
                "x": 0.6648696591608955,
                "y": 0.2771631331049608
              },
              "20": {
                "x": 0.9388512412625218,
                "y": 0.4202011229550135
              },
              "21": {
                "x": 0.9903121819953321,
                "y": 0.8396316085367288
              },
              "22": {
                "x": 0.19290933687632567,
                "y": 0.5507513853687954
              },
              "23": {
                "x": 0.899447997714133,
                "y": 0.9174842837776478
              },
              "24": {
                "x": 0.6178053192816517,
                "y": 0.6820744741878634
              },
              "25": {
                "x": 0.9153738228544446,
                "y": 0.8146601187658415
              },
              "26": {
                "x": 0.9986165908231301,
                "y": 0.7337777626358047
              },
              "27": {
                "x": 0.10060633047656747,
                "y": 0.2743234705841764
              },
              "28": {
                "x": 0.9420932357578089,
                "y": 0.9492478535538105
              },
              "29": {
                "x": 0.09606122757327866,
                "y": 0.9439512536142676
              },
              "30": {
                "x": 0.769957924239728,
                "y": 0.46211034020112557
              },
              "31": {
                "x": 0.1641172083842761,
                "y": 0.4269046433584336
              },
              "32": {
                "x": 0.4216060655202712,
                "y": 0.21237739429193359
              },
              "33": {
                "x": 0.6212257515279458,
                "y": 0.5517787240613129
              },
              "34": {
                "x": 0.5115069821068448,
                "y": 0.5906848204878906
              },
              "35": {
                "x": 0.0006169357586468933,
                "y": 0.6493680609846784
              },
              "36": {
                "x": 0.7578625898470147,
                "y": 0.5424202312778309
              },
              "37": {
                "x": 0.18058146654834936,
                "y": 0.770062816692311
              },
              "38": {
                "x": 0.6094470559659438,
                "y": 0.5631239195755232
              },
              "39": {
                "x": 0.26073010035072935,
                "y": 0.5772736573669458
              },
              "40": {
                "x": 0.7038043402655391,
                "y": 0.09967838113330135
              },
              "41": {
                "x": 0.47590275347985256,
                "y": 0.29950511065293983
              },
              "42": {
                "x": 0.11947044191900856,
                "y": 0.8150828388091269
              },
              "43": {
                "x": 0.20171206606954153,
                "y": 0.8150722807688516
              },
              "44": {
                "x": 0.4261402739571129,
                "y": 0.5660478502537173
              },
              "45": {
                "x": 0.48101948371231,
                "y": 0.5822336811257578
              },
              "46": {
                "x": 0.0801704442776575,
                "y": 0.8889623985522224
              },
              "47": {
                "x": 0.5109301427074232,
                "y": 0.13142735228135569
              },
              "48": {
                "x": 0.13303922571723575,
                "y": 0.10672651908263761
              },
              "49": {
                "x": 0.0940819123238585,
                "y": 0.9798003234134626
              },
              "50": {
                "x": 0.7457129553372983,
                "y": 0.9227777212739288
              },
              "51": {
                "x": 0.8722176041398828,
                "y": 0.9137425090568857
              },
              "52": {
                "x": 0.638069963909722,
                "y": 0.02954554361096929
              },
              "53": {
                "x": 0.4053518597597751,
                "y": 0.9196346204263028
              },
              "54": {
                "x": 0.4313501350157177,
                "y": 0.3373279624240453
              },
              "55": {
                "x": 0.13350797889140248,
                "y": 0.3716160093544817
              },
              "56": {
                "x": 0.8909586562636646,
                "y": 0.7804761440902693
              },
              "57": {
                "x": 0.7703454231733452,
                "y": 0.9686263961710759
              },
              "58": {
                "x": 0.4370240828837012,
                "y": 0.931766257114432
              },
              "59": {
                "x": 0.9526145944822194,
                "y": 0.8502799941548226
              },
              "60": {
                "x": 0.8779764663382369,
                "y": 0.28667695377511426
              },
              "61": {
                "x": 0.08666782805599128,
                "y": 0.2989886219440247
              },
              "62": {
                "x": 0.3410585072683317,
                "y": 0.6542493876747228
              },
              "63": {
                "x": 0.1955905195104549,
                "y": 0.08803014045009362
              },
              "64": {
                "x": 0.5369673799630067,
                "y": 0.05200697601704009
              },
              "65": {
                "x": 0.33234561936138485,
                "y": 0.21798961047452903
              },
              "66": {
                "x": 0.4092041733941663,
                "y": 0.8906094477327494
              },
              "67": {
                "x": 0.9098890304369359,
                "y": 0.6390804198803987
              },
              "68": {
                "x": 0.08694571560555965,
                "y": 0.5327989938263605
              },
              "69": {
                "x": 0.303291879600934,
                "y": 0.30467321437928235
              },
              "70": {
                "x": 0.9654880339006194,
                "y": 0.46456103859458114
              },
              "71": {
                "x": 0.9905457657693613,
                "y": 0.3734914833920755
              },
              "72": {
                "x": 0.9846899877176596,
                "y": 0.7087176306000762
              },
              "73": {
                "x": 0.995400247777354,
                "y": 0.8220316600354676
              },
              "74": {
                "x": 0.8537345095497052,
                "y": 0.3477818687987646
              },
              "75": {
                "x": 0.002520173828169123,
                "y": 0.37155097548884203
              },
              "76": {
                "x": 0.681654775995279,
                "y": 0.22589119062398147
              },
              "77": {
                "x": 0.16741275271244022,
                "y": 0.7091321212008789
              },
              "78": {
                "x": 0.6089704252413558,
                "y": 0.0729123419694472
              },
              "79": {
                "x": 0.30820623270812464,
                "y": 0.9184414208844136
              },
              "80": {
                "x": 0.9832358566814454,
                "y": 0.954883282313717
              },
              "81": {
                "x": 0.6670957342420621,
                "y": 0.0012274136212179678
              },
              "82": {
                "x": 0.7915892851341129,
                "y": 0.8152450105875191
              },
              "83": {
                "x": 0.1786763377304173,
                "y": 0.529026521014159
              },
              "84": {
                "x": 0.7367335326960082,
                "y": 0.4996813379824222
              },
              "85": {
                "x": 0.6079758049027818,
                "y": 0.4147243460340405
              },
              "86": {
                "x": 0.13822133094998462,
                "y": 0.41886767523198437
              },
              "87": {
                "x": 0.9682816642147358,
                "y": 0.5924228572300914
              },
              "88": {
                "x": 0.7648170805446797,
                "y": 0.93325409529744
              },
              "89": {
                "x": 0.6123738005831657,
                "y": 0.5110111826940507
              },
              "90": {
                "x": 0.49037196061553434,
                "y": 0.26763500475175406
              },
              "91": {
                "x": 0.24933654204787642,
                "y": 0.7908953106874579
              },
              "92": {
                "x": 0.2757712815880313,
                "y": 0.5792012349570547
              },
              "93": {
                "x": 0.0035618562262673785,
                "y": 0.4507044670398784
              },
              "94": {
                "x": 0.9041081809031541,
                "y": 0.042098036065156226
              },
              "95": {
                "x": 0.7410964465528985,
                "y": 0.45122856636353814
              },
              "96": {
                "x": 0.46224530640672784,
                "y": 0.8837484797393445
              },
              "97": {
                "x": 0.019805458187992977,
                "y": 0.18056208415013902
              },
              "98": {
                "x": 0.4121407367902992,
                "y": 0.626088909796962
              },
              "99": {
                "x": 0.2703892041864883,
                "y": 0.6759003873954499
              },
              "100": {
                "x": 0.061481996019859354,
                "y": 0.14160521962428996
              },
              "101": {
                "x": 0.3366089801892906,
                "y": 0.5479522552199462
              },
              "102": {
                "x": 0.6204030890820423,
                "y": 0.7384271259826234
              },
              "103": {
                "x": 0.5611797323534832,
                "y": 0.06595448019459503
              },
              "104": {
                "x": 0.9533496230125323,
                "y": 0.199213340717245
              }
            },
            "layout_settings": null,
            "max_categorical_colors": 10,
            "name": null,
            "node_metrics": {},
            "program_settings": {},
            "renderer_settings": {
              "zIndex": true,
              "enableEdgeClickEvents": false,
              "enableEdgeHoverEvents": false,
              "labelDensity": 1,
              "labelGridCellSize": 250,
              "renderEdgeLabels": true,
              "labelFont": "sans-serif",
              "hideEdgesOnMove": false,
              "defaultNodeType": "point",
              "defaultEdgeType": "rectangle"
            },
            "selected_edge": null,
            "selected_edge_category_values": null,
            "selected_node": null,
            "selected_node_category_values": null,
            "snapshot": null,
            "start_layout": false,
            "start_layout_for_seconds": null,
            "sync_key": null,
            "sync_targets": [
              "layout",
              "camera",
              "selection",
              "hover"
            ],
            "ui_settings": {
              "hideInfoPanel": false,
              "hideSearch": false
            },
            "visual_variables": {
              "nodeLabel": {
                "type": "raw",
                "attribute": "label",
                "default": null
              },
              "nodeLabelSize": {
                "type": "constant",
                "default": 12
              },
              "nodeLabelColor": {
                "type": "constant",
                "default": "#000"
              },
              "nodeColor": {
                "type": "raw",
                "attribute": "color",
                "default": "#999"
              },
              "nodeColorSaturation": {
                "type": "disabled",
                "default": null
              },
              "nodeBorderColor": {
                "type": "disabled",
                "default": null
              },
              "nodeBorderRatio": {
                "type": "disabled",
                "default": null
              },
              "nodeBorderSize": {
                "type": "constant",
                "default": 1
              },
              "nodeSize": {
                "type": "continuous",
                "range": [
                  3,
                  15
                ],
                "attribute": "size",
                "default": 3
              },
              "nodePictogram": {
                "type": "disabled",
                "default": null
              },
              "nodePictogramColor": {
                "type": "constant",
                "default": "#000"
              },
              "nodeHaloSize": {
                "type": "disabled",
                "default": null
              },
              "nodeHaloColor": {
                "type": "constant",
                "default": "red"
              },
              "nodeShape": {
                "type": "disabled",
                "default": null
              },
              "edgeLabel": {
                "type": "raw",
                "attribute": "label",
                "default": null
              },
              "edgeColor": {
                "type": "raw",
                "attribute": "color",
                "default": "#ccc"
              },
              "edgeSize": {
                "type": "continuous",
                "range": [
                  0.5,
                  10
                ],
                "attribute": "size",
                "default": 0.5
              },
              "edgeCurveness": {
                "type": "constant",
                "default": 0.25
              }
            }
          }
        }
      }
    }
  },
  "nbformat": 4,
  "nbformat_minor": 0
}